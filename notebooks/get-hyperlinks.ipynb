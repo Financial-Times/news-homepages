{
 "cells": [
  {
   "cell_type": "code",
   "execution_count": 1,
   "id": "bb8dd1ce-cf4e-4852-bf7e-584256f03592",
   "metadata": {},
   "outputs": [],
   "source": [
    "import sys\n",
    "from pathlib import Path"
   ]
  },
  {
   "cell_type": "code",
   "execution_count": 2,
   "id": "555c0cd0-0bea-4f98-b430-c3382ea90bac",
   "metadata": {},
   "outputs": [],
   "source": [
    "import storysniffer\n",
    "import pandas as pd\n",
    "import altair as alt"
   ]
  },
  {
   "cell_type": "code",
   "execution_count": 3,
   "id": "e4b0a58f-640a-4735-baf9-0aefc2ba8676",
   "metadata": {},
   "outputs": [],
   "source": [
    "this_dir = Path(\"__file__\").parent.absolute()"
   ]
  },
  {
   "cell_type": "code",
   "execution_count": 4,
   "id": "b405d066-f310-4444-89db-2428e7d726e8",
   "metadata": {},
   "outputs": [],
   "source": [
    "sys.path.append(str(this_dir.parent / \"newshomepages\"))"
   ]
  },
  {
   "cell_type": "code",
   "execution_count": 5,
   "id": "96c0ea96-dec8-4461-a197-195f001987f6",
   "metadata": {},
   "outputs": [],
   "source": [
    "extracts_dir = this_dir.parent / \"extracts\" / \"csv\""
   ]
  },
  {
   "cell_type": "code",
   "execution_count": 6,
   "id": "4fc6f705-e567-4423-b80b-6839cc98363a",
   "metadata": {},
   "outputs": [],
   "source": [
    "analysis_dir = this_dir.parent / \"_analysis\""
   ]
  },
  {
   "cell_type": "code",
   "execution_count": 7,
   "id": "2b9eebd9-1fd0-4a83-9ad0-141c0b320792",
   "metadata": {},
   "outputs": [],
   "source": [
    "df = pd.read_csv(analysis_dir / \"drudge-hyperlinks.csv\", dtype=str)"
   ]
  },
  {
   "cell_type": "code",
   "execution_count": 8,
   "id": "cc84bb86-466d-445b-b2f5-25354e331939",
   "metadata": {},
   "outputs": [],
   "source": [
    "df = df[(~pd.isnull(df.url)) & (~pd.isnull(df.text))].copy()"
   ]
  },
  {
   "cell_type": "code",
   "execution_count": 9,
   "id": "fc733e39-4c6f-4a80-bc4d-89b4240ab87b",
   "metadata": {},
   "outputs": [
    {
     "name": "stdout",
     "output_type": "stream",
     "text": [
      "<class 'pandas.core.frame.DataFrame'>\n",
      "Int64Index: 62696 entries, 0 to 62972\n",
      "Data columns (total 6 columns):\n",
      " #   Column           Non-Null Count  Dtype \n",
      "---  ------           --------------  ----- \n",
      " 0   text             62696 non-null  object\n",
      " 1   url              62696 non-null  object\n",
      " 2   site_handle      62696 non-null  object\n",
      " 3   item_identifier  62696 non-null  object\n",
      " 4   file_timestamp   62696 non-null  object\n",
      " 5   file_url         62696 non-null  object\n",
      "dtypes: object(6)\n",
      "memory usage: 3.3+ MB\n"
     ]
    }
   ],
   "source": [
    "df.info()"
   ]
  },
  {
   "cell_type": "code",
   "execution_count": 10,
   "id": "53d780cb-75de-4fc0-8bfe-e7dd4a43f5ed",
   "metadata": {},
   "outputs": [
    {
     "data": {
      "text/html": [
       "<div>\n",
       "<style scoped>\n",
       "    .dataframe tbody tr th:only-of-type {\n",
       "        vertical-align: middle;\n",
       "    }\n",
       "\n",
       "    .dataframe tbody tr th {\n",
       "        vertical-align: top;\n",
       "    }\n",
       "\n",
       "    .dataframe thead th {\n",
       "        text-align: right;\n",
       "    }\n",
       "</style>\n",
       "<table border=\"1\" class=\"dataframe\">\n",
       "  <thead>\n",
       "    <tr style=\"text-align: right;\">\n",
       "      <th></th>\n",
       "      <th>text</th>\n",
       "      <th>url</th>\n",
       "      <th>site_handle</th>\n",
       "      <th>item_identifier</th>\n",
       "      <th>file_timestamp</th>\n",
       "      <th>file_url</th>\n",
       "    </tr>\n",
       "  </thead>\n",
       "  <tbody>\n",
       "    <tr>\n",
       "      <th>0</th>\n",
       "      <td>POLL: Putin popularity UP since start of confl...</td>\n",
       "      <td>https://extra.cw/putins-popularity-up-since-st...</td>\n",
       "      <td>drudge</td>\n",
       "      <td>drudge-2022</td>\n",
       "      <td>2022-03-31 14:42:51</td>\n",
       "      <td>https://archive.org/download/drudge-2022/drudg...</td>\n",
       "    </tr>\n",
       "    <tr>\n",
       "      <th>1</th>\n",
       "      <td>Lied to by advisers?</td>\n",
       "      <td>https://nypost.com/2022/03/30/putin-being-lied...</td>\n",
       "      <td>drudge</td>\n",
       "      <td>drudge-2022</td>\n",
       "      <td>2022-03-31 14:42:51</td>\n",
       "      <td>https://archive.org/download/drudge-2022/drudg...</td>\n",
       "    </tr>\n",
       "    <tr>\n",
       "      <th>2</th>\n",
       "      <td>UK spy chief says soldiers disobey orders...</td>\n",
       "      <td>https://apnews.com/article/russia-ukraine-puti...</td>\n",
       "      <td>drudge</td>\n",
       "      <td>drudge-2022</td>\n",
       "      <td>2022-03-31 14:42:51</td>\n",
       "      <td>https://archive.org/download/drudge-2022/drudg...</td>\n",
       "    </tr>\n",
       "    <tr>\n",
       "      <th>3</th>\n",
       "      <td>Russia drafts 134,500 conscripts...</td>\n",
       "      <td>https://www.usnews.com/news/world/articles/202...</td>\n",
       "      <td>drudge</td>\n",
       "      <td>drudge-2022</td>\n",
       "      <td>2022-03-31 14:42:51</td>\n",
       "      <td>https://archive.org/download/drudge-2022/drudg...</td>\n",
       "    </tr>\n",
       "    <tr>\n",
       "      <th>4</th>\n",
       "      <td>Troops Suffer 'Acute Radiation Sickness' After...</td>\n",
       "      <td>https://news.yahoo.com/russian-troops-suffer-a...</td>\n",
       "      <td>drudge</td>\n",
       "      <td>drudge-2022</td>\n",
       "      <td>2022-03-31 14:42:51</td>\n",
       "      <td>https://archive.org/download/drudge-2022/drudg...</td>\n",
       "    </tr>\n",
       "  </tbody>\n",
       "</table>\n",
       "</div>"
      ],
      "text/plain": [
       "                                                text  \\\n",
       "0  POLL: Putin popularity UP since start of confl...   \n",
       "1                               Lied to by advisers?   \n",
       "2       UK spy chief says soldiers disobey orders...   \n",
       "3                Russia drafts 134,500 conscripts...   \n",
       "4  Troops Suffer 'Acute Radiation Sickness' After...   \n",
       "\n",
       "                                                 url site_handle  \\\n",
       "0  https://extra.cw/putins-popularity-up-since-st...      drudge   \n",
       "1  https://nypost.com/2022/03/30/putin-being-lied...      drudge   \n",
       "2  https://apnews.com/article/russia-ukraine-puti...      drudge   \n",
       "3  https://www.usnews.com/news/world/articles/202...      drudge   \n",
       "4  https://news.yahoo.com/russian-troops-suffer-a...      drudge   \n",
       "\n",
       "  item_identifier       file_timestamp  \\\n",
       "0     drudge-2022  2022-03-31 14:42:51   \n",
       "1     drudge-2022  2022-03-31 14:42:51   \n",
       "2     drudge-2022  2022-03-31 14:42:51   \n",
       "3     drudge-2022  2022-03-31 14:42:51   \n",
       "4     drudge-2022  2022-03-31 14:42:51   \n",
       "\n",
       "                                            file_url  \n",
       "0  https://archive.org/download/drudge-2022/drudg...  \n",
       "1  https://archive.org/download/drudge-2022/drudg...  \n",
       "2  https://archive.org/download/drudge-2022/drudg...  \n",
       "3  https://archive.org/download/drudge-2022/drudg...  \n",
       "4  https://archive.org/download/drudge-2022/drudg...  "
      ]
     },
     "execution_count": 10,
     "metadata": {},
     "output_type": "execute_result"
    }
   ],
   "source": [
    "df.head()"
   ]
  },
  {
   "cell_type": "code",
   "execution_count": 11,
   "id": "c93114e2-d236-42bc-97e8-a15624940503",
   "metadata": {},
   "outputs": [],
   "source": [
    "unique_df = df.groupby([\"text\", \"url\"]).size().rename(\"count\").reset_index()"
   ]
  },
  {
   "cell_type": "code",
   "execution_count": 12,
   "id": "dd5b5f30-426d-4b20-a0a5-990024688aa7",
   "metadata": {},
   "outputs": [
    {
     "name": "stderr",
     "output_type": "stream",
     "text": [
      "/home/palewire/.local/share/virtualenvs/news-homepages-Qlfa7zLV/lib/python3.9/site-packages/sklearn/base.py:329: UserWarning: Trying to unpickle estimator CountVectorizer from version 1.1.1 when using version 1.1.2. This might lead to breaking code or invalid results. Use at your own risk. For more info please refer to:\n",
      "https://scikit-learn.org/stable/model_persistence.html#security-maintainability-limitations\n",
      "  warnings.warn(\n",
      "/home/palewire/.local/share/virtualenvs/news-homepages-Qlfa7zLV/lib/python3.9/site-packages/sklearn/base.py:329: UserWarning: Trying to unpickle estimator FunctionTransformer from version 1.1.1 when using version 1.1.2. This might lead to breaking code or invalid results. Use at your own risk. For more info please refer to:\n",
      "https://scikit-learn.org/stable/model_persistence.html#security-maintainability-limitations\n",
      "  warnings.warn(\n",
      "/home/palewire/.local/share/virtualenvs/news-homepages-Qlfa7zLV/lib/python3.9/site-packages/sklearn/base.py:329: UserWarning: Trying to unpickle estimator Pipeline from version 1.1.1 when using version 1.1.2. This might lead to breaking code or invalid results. Use at your own risk. For more info please refer to:\n",
      "https://scikit-learn.org/stable/model_persistence.html#security-maintainability-limitations\n",
      "  warnings.warn(\n",
      "/home/palewire/.local/share/virtualenvs/news-homepages-Qlfa7zLV/lib/python3.9/site-packages/sklearn/base.py:329: UserWarning: Trying to unpickle estimator FeatureUnion from version 1.1.1 when using version 1.1.2. This might lead to breaking code or invalid results. Use at your own risk. For more info please refer to:\n",
      "https://scikit-learn.org/stable/model_persistence.html#security-maintainability-limitations\n",
      "  warnings.warn(\n",
      "/home/palewire/.local/share/virtualenvs/news-homepages-Qlfa7zLV/lib/python3.9/site-packages/sklearn/base.py:329: UserWarning: Trying to unpickle estimator GaussianNB from version 1.1.1 when using version 1.1.2. This might lead to breaking code or invalid results. Use at your own risk. For more info please refer to:\n",
      "https://scikit-learn.org/stable/model_persistence.html#security-maintainability-limitations\n",
      "  warnings.warn(\n"
     ]
    }
   ],
   "source": [
    "sniffer = storysniffer.StorySniffer()"
   ]
  },
  {
   "cell_type": "code",
   "execution_count": 13,
   "id": "abf8872b-b833-4ecb-8b20-6bfb3854fc9d",
   "metadata": {},
   "outputs": [],
   "source": [
    "unique_df['is_story'] = unique_df.apply(lambda x: sniffer.guess(x['url'], x['text']), axis=1)"
   ]
  },
  {
   "cell_type": "code",
   "execution_count": 14,
   "id": "c3d19231-de78-4ec4-b2ec-49289f591a3a",
   "metadata": {},
   "outputs": [
    {
     "data": {
      "text/plain": [
       "True     8582\n",
       "False     315\n",
       "Name: is_story, dtype: int64"
      ]
     },
     "execution_count": 14,
     "metadata": {},
     "output_type": "execute_result"
    }
   ],
   "source": [
    "unique_df.is_story.value_counts()"
   ]
  },
  {
   "cell_type": "code",
   "execution_count": 15,
   "id": "6420bb80-2119-42a5-947d-446e9b667858",
   "metadata": {},
   "outputs": [
    {
     "data": {
      "text/plain": [
       "True     0.964595\n",
       "False    0.035405\n",
       "Name: is_story, dtype: float64"
      ]
     },
     "execution_count": 15,
     "metadata": {},
     "output_type": "execute_result"
    }
   ],
   "source": [
    "unique_df.is_story.value_counts(normalize=True)"
   ]
  },
  {
   "cell_type": "code",
   "execution_count": 16,
   "id": "8f0307ff-9fc0-4682-aa11-e00144321da1",
   "metadata": {},
   "outputs": [],
   "source": [
    "unique_df.to_csv(\"./drudge-hyperlink-counts.csv\", index=False)"
   ]
  }
 ],
 "metadata": {
  "kernelspec": {
   "display_name": "Python 3 (ipykernel)",
   "language": "python",
   "name": "python3"
  },
  "language_info": {
   "codemirror_mode": {
    "name": "ipython",
    "version": 3
   },
   "file_extension": ".py",
   "mimetype": "text/x-python",
   "name": "python",
   "nbconvert_exporter": "python",
   "pygments_lexer": "ipython3",
   "version": "3.9.2"
  }
 },
 "nbformat": 4,
 "nbformat_minor": 5
}
