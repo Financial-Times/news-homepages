{
 "cells": [
  {
   "cell_type": "markdown",
   "id": "b40b569e-180b-4364-b786-b975a3eda862",
   "metadata": {},
   "source": [
    "# Analyze Drudge hyperlinks"
   ]
  },
  {
   "cell_type": "code",
   "execution_count": 1,
   "id": "f4cbcfc7-edf9-4697-873d-1b0f1c5e58ee",
   "metadata": {},
   "outputs": [],
   "source": [
    "import re\n",
    "import sys\n",
    "from pathlib import Path\n",
    "from urllib.parse import urlparse"
   ]
  },
  {
   "cell_type": "code",
   "execution_count": 2,
   "id": "554b0ad8-5862-4551-badb-80eda4cb8099",
   "metadata": {},
   "outputs": [],
   "source": [
    "import tldextract\n",
    "import storysniffer"
   ]
  },
  {
   "cell_type": "code",
   "execution_count": 3,
   "id": "2d442619-e8c1-438b-ae86-1541d82028a0",
   "metadata": {},
   "outputs": [],
   "source": [
    "import numpy as np\n",
    "import pandas as pd\n",
    "import altair as alt"
   ]
  },
  {
   "cell_type": "code",
   "execution_count": 4,
   "id": "796151b0-83c5-41d5-a30d-75c68feb464e",
   "metadata": {},
   "outputs": [
    {
     "name": "stderr",
     "output_type": "stream",
     "text": [
      "/home/palewire/.local/share/virtualenvs/news-homepages-Qlfa7zLV/lib/python3.9/site-packages/tqdm/auto.py:22: TqdmWarning: IProgress not found. Please update jupyter and ipywidgets. See https://ipywidgets.readthedocs.io/en/stable/user_install.html\n",
      "  from .autonotebook import tqdm as notebook_tqdm\n"
     ]
    }
   ],
   "source": [
    "import spacy\n",
    "from spacy import displacy"
   ]
  },
  {
   "cell_type": "code",
   "execution_count": 5,
   "id": "ab524b99-f99f-4af2-9ae1-cc3206c2f626",
   "metadata": {},
   "outputs": [],
   "source": [
    "nlp = spacy.load(\"en_core_web_sm\")"
   ]
  },
  {
   "cell_type": "code",
   "execution_count": 6,
   "id": "9d7e9655-65bb-4d4b-a14d-6f86e350a21d",
   "metadata": {},
   "outputs": [],
   "source": [
    "this_dir = Path(\"__file__\").parent.absolute()\n",
    "sys.path.append(this_dir.parent)\n",
    "sys.path.append(str(this_dir.parent / \"newshomepages\"))"
   ]
  },
  {
   "cell_type": "code",
   "execution_count": 7,
   "id": "f20bd389-d6dd-4e14-a512-3424785168e6",
   "metadata": {},
   "outputs": [],
   "source": [
    "import altair_theme"
   ]
  },
  {
   "cell_type": "code",
   "execution_count": 8,
   "id": "1f96e89a-ce7f-4000-8d48-fa8849c8592e",
   "metadata": {},
   "outputs": [
    {
     "data": {
      "text/plain": [
       "ThemeRegistry.enable('palewire')"
      ]
     },
     "execution_count": 8,
     "metadata": {},
     "output_type": "execute_result"
    }
   ],
   "source": [
    "alt.themes.register('palewire', altair_theme.theme)\n",
    "alt.themes.enable('palewire')"
   ]
  },
  {
   "cell_type": "code",
   "execution_count": 9,
   "id": "df05fb03-c4a4-4fa1-b90b-ddd240f26d3e",
   "metadata": {},
   "outputs": [],
   "source": [
    "extracts_dir = this_dir.parent / \"extracts\" / \"csv\""
   ]
  },
  {
   "cell_type": "code",
   "execution_count": 10,
   "id": "5394b646-48ff-4eca-a4ce-11fdc4150dc8",
   "metadata": {},
   "outputs": [],
   "source": [
    "analysis_dir = this_dir.parent / \"_analysis\""
   ]
  },
  {
   "cell_type": "markdown",
   "id": "6f095bbd-d812-4c87-9aff-460737c1092b",
   "metadata": {},
   "source": [
    "Read in the sample data"
   ]
  },
  {
   "cell_type": "code",
   "execution_count": 11,
   "id": "bf3dcccc-b3eb-418a-abe9-2fd193ee3265",
   "metadata": {},
   "outputs": [],
   "source": [
    "df = pd.read_csv(\n",
    "    extracts_dir / \"drudge-hyperlinks-sample.csv\",\n",
    "    usecols=[\n",
    "        'handle',\n",
    "        'file_name',\n",
    "        'date',\n",
    "        'text',\n",
    "        'url',\n",
    "    ],\n",
    "    dtype=str,\n",
    "    parse_dates=[\"date\"]\n",
    ")"
   ]
  },
  {
   "cell_type": "markdown",
   "id": "e0df21ef-4dca-4ecb-8a3c-5ef158edcb64",
   "metadata": {},
   "source": [
    "Guess links with `storysniffer`"
   ]
  },
  {
   "cell_type": "code",
   "execution_count": 12,
   "id": "e3b18b8a-2ad3-4092-8e43-d90b66035153",
   "metadata": {},
   "outputs": [],
   "source": [
    "links_df = df.groupby([\"text\", \"url\"]).agg({\n",
    "    \"handle\": \"size\",\n",
    "    \"date\": \"min\"\n",
    "}).rename(columns={\"handle\": \"n\", \"date\": \"earlier_date\"}).reset_index()"
   ]
  },
  {
   "cell_type": "code",
   "execution_count": 14,
   "id": "3150bf1e-823f-4a66-9890-9ad0e6787548",
   "metadata": {},
   "outputs": [],
   "source": [
    "sniffer = storysniffer.StorySniffer()"
   ]
  },
  {
   "cell_type": "code",
   "execution_count": 15,
   "id": "7598d595-769a-4655-80ed-e3ed6ae2cb64",
   "metadata": {},
   "outputs": [],
   "source": [
    "links_df['is_story'] = links_df.apply(lambda x: sniffer.guess(x['url'], text=x['text']), axis=1)"
   ]
  },
  {
   "cell_type": "code",
   "execution_count": 16,
   "id": "c9a4d7a3-73ff-48ab-a145-6f34536f7c31",
   "metadata": {},
   "outputs": [
    {
     "data": {
      "text/plain": [
       "True     6835\n",
       "False     259\n",
       "Name: is_story, dtype: int64"
      ]
     },
     "execution_count": 16,
     "metadata": {},
     "output_type": "execute_result"
    }
   ],
   "source": [
    "links_df.is_story.value_counts()"
   ]
  },
  {
   "cell_type": "code",
   "execution_count": 17,
   "id": "aafa59cc-5fc1-4430-9f22-eec30de5f98a",
   "metadata": {},
   "outputs": [
    {
     "data": {
      "text/plain": [
       "True     0.96349\n",
       "False    0.03651\n",
       "Name: is_story, dtype: float64"
      ]
     },
     "execution_count": 17,
     "metadata": {},
     "output_type": "execute_result"
    }
   ],
   "source": [
    "links_df.is_story.value_counts(normalize=True)"
   ]
  },
  {
   "cell_type": "code",
   "execution_count": 18,
   "id": "af3336d3-ce9e-44cf-808b-eb5e30d0db04",
   "metadata": {},
   "outputs": [],
   "source": [
    "links_df.to_csv(\"./drudge-hyperlinks-storysniffer-guesses.csv\", index=False)"
   ]
  },
  {
   "cell_type": "markdown",
   "id": "84c89500-b380-4872-a867-c8ac465ab544",
   "metadata": {},
   "source": [
    "Make some manual fixes"
   ]
  },
  {
   "cell_type": "code",
   "execution_count": 19,
   "id": "9ef3ce18-2abe-4fd5-a904-c9d65e67840e",
   "metadata": {},
   "outputs": [],
   "source": [
    "blacklist = [\n",
    "    \"/privacy/\",\n",
    "]"
   ]
  },
  {
   "cell_type": "code",
   "execution_count": 20,
   "id": "37abc32b-8658-4685-ab8f-826c953354ee",
   "metadata": {},
   "outputs": [],
   "source": [
    "links_df.loc[\n",
    "    links_df.url.isin(blacklist),\n",
    "    'is_story'\n",
    "] = False"
   ]
  },
  {
   "cell_type": "code",
   "execution_count": 21,
   "id": "18347c89-1d60-405f-9036-aa19095aa1e8",
   "metadata": {},
   "outputs": [],
   "source": [
    "correction_list = [\n",
    "    \"\\.(substack|theankler|commonsense|thedispatch).(com|news)/p/\",\n",
    "    \"^https://time.com/\\d{5,}/*\",\n",
    "    \"^https://*.studyfinds.org/*.{5,}\",\n",
    "    \"^https://*.bbc.com/news/*.{5,}\",\n",
    "    \"^https://www.jpost.com/breaking-news/*.{5,}\",\n",
    "    \"^https://www.jpost.com/[a-z]{5,}/*.{5,}\",\n",
    "    \"^https://*.braintomorrow.com/*.{5,}\"\n",
    "    \"^https://finance.yahoo.com/news/*.{5,}\",\n",
    "    \"^https://www.vice.com/en/article/*.{5,}\",\n",
    "    \"^https://news.yahoo.com/*.{5,}\",\n",
    "]"
   ]
  },
  {
   "cell_type": "code",
   "execution_count": 22,
   "id": "7f21876d-bf38-4b29-adec-024def6dcebe",
   "metadata": {},
   "outputs": [
    {
     "name": "stderr",
     "output_type": "stream",
     "text": [
      "/tmp/ipykernel_157701/1150215247.py:2: UserWarning: This pattern is interpreted as a regular expression, and has match groups. To actually get the groups, use str.extract.\n",
      "  links_df.loc[links_df.url.str.contains(c, regex=True), 'is_story'] = True\n"
     ]
    }
   ],
   "source": [
    "for c in correction_list:\n",
    "    links_df.loc[links_df.url.str.contains(c, regex=True), 'is_story'] = True"
   ]
  },
  {
   "cell_type": "markdown",
   "id": "c05c6a03-0fa6-46cd-9638-aefa693d4ecf",
   "metadata": {},
   "source": [
    "Knock out anything that appears most of the time"
   ]
  },
  {
   "cell_type": "code",
   "execution_count": 23,
   "id": "f7d1d218-8b53-4126-afd8-4d9916096160",
   "metadata": {},
   "outputs": [],
   "source": [
    "n = len(df.file_name.unique())"
   ]
  },
  {
   "cell_type": "code",
   "execution_count": 24,
   "id": "68a6e649-b670-4992-999d-44eada67934b",
   "metadata": {},
   "outputs": [],
   "source": [
    "too_much = links_df.n >= n * .5"
   ]
  },
  {
   "cell_type": "code",
   "execution_count": 25,
   "id": "beb21e6a-28b5-4f6c-833d-22e45eb59731",
   "metadata": {},
   "outputs": [],
   "source": [
    "links_df.loc[too_much, 'is_story'] = False"
   ]
  },
  {
   "cell_type": "markdown",
   "id": "4cf76b61-b47e-467f-9c32-83ea01bfe7cf",
   "metadata": {},
   "source": [
    "Knock out anything with a bad URL"
   ]
  },
  {
   "cell_type": "code",
   "execution_count": 26,
   "id": "1872f484-d7e2-424c-9709-7f01200f0f7f",
   "metadata": {},
   "outputs": [],
   "source": [
    "links_df.loc[~links_df.url.str.startswith(\"http\"), 'is_story'] = False"
   ]
  },
  {
   "cell_type": "code",
   "execution_count": 27,
   "id": "79e551e1-2cf1-48b0-a68d-236c47ed3e4c",
   "metadata": {},
   "outputs": [
    {
     "data": {
      "text/html": [
       "<div>\n",
       "<style scoped>\n",
       "    .dataframe tbody tr th:only-of-type {\n",
       "        vertical-align: middle;\n",
       "    }\n",
       "\n",
       "    .dataframe tbody tr th {\n",
       "        vertical-align: top;\n",
       "    }\n",
       "\n",
       "    .dataframe thead th {\n",
       "        text-align: right;\n",
       "    }\n",
       "</style>\n",
       "<table border=\"1\" class=\"dataframe\">\n",
       "  <thead>\n",
       "    <tr style=\"text-align: right;\">\n",
       "      <th></th>\n",
       "      <th>text</th>\n",
       "      <th>url</th>\n",
       "      <th>n</th>\n",
       "      <th>earlier_date</th>\n",
       "      <th>is_story</th>\n",
       "    </tr>\n",
       "  </thead>\n",
       "  <tbody>\n",
       "    <tr>\n",
       "      <th>4452</th>\n",
       "      <td>Orlando to become 'physical center of metavers...</td>\n",
       "      <td>https://www.the-sun.com/tech/5661470/orlando-...</td>\n",
       "      <td>4</td>\n",
       "      <td>2022-06-29</td>\n",
       "      <td>False</td>\n",
       "    </tr>\n",
       "    <tr>\n",
       "      <th>4453</th>\n",
       "      <td>Orlando to become 'physical center of the meta...</td>\n",
       "      <td>https://www.the-sun.com/tech/5661470/orlando-...</td>\n",
       "      <td>1</td>\n",
       "      <td>2022-06-29</td>\n",
       "      <td>False</td>\n",
       "    </tr>\n",
       "    <tr>\n",
       "      <th>6169</th>\n",
       "      <td>Tiger dies after contracting at Ohio zoo...</td>\n",
       "      <td>/https://www.cbsnews.com/news/tiger-dies-after...</td>\n",
       "      <td>1</td>\n",
       "      <td>2022-07-01</td>\n",
       "      <td>False</td>\n",
       "    </tr>\n",
       "    <tr>\n",
       "      <th>4703</th>\n",
       "      <td>Poll numbers reveal trouble for Biden beyond t...</td>\n",
       "      <td>How bad things are for Biden</td>\n",
       "      <td>1</td>\n",
       "      <td>2022-06-10</td>\n",
       "      <td>False</td>\n",
       "    </tr>\n",
       "    <tr>\n",
       "      <th>3446</th>\n",
       "      <td>LIVE HEAT MAP...</td>\n",
       "      <td>http://hp2.wright-weather.com/icons/us_heat.gif</td>\n",
       "      <td>8</td>\n",
       "      <td>2022-06-12</td>\n",
       "      <td>False</td>\n",
       "    </tr>\n",
       "  </tbody>\n",
       "</table>\n",
       "</div>"
      ],
      "text/plain": [
       "                                                   text  \\\n",
       "4452  Orlando to become 'physical center of metavers...   \n",
       "4453  Orlando to become 'physical center of the meta...   \n",
       "6169        Tiger dies after contracting at Ohio zoo...   \n",
       "4703  Poll numbers reveal trouble for Biden beyond t...   \n",
       "3446                                   LIVE HEAT MAP...   \n",
       "\n",
       "                                                    url  n earlier_date  \\\n",
       "4452   https://www.the-sun.com/tech/5661470/orlando-...  4   2022-06-29   \n",
       "4453   https://www.the-sun.com/tech/5661470/orlando-...  1   2022-06-29   \n",
       "6169  /https://www.cbsnews.com/news/tiger-dies-after...  1   2022-07-01   \n",
       "4703                       How bad things are for Biden  1   2022-06-10   \n",
       "3446    http://hp2.wright-weather.com/icons/us_heat.gif  8   2022-06-12   \n",
       "\n",
       "      is_story  \n",
       "4452     False  \n",
       "4453     False  \n",
       "6169     False  \n",
       "4703     False  \n",
       "3446     False  "
      ]
     },
     "execution_count": 27,
     "metadata": {},
     "output_type": "execute_result"
    }
   ],
   "source": [
    "links_df[\n",
    "    (links_df.n < 40) &\n",
    "    (~links_df.is_story)\n",
    "].sort_values(\"url\").head(5)"
   ]
  },
  {
   "cell_type": "code",
   "execution_count": 28,
   "id": "56d1e035-4b32-46b5-8c6e-51684ba604cf",
   "metadata": {},
   "outputs": [],
   "source": [
    "links_df.to_csv(\"./drudge-hyperlinks-storysniffer-tweaks.csv\", index=False)"
   ]
  },
  {
   "cell_type": "code",
   "execution_count": 29,
   "id": "bfbe6fd7-9e24-4851-862c-3be406d026ae",
   "metadata": {},
   "outputs": [],
   "source": [
    "story_df = links_df[links_df.is_story].copy()"
   ]
  },
  {
   "cell_type": "code",
   "execution_count": 30,
   "id": "8951547d-9159-4293-aa29-30821f9767c2",
   "metadata": {},
   "outputs": [],
   "source": [
    "story_df['domain'] = story_df.url.apply(lambda x: f\"{tldextract.extract(x).domain}.{tldextract.extract(x).suffix}\")"
   ]
  },
  {
   "cell_type": "markdown",
   "id": "2d3d3fef-d60f-4f1f-abee-588919e26f28",
   "metadata": {},
   "source": [
    "Tally domains"
   ]
  },
  {
   "cell_type": "code",
   "execution_count": 31,
   "id": "c62bda21-d11d-452e-a4d3-8c465d316234",
   "metadata": {},
   "outputs": [],
   "source": [
    "domain_df = story_df.groupby([\"domain\"]).size().rename(\"n\").reset_index().sort_values(\"n\", ascending=False)"
   ]
  },
  {
   "cell_type": "code",
   "execution_count": 32,
   "id": "9ee0a16f-711e-472e-8dc8-e8ff25ebea64",
   "metadata": {},
   "outputs": [],
   "source": [
    "domain_df['percent'] = (domain_df.n / domain_df.n.sum()) * 100"
   ]
  },
  {
   "cell_type": "code",
   "execution_count": 33,
   "id": "b326ef11-21c6-47ad-9d8e-8e94c1f396c5",
   "metadata": {},
   "outputs": [
    {
     "data": {
      "text/html": [
       "<div>\n",
       "<style scoped>\n",
       "    .dataframe tbody tr th:only-of-type {\n",
       "        vertical-align: middle;\n",
       "    }\n",
       "\n",
       "    .dataframe tbody tr th {\n",
       "        vertical-align: top;\n",
       "    }\n",
       "\n",
       "    .dataframe thead th {\n",
       "        text-align: right;\n",
       "    }\n",
       "</style>\n",
       "<table border=\"1\" class=\"dataframe\">\n",
       "  <thead>\n",
       "    <tr style=\"text-align: right;\">\n",
       "      <th></th>\n",
       "      <th>domain</th>\n",
       "      <th>n</th>\n",
       "      <th>percent</th>\n",
       "    </tr>\n",
       "  </thead>\n",
       "  <tbody>\n",
       "    <tr>\n",
       "      <th>182</th>\n",
       "      <td>msn.com</td>\n",
       "      <td>806</td>\n",
       "      <td>11.771579</td>\n",
       "    </tr>\n",
       "    <tr>\n",
       "      <th>356</th>\n",
       "      <td>yahoo.com</td>\n",
       "      <td>589</td>\n",
       "      <td>8.602308</td>\n",
       "    </tr>\n",
       "    <tr>\n",
       "      <th>17</th>\n",
       "      <td>apnews.com</td>\n",
       "      <td>507</td>\n",
       "      <td>7.404703</td>\n",
       "    </tr>\n",
       "    <tr>\n",
       "      <th>352</th>\n",
       "      <td>wsj.com</td>\n",
       "      <td>372</td>\n",
       "      <td>5.433036</td>\n",
       "    </tr>\n",
       "    <tr>\n",
       "      <th>84</th>\n",
       "      <td>dnyuz.com</td>\n",
       "      <td>310</td>\n",
       "      <td>4.527530</td>\n",
       "    </tr>\n",
       "    <tr>\n",
       "      <th>73</th>\n",
       "      <td>dailymail.co.uk</td>\n",
       "      <td>297</td>\n",
       "      <td>4.337666</td>\n",
       "    </tr>\n",
       "    <tr>\n",
       "      <th>66</th>\n",
       "      <td>cnn.com</td>\n",
       "      <td>218</td>\n",
       "      <td>3.183876</td>\n",
       "    </tr>\n",
       "    <tr>\n",
       "      <th>65</th>\n",
       "      <td>cnbc.com</td>\n",
       "      <td>216</td>\n",
       "      <td>3.154666</td>\n",
       "    </tr>\n",
       "    <tr>\n",
       "      <th>284</th>\n",
       "      <td>the-sun.com</td>\n",
       "      <td>211</td>\n",
       "      <td>3.081642</td>\n",
       "    </tr>\n",
       "    <tr>\n",
       "      <th>212</th>\n",
       "      <td>nypost.com</td>\n",
       "      <td>207</td>\n",
       "      <td>3.023222</td>\n",
       "    </tr>\n",
       "  </tbody>\n",
       "</table>\n",
       "</div>"
      ],
      "text/plain": [
       "              domain    n    percent\n",
       "182          msn.com  806  11.771579\n",
       "356        yahoo.com  589   8.602308\n",
       "17        apnews.com  507   7.404703\n",
       "352          wsj.com  372   5.433036\n",
       "84         dnyuz.com  310   4.527530\n",
       "73   dailymail.co.uk  297   4.337666\n",
       "66           cnn.com  218   3.183876\n",
       "65          cnbc.com  216   3.154666\n",
       "284      the-sun.com  211   3.081642\n",
       "212       nypost.com  207   3.023222"
      ]
     },
     "execution_count": 33,
     "metadata": {},
     "output_type": "execute_result"
    }
   ],
   "source": [
    "domain_df.head(10)"
   ]
  },
  {
   "cell_type": "code",
   "execution_count": 34,
   "id": "757666b5-4620-4d7c-bb6e-50b33e1cd5b9",
   "metadata": {},
   "outputs": [],
   "source": [
    "def is_trump(row):\n",
    "    token_list = [t.lower() for t in row['text'].split()]\n",
    "    if 'trump' in token_list:\n",
    "        return True\n",
    "    elif 'donald' in token_list:\n",
    "        return True\n",
    "    elif 'don' in token_list:\n",
    "        return True\n",
    "    else:\n",
    "        if 'trump' in row['url']:\n",
    "            return True\n",
    "    return False"
   ]
  },
  {
   "cell_type": "code",
   "execution_count": 35,
   "id": "7106d382-84b4-4246-ab5c-a5fe766267bc",
   "metadata": {},
   "outputs": [],
   "source": [
    "story_df['is_trump'] = story_df.apply(is_trump, axis=1)"
   ]
  },
  {
   "cell_type": "code",
   "execution_count": 36,
   "id": "4cfe2ad5-03f1-4eb9-9478-58bd4b86c166",
   "metadata": {},
   "outputs": [
    {
     "data": {
      "text/plain": [
       "False    6197\n",
       "True      650\n",
       "Name: is_trump, dtype: int64"
      ]
     },
     "execution_count": 36,
     "metadata": {},
     "output_type": "execute_result"
    }
   ],
   "source": [
    "story_df.is_trump.value_counts()"
   ]
  },
  {
   "cell_type": "code",
   "execution_count": 37,
   "id": "061a3028-9c69-4c6a-8a85-33b52cae42e0",
   "metadata": {},
   "outputs": [],
   "source": [
    "trump_df = story_df[story_df.is_trump].copy()"
   ]
  },
  {
   "cell_type": "code",
   "execution_count": 38,
   "id": "481393da-d829-4045-94fc-6fe28f6fac3d",
   "metadata": {},
   "outputs": [],
   "source": [
    "trump_df['doc'] = trump_df.text.apply(nlp)"
   ]
  },
  {
   "cell_type": "code",
   "execution_count": 39,
   "id": "acf12829-8233-4835-92f2-d86a467114b5",
   "metadata": {},
   "outputs": [
    {
     "data": {
      "text/plain": [
       "'Not above the law'..."
      ]
     },
     "execution_count": 39,
     "metadata": {},
     "output_type": "execute_result"
    }
   ],
   "source": [
    "trump_df.iloc[10].doc"
   ]
  },
  {
   "cell_type": "code",
   "execution_count": 40,
   "id": "adb9a83e-9a65-4e5e-9f20-21798c08f106",
   "metadata": {},
   "outputs": [
    {
     "data": {
      "text/plain": [
       "Alabama Senate race tests ex-President's sway after endorsement flip-flop..."
      ]
     },
     "execution_count": 40,
     "metadata": {},
     "output_type": "execute_result"
    }
   ],
   "source": [
    "trump_df.iloc[50].doc"
   ]
  },
  {
   "cell_type": "code",
   "execution_count": 41,
   "id": "28dade59-3ef5-4933-9de8-4ca049947785",
   "metadata": {},
   "outputs": [
    {
     "data": {
      "text/plain": [
       "array([' Committee Kicks Off Capitol Attack Public Probe...',\n",
       "       \" Documentary:  The Don called the rioters 'smart'... \",\n",
       "       \" Hearing Delivers Political Blow That His Rivals Couldn't Land...\",\n",
       "       ' More White House aides will testify at next hearing...',\n",
       "       \" What's next for other criminal cases...\",\n",
       "       \"'CATACLYSMIC THREATS'\", \"'FOX Would Die Without Me'... \",\n",
       "       \"'I will break you in half. Don't f*ck with me'...\",\n",
       "       \"'NOT HERE TO HURT ME'\", \"'Not above law'...\",\n",
       "       \"'Not above the law'...\", \"'Not theirs, it's mine'...\\n\",\n",
       "       \"'Ready for Ron' means ready for 'war'...\",\n",
       "       \"'SOUTH PARK' creators details Trump movie they couldn't get made...\",\n",
       "       \"'Substantial Criminal Case'...\", \"'TOP SECRET'\",\n",
       "       \"'TRUTH SOCIAL' Banning Users Who Post...\",\n",
       "       \"'TRUTH' FACING FINANCIAL FALLOUT...\", \"'TRUTH' HITS TROUBLE...\",\n",
       "       \"'TRUTH' SOCIAL FACING FINANCIAL FALLOUT...\",\n",
       "       \"'TRUTH' Shadow Banning Users Who Post About Attack...\",\n",
       "       \"'TRUTH' Shadow Banning Users Who Post About Capitol Attack...\",\n",
       "       \"'TRUTH' barred from GOOGLE store over moderation concerns...\",\n",
       "       \"'TRUTH' shares plunge on grand jury subpoena news...\",\n",
       "       \"'TRUTH' subpoenaed in federal criminal probe...\",\n",
       "       \"'They probably would have killed him'...\",\n",
       "       \"'Those Records Do Not Belong to Him'...\",\n",
       "       \"'UNHINGED' OVAL OFFICE BRAWL...\",\n",
       "       \"'Very serious concerns' of witness tampering...\",\n",
       "       \"'We got rolled': How conservative grassroots lost because focused on The Don...\",\n",
       "       \"'We got rolled': How conservative grassroots lost because focused on Trump Show...\",\n",
       "       \"'Women for Trump' Turns on Don: 'Disconnected from Base'...\",\n",
       "       '10 BOXES TAKEN...',\n",
       "       '10 House Republicans voted to impeach Trump. Cheney is last to face primary voters...',\n",
       "       '11 SETS RETRIEVED',\n",
       "       \"2024: McConnell says The Don will face 'crowded' field...\",\n",
       "       '4-HOUR DEPO', '4-HOUR DEPOSITION',\n",
       "       '911 Calls Reveal Security Breaches At Mar-a-Lago...',\n",
       "       'ACLU Struggling To Find Identity...', 'AGENTS CRACK SAFE',\n",
       "       \"ANDREW MCCARTHY:   Cassidy Hutchinson's testimony was devastating...\",\n",
       "       'ANDREW MCCARTHY:   Devastating...',\n",
       "       'AZ Speaker dramatic testimony...',\n",
       "       'AZ Speaker offers dramatic testimony to Jan. 6 probe...',\n",
       "       'After gripping Capitol riot hearings -- will Trump be indicted?',\n",
       "       'Agency identified 700+ PAGES pages of classified docs at Mar...',\n",
       "       'Agent With Machine Gun Photographed Outside Of Compound...',\n",
       "       \"Agents seize phone of lawyer who pushed The Don's false-elector claims... \",\n",
       "       'Alabama Senate race tests Trump sway after endorsement flip-flop...',\n",
       "       \"Alabama Senate race tests ex-President's sway after endorsement flip-flop...\",\n",
       "       \"Alex Jones for DeSantis: 'Way Better Than Trump'...\",\n",
       "       'Allies Line Up Shadow Govt...',\n",
       "       'Americans see threat to democracy as No. 1 issue...',\n",
       "       'Answered Only 1 Question From NY AG...',\n",
       "       'Answered Only 1 Question From NY AG?',\n",
       "       'Appears to concede illegally retained official docs...',\n",
       "       \"Archives asked for records in 2021 after Don's lawyer agreed they should be returned...\",\n",
       "       'Armed MAGA protests outside FBI office in Phoenix...',\n",
       "       'Armed MAGA protests outside office in Phoenix...',\n",
       "       'As committee targets Trump, his consternation at McCarthy grows...',\n",
       "       'Atlanta-area DA represents legal threat to The Don...',\n",
       "       \"BALZ:  Cassidy Hutchinson's testimony worst moment for former president,..\",\n",
       "       'BALZ:  Midterms a referendum on MAGA? ',\n",
       "       \"BALZ:  Trump's had bad moments, but few worse than Cassidy Hutchinson's testimony...\",\n",
       "       \"BANNON:   We Are At 'Point of Attack'...\",\n",
       "       \"BANNON:   We Are At the 'Point of Attack'...\",\n",
       "       'BARR:  Jan. 6 prosecutors taking hard look at Trump...',\n",
       "       \"BLAZ:  Trump's had bad moments, but few worse than Cassidy Hutchinson's testimony...\",\n",
       "       \"BOOK:  Kushner Alleges Gen. Kelly Shoved Ivanka After Meeting; Calls Him 'Jekyll and Hyde'...\",\n",
       "       \"BOOK: Asked Why His Generals Couldn't Be Like Hitler's...\",\n",
       "       'BROKE DISHES, FLIPPED TABLECLOTHES',\n",
       "       'BROKE DISHES, FLIPPED TABLECLOTHES...',\n",
       "       \"Barr Decries 'Brainless' Far Right...\",\n",
       "       'Barr Suggests Ex-President Very Close to Staying in Power...',\n",
       "       'Barr Suggests Ex-President WAS Very Close to Staying in Power...',\n",
       "       \"Barrack says UAE investment was not 'quid pro quo'...\",\n",
       "       'Battle takes center stage in AZ...',\n",
       "       'Ben Shapiro Blames Trump...',\n",
       "       'Bernie Kerik Predicts Assassination...',\n",
       "       'Biden Learned of It From Media, White House Says...',\n",
       "       'Biden Trashes Trump On Kimmel...',\n",
       "       \"Biden advisers push early launch of '24...\",\n",
       "       'Biden scoffs at declassification claims...',\n",
       "       \"Biden slams Trump for inaction over 'medieval hell' of Capitol riot... \",\n",
       "       'Bidenworld, fellow Dems, dreaming of pre-midterm announcement...',\n",
       "       \"Blasts 'unfounded attacks' on law enforcement...\",\n",
       "       'Blooper Reel of The Don Struggling to Condemn Rioters...',\n",
       "       \"Bolton says claim docs declassified 'almost certainly lie'...\",\n",
       "       'Bond with Republicans deepens...',\n",
       "       'Book bombs: Aide tell-alls fail to sell...',\n",
       "       \"Brady Insists Friendship Was Embellished, 'Mischaracterized'...\",\n",
       "       'Bret Baier Downloads...',\n",
       "       \"CAL THOMAS: Jailing him won't heal the country's divisions...\",\n",
       "       'CARDIAC ARREST; FELL DOWN STAIRS...',\n",
       "       \"CARVILLE:  Could be 'biggest story since 9/11'...\",\n",
       "       'CATACLYSMIC THREATS...', 'CHENEY DOWN!',\n",
       "       'CHENEY RELOADS ON TRUMP MOB',\n",
       "       \"CONFUSION: Endorsed Candidate Thought 'Banana Republic' Refers to Clothing Store...\",\n",
       "       'CONSERVATIVE TALK HOST DUMPS THE DON...',\n",
       "       'CONSERVATIVE TALK HOST DUMPS THE DON:  HE FAILED US...',\n",
       "       'CONTENTS OF BOXES A MYSTERY...',\n",
       "       \"CONWAY:  'This Could Be Thing That Really Takes Him Down'...\",\n",
       "       'Cabinet Discussed Removing From Office...',\n",
       "       \"Can 'America First' exist without The Don? Conservatives planning on it...\",\n",
       "       'Can DeSantis Dethrone Mentor?',\n",
       "       'Can DeSantis Displace Trump as Combatant-in-Chief?',\n",
       "       \"Cheney Downloads on Trump in Ad for Daughter...\\n'Never been individual who is greater threat to republic'...\",\n",
       "       \"Cheney Downloads on Trump in Campaign Ad for Daughter...\\n'Never been individual who is greater threat to republic'...\",\n",
       "       'Cheney Paying Price for Crossing The Don in Her Home State...',\n",
       "       'Cheney in bitter fight against Trump-backed primary rival...',\n",
       "       \"Cheney warns GOP 'can't survive' if The Don nominee...\",\n",
       "       \"Cheney warns GOP 'can't survive' if nominee...\",\n",
       "       'Committee focuses on phone calls among Trump children and aides...',\n",
       "       'Committee setting sights on Pence, Ginni Thomas...',\n",
       "       'Congress seeks probe after IRS targeted Trump enemies with audits...',\n",
       "       \"Conservatives' new folk hero...\", 'Contempt of Congress...',\n",
       "       \"Court says House can obtain Trump's taxes from IRS...\",\n",
       "       \"Cowded Republican field could help The Don in '24?\",\n",
       "       'Criminal complaint...',\n",
       "       \"Criminal investigation launched into 'TRUTH'...\",\n",
       "       'DEMENTING DON DEMANDS NEW ELECTION?',\n",
       "       'DERSHOWITZ: ENOUGH TO BRING CHARGES...',\n",
       "       \"DOJ Steps Up Jan. 6 Probe of Those in The Don's Orbit...\",\n",
       "       \"DOJ Steps Up Probe of  Don's Orbit...\",\n",
       "       \"DOJ Steps Up Probe of Those in Don's Orbit...\",\n",
       "       'DOJ TARGET ON THE DON?', 'DOJ TARGETS THE DON?',\n",
       "       'DOJ releases Mueller-era memo on prosecution...',\n",
       "       'DOJ releases heavily redacted search affidavit...',\n",
       "       'DOJ says release of Mar-a-Lago affidavit would harm ongoing criminal probe...',\n",
       "       \"DON JR ADMITS?\\n'WOULD BE GOOD' IF NUKE CODES AT MAR-A-LAGO\",\n",
       "       'DON SENDS CRYPTIC MESSAGE TO AG', 'DOWN AND OUT IN WYOMING',\n",
       "       \"DR. OZ:  'MAGA MOVEMENT DYING'...\", 'DR. OZ:  MAGA DYING...',\n",
       "       'DRAMA:  Michigan AG details MAGA conspiracy to break into voting equipment...',\n",
       "       'DeSantis builds national profile out of MAGA view...',\n",
       "       \"DeSantis builds national profile out of Trump's view...\",\n",
       "       'DeSantis declines to ask for reelection endorsement...',\n",
       "       'Death threats and epithets: Lonely primary of Republican who impeached...',\n",
       "       \"Declares FOX has gone to 'dark side'...\",\n",
       "       'Deepens probe of Trump Cabinet...',\n",
       "       \"Defeat marks Trump's win over traditional conservatism...\",\n",
       "       \"Defends From 9/11 Families: 'Nobody's Gotten to Bottom of 9/11'...\",\n",
       "       'Defends Kingdom From 9/11 Families...',\n",
       "       'Demands to Be Reinstated as President...',\n",
       "       'Dems investigating whether foreign gifts went missing...',\n",
       "       'Depicted as Would-Be Autocrat...',\n",
       "       'Disqualified from holding office ever again? Code on records could bar him...',\n",
       "       'Disqualified from holding office ever again? US Code on records could bar him...',\n",
       "       \"Do Dems Already Have Their Own Trump That Could Win in '24?\",\n",
       "       'Doc Maker Claims Trump Had Secret Call With Putin Just Before Election...',\n",
       "       'Doc filmmaker to cooperate with GA prosecutor...',\n",
       "       \"Documentary:  The Don called rioters 'smart'... \",\n",
       "       'Documents at Mar-a-Lago Were Moved and Hidden as Feds Sought Them...',\n",
       "       'Documents at Mar-a-Lago could compromise human intelligence sources... ',\n",
       "       'Does DOJ want to charge The Don?',\n",
       "       'Don Jr. Posts Meme About His Fathers Crotch...',\n",
       "       'Don and Ron Jockey for Position Ahead of Potential 2024 Showdown...',\n",
       "       'Don, Ron Jockey for Position Ahead of Potential Showdown...',\n",
       "       'Donors jumping ship?',\n",
       "       'Dozens of hours from upcoming docuseries...',\n",
       "       'Dr. Oz Dumps branding...', 'Drew violence, threats...',\n",
       "       'Dynamic shifts between FOX and The Don...',\n",
       "       'ESPIONAGE ACT VIOLATIONS',\n",
       "       \"EX-PRESIDENT FEARS AGENTS 'PLANTED STUFF' IN MAR-A-LAGO AFTER 9 HOUR SEARCH...\",\n",
       "       \"EX-TRUMP FOOTSOLDIER WITH 'SMOKING GUN'\",\n",
       "       \"Emails Shed Light on Fake Electors Plan: 'Kind of Wild/Creative'...\",\n",
       "       'Ex-CIA chief endorses executing leakers of nuclear secrets after Trump raid bombshell...',\n",
       "       'Ex-CIA chief endorses executing leakers of secrets after Trump raid bombshell...',\n",
       "       'Ex-CIA chief endorses executing leakers of secrets after raid bombshell...',\n",
       "       'Ex-President Will Host ANOTHER Saudi-Backed Golf Event...',\n",
       "       'Ex-Prosecutor: Manhattan DA Thought Indicting Ex-President Too Risky...',\n",
       "       \"Ex-officials say claim of 'standing order' to declassify is nonsense...\",\n",
       "       'FALL PREVIEW:  Jan 6 committee could subpoena Ginni Thomas...',\n",
       "       'FALL PREVIEW:  January 6 committee could subpoena Ginni Thomas...',\n",
       "       'FBI POUNCED AFTER DON OBSTRUCTED FOR MONTHS...',\n",
       "       'FBI RAIDS TRUMP', \"FBI SEIZES CONGRESSMAN'S PHONE...\",\n",
       "       \"FBI SEIZES CONGRESSMAN'S PHONE...\\nLatest Sign of Escalating Election Inquiry...\",\n",
       "       'FBI completes review of docs...',\n",
       "       'FBI searched Melania wardrobe?', 'FEDS HUNT NUKE DOCS',\n",
       "       'FEDS HUNT STOLEN NUKE DOCS', 'FLIPPED',\n",
       "       'FLIPPED\\nWEISSELBERG SENTENCED TO RIKERS',\n",
       "       'FOOTAGE:  Pence 25th amendment...',\n",
       "       'FORMER PRESIDENT TEES OFF WITH SAUDI TOUR...',\n",
       "       'FOX Baier Downloads on The Don...',\n",
       "       'FOX Posts Montage of Trump Voters Jumping For DeSantis...',\n",
       "       'FOX boss Lachlan Murdoch privately levels harsh criticism, sources say...',\n",
       "       'FOXNEWS Ignores The Don...', 'Faces 2 Years in Prison...',\n",
       "       'Fake Electors May Provide Path for DOJ to Charge...',\n",
       "       \"Feds Interview The Don's White House Lawyers...\",\n",
       "       \"Feds Interviewed The Don's Top White House Lawyers...\",\n",
       "       'Feds investigating Russian-speaking immigrant who infiltrated Mar-a-Lago...\\nPosed as member of European banking dynasty...',\n",
       "       \"Fiddling, Fumbling, Fuming: The Don's Jan. 6 Timeline Revealed...\",\n",
       "       \"Fiddling, Fumbling, Fuming: The Don's Riot Timeline Revealed...\",\n",
       "       'Fight for heart of Republicans in Florida...',\n",
       "       'Files copied from voting systems shared with MAGA...',\n",
       "       'Filmmaker Alex Holder says Trump lost his mind after Jan 6...',\n",
       "       'Filmmaker Alex Holder says Trump lost his mind after January 6...',\n",
       "       'Filmmaker Alex Holder says Trump lost mind after Jan 6...',\n",
       "       \"Filmmaker Claims:  Eric Thought Violence After Election 'Fair Game'...\",\n",
       "       \"Filmmaker Claims:  Eric Trump Thought Violence After Election 'Fair Game'...\",\n",
       "       'Filmmaker Subpeonaed for His Unseen Tapes of President on Jan. 6...',\n",
       "       'Filmmaker Subpeonaed for Unseen Tapes...',\n",
       "       'Final Days of White House: Chaos, Scattered Papers...',\n",
       "       'Florida judge menaced...',\n",
       "       'For families deeply divided, summer of hot buttons begins...',\n",
       "       'Former Trump aide Peter Navarro indicted for contempt of Congress...',\n",
       "       'Former White House aides to testify at next Jan. 6 hearing...',\n",
       "       'Found by cops at bottom of staircase...',\n",
       "       'GA election data copied under direction of attorney...',\n",
       "       'GA election probe cites voting system breach...',\n",
       "       'GA grand jury seeks testimony from Meadows, lawyers...',\n",
       "       'GA grand jury subpoenas Giuliani, Graham, Trump confidantes...',\n",
       "       'GARLAND OPEN TO PROSECUTING', 'GARLAND OPEN TO PROSECUTING TRUMP',\n",
       "       'GEORGIA DANGER FOR DON', 'GOING DOWN LIKE CAPONE?',\n",
       "       \"Gaetz told Stone 'the boss' would pardon him for standing tall...\",\n",
       "       \"Garland Raid Only 'First Inning'...\",\n",
       "       'Garland investigating aggressively but prosecuting cautiously...',\n",
       "       'Garland prosecuting cautiously...',\n",
       "       'Georgia election data copied under direction of Trump attorney...',\n",
       "       'Ghostwriter muses classified docs taken to sell...',\n",
       "       'Ghostwriter muses was taken to sell...',\n",
       "       'Ginni Thomas emails with lawyer add to tumult at Supreme Court...',\n",
       "       \"Giuliani won't testify Tuesday in GA probe...\",\n",
       "       'Govs fuel 2024 chatter amid frustration...',\n",
       "       'Govs fuel chatter amid frustration...',\n",
       "       'Guilfoyle Paid $60K For 2-Min Speech...',\n",
       "       'HABERMAN:  HE MAY NOT RUN AGAIN',\n",
       "       'HABERMAN:  HE MAY NOT RUN AGAIN...', 'HELL WEEK',\n",
       "       'HOLDER: TRUMP LIKELY TO BE CRIMINALLY CHARGED...',\n",
       "       'He rakes in millions off Mar-a-Lago search...',\n",
       "       'Hearing on unsealing FBI raid affidavit underway... Developing...',\n",
       "       'Highest secrets in government...', 'Highest secrets in govt...',\n",
       "       'His lawyer agreed they should be returned!',\n",
       "       'How Obama-backing AZ news anchor became MAGA pick for gov...',\n",
       "       'How Obama-backing news anchor became MAGA pick for gov...',\n",
       "       'How ex-president has spent days since feds searched home...',\n",
       "       'How former leftie fell into MAGA rabbit hole...',\n",
       "       'How leftie fell into rabbit hole...',\n",
       "       'I COULD HAVE MADE HIM BEG...', 'INDICTMENT REAL POSSIBILITY',\n",
       "       'INDICTMENT WATCH INTENSIFIES', 'INNER CIRCLE FREAKING...',\n",
       "       'IVANA TRUMP DEAD...', 'IVANKA: I WILL MISS HER FOREVER...',\n",
       "       'Inclined to make parts of affidavit unsealed...',\n",
       "       'Increasingly abandoned and isolated, will Don burn it all down?',\n",
       "       'Increasingly abandoned and isolated, will Trump burn it all down?',\n",
       "       'Increasingly abandoned and isolated, will he burn it all down?',\n",
       "       'Inside 20-month fight for return of material...',\n",
       "       'Inside 20-month fight to get him to return material...',\n",
       "       'Inside Negotiations That Led Weisselberg to Flip...',\n",
       "       'Inside Negotiations That Led Weisselberg to Plead Guilty...',\n",
       "       \"Inside Trump '25: Radical plan for second term...\",\n",
       "       'Inside wild lobbying spree that led to double Mizzou endorsement...',\n",
       "       'Intel officials to assess national security fallout...',\n",
       "       'Iran plotting to kill Trump, intelligence leak claims...',\n",
       "       \"Ivana cause of death revealed as 'blunt impact injuries after fall'...\",\n",
       "       'Ivanka Jan. 6 testimony exposes family strain...',\n",
       "       'Ivanka rejected election fraud claims...',\n",
       "       'Jan 6 Committee Extends Hearings Into July After New Footage Emerges...',\n",
       "       'Jan 6 committee focuses on phone calls among Trump children and aides...',\n",
       "       'Jan 6th Committee Extends Hearings Into July After New Footage Emerges...',\n",
       "       'Jan. 6 committee notifies DOJ of witness tampering...',\n",
       "       'Jan. 6 panel divided over whether to issue criminal referral of Trump...',\n",
       "       \"Jan. 6 panel probes The Don's 187 minutes as Capitol attacked...\",\n",
       "       \"Jan. 6 panel probes Trump 'siren call' to extremists...\",\n",
       "       \"Jan. 6 panel probes Trump's 187 minutes as Capitol attacked...\",\n",
       "       'January 6th Committee Extends Hearings Into July After New Video Footage Emerges...',\n",
       "       'Johnson faced revolt in his party. Trump never had that problem... ',\n",
       "       \"Joins 'TRUTH' to call out lies...\",\n",
       "       'Jr. has meltdown discussing search...',\n",
       "       'Judge indicates he may not unseal much, if any, Mar-a-Lago search affidavit...',\n",
       "       'Judge may not unseal much of search affidavit...',\n",
       "       'Judge may not unseal much, if any, Mar-a-Lago search affidavit...',\n",
       "       'Judge orders Giuliani to testify before GA grand jury in election probe...',\n",
       "       'Judge orders Lindsey Graham to testify...',\n",
       "       'Judge orders release of redacted Mar-a-Lago affidavit... Developing...',\n",
       "       'Judges back release of DOJ memo on prosecution...',\n",
       "       'Justice Dept releases heavily redacted  search affidavit...',\n",
       "       'Justice subpoenas of counsel mark turning point...',\n",
       "       'KEMP TO TESTIFY IN GA PROBE...',\n",
       "       'KURTZ:  Media turning against both Trump AND Biden...',\n",
       "       \"Kari Lake Wants You to Know She Thinks Trump and DeSantis Have 'BDE'...\",\n",
       "       'Kellyanne Conway Book Sales Drop 93%...',\n",
       "       'Kerik Predicts Trump Assassination...',\n",
       "       \"Kushner Alleges John Kelly Shoved Ivanka After Meeting; Calls Him 'Jekyll and Hyde'...\",\n",
       "       'LABASH:  Chronic Trump Fatigue...',\n",
       "       \"LABASH:  Chronic Trump Fatigue...\\nWhen You're Too Exhausted To Be Outraged...\",\n",
       "       'LAWMAKERS CALL FOR TRUMP SECURITY THREAT ASSESSMENT...',\n",
       "       \"LIST: The Don's slew of investigations and suits...\",\n",
       "       'LIV Golfers, Paid Upfront, Giggle Way Around Bedminster...',\n",
       "       'LIZ TAKING THE L?',\n",
       "       \"Lawmaker calls ruling 'victory for white life' as Trump rally cheers...\",\n",
       "       'Lawmakers asked for pardons...',\n",
       "       'Lawyer Pitched Martial Law to Subvert Election...',\n",
       "       'Lawyer Told DOJ Classified Material Returned...',\n",
       "       'Lawyers Rotate Among Inner Circle as Legal Woes Mount...',\n",
       "       'Left media company weeks before federal subpoenas issued...',\n",
       "       'Legal Team Scrambles to Find Argument..',\n",
       "       'Legal Team Scrambles to Find an Argument..',\n",
       "       'Legal team advances broad view of presidential powers at Mar-a-Lago...',\n",
       "       'Legal team advances broad view of presidential powers in Mar-a-Lago probe...',\n",
       "       'Lindsey Graham predicts riots if prosecuted...',\n",
       "       'Liz Cheney braces for primary loss as focus shifts to 2024...',\n",
       "       'Liz Cheney braces for primary loss...',\n",
       "       \"Liz Cheney warns GOP 'can't survive' if The Don becomes nominee...\",\n",
       "       'Looks to fall launch?',\n",
       "       'MAG:  The Most Pathetic Men in America...',\n",
       "       'MAG: Trump Lawyers Preparing Legal Defenses Against Criminal Charges...',\n",
       "       'MAG: Why He Can Beat The Don...',\n",
       "       \"MAGA Candidate Advocates Hunting 'RINOs' in New Ad...\\n'No Bagging Limit, No Tagging Limit'...\",\n",
       "       'MAGA DEATH MATCH AZ', 'MAGA DEATH MATCH AZ...',\n",
       "       'MAGA JUDGE TO SAVE THE DON?', 'MAGA MELTDOWN', 'MAGA SCALPED',\n",
       "       'MAGA TV stars pose problems for GOP?',\n",
       "       'MAGA Vies to Take Over Arizona Elections...',\n",
       "       'MAGA Vies to Take Over Arizona Elections... Developing...',\n",
       "       'MAGA battle center stage AZ...',\n",
       "       'MAGA influencer upset after docs detail cooperation with FBI...',\n",
       "       \"MAGA influencer upset after docs detailing 'substantial' cooperation with FBI released...\",\n",
       "       'MAGA maniac arrested for threatening to slaughter FBI agents...',\n",
       "       'MAGA rivalry intensifies...',\n",
       "       'MAGA routs Republican who voted for impeachment...',\n",
       "       'MAGA threats to judge spur democracy concerns...',\n",
       "       \"MAR-A-LAGO 'UNDER SIEGE, OCCUPIED' \",\n",
       "       'MCCARTHY:  Justice IS Weighing Trump Indictment...',\n",
       "       \"MCCARTHY: It's about Jan. 6...\",\n",
       "       'MCCARTHY: Signal DOJ Weighing Trump Indictment...',\n",
       "       'MORE HEAT ON THE DON', 'MORE WARNINGS OF UNREST',\n",
       "       'MORE White House aides will testify at next hearing...',\n",
       "       'MURDOCH OVER HIM?', \"MUSK: 'SAIL INTO SUNSET'\",\n",
       "       \"MUSK: 'SAIL INTO THE SUNSET'\", 'MUST BE HELD IMMEDIATELY!',\n",
       "       'Man who stormed Capitol with gun gets longest prison term...',\n",
       "       \"Mar-A-Lago Security 'Nightmare'...\",\n",
       "       'Maryland voters choosing Gov. Hogan successor...',\n",
       "       'Media ask magistrate to release affidavit...',\n",
       "       'Midterms Turn Toxic...', 'Midterms Turning Toxic...',\n",
       "       \"Mo Brooks Lashes Out at 'Conned' Trump After Rival Gets Endorsement...\",\n",
       "       'More turn up with evidence...',\n",
       "       'Multiple criminal referrals possible...',\n",
       "       'Multiple lawmakers asked for pardons...', 'Murdoch moves on...',\n",
       "       \"NO MORE IN '24:  GERGEN SAYS BIDEN, TRUMP TOO OLD...\",\n",
       "       'NOONAN: Trump Voters Need New Direction...',\n",
       "       \"NOONAN: Trump Voters Need New Direction...\\nHe's sure loser in '24...\",\n",
       "       'NY AG probe into Trump nears endgame...',\n",
       "       \"NY AG's investigation into Trump nears endgame...\",\n",
       "       'NY depo in weeks...',\n",
       "       'NYPOST:  Republicans should leave Trump -- and obsessed Dems -- behind...',\n",
       "       'NYPOST:  THE DON UNWORTHY...',\n",
       "       'NYT demands criminal prosecution...',\n",
       "       'NYT:  Despite Growing Evidence, Prosecution Would Face Challenges...',\n",
       "       'NYT:  Despite Growing Evidence, Prosecution of Trump Would Face Challenges...',\n",
       "       'NYT:  Prosecution Would Face Challenges...',\n",
       "       'NYT:  Trump Had More Than 300 Classified Documents Hidden In Florida... Developing...',\n",
       "       'NYT: The Don Eyes Early Announcement as Capitol Riot Scrutiny Intensifies...',\n",
       "       'NYT: Trump Eyes Early 2024 Announcement as Capitol Riot Scrutiny Intensifies...',\n",
       "       'NYT: Trump Eyes Early Announcement...',\n",
       "       \"NYT: Trump Publicly Credits God for Decision Privately Calls 'Bad'...\",\n",
       "       'National Archives hit with threats...',\n",
       "       'Navarro Tells Judge He Needs Time to Promote Book...',\n",
       "       'Navarro indicted for contempt...',\n",
       "       \"New Dem star calls Trump 'Traitorous'...\\n'If I Had Done What He Did, I Would've Been in Jail'...\",\n",
       "       'New Jan. 6 Trump documentary footage revealed...',\n",
       "       \"Newsom joins 'TRUTH' to call out lies...\",\n",
       "       \"Newsom joins 'Truth Social' to call out lies...\",\n",
       "       'Now on the tee for LIV Golf: Trump National and polarizing former president...',\n",
       "       'OBSTRUCTION OF JUSTICE', 'ONLY 73...',\n",
       "       'Odds Increasing He Gets Charged?',\n",
       "       'Of all legal threats, is this one that could take Trump down?',\n",
       "       'Officer corroborates heated motorcade exchange with President...',\n",
       "       'Officer corroborates heated motorcade exchange with Trump...',\n",
       "       'Other Republicans gain...',\n",
       "       'Oz strategy for winning PA: Trump who?',\n",
       "       \"Oz's strategy for winning PA: Trump who?\",\n",
       "       'PAC paid $1 million to defense lawyers in July alone...',\n",
       "       \"PARSCALE:  'I Feel Guilty For Helping Him Win'...\",\n",
       "       'PAYBACK?  Comey, McCabe faced rare, intensive tax audits by IRS under Trump...',\n",
       "       'PELOSI:  WHAT IS HAPPENING HERE?',\n",
       "       'PENCE:  STOP TRASHING BUREAU...', 'PENCE:  STOP TRASHING FBI...',\n",
       "       'PIERS:  RON OVER DON!', \"PLAYED 'CATS' MUSIC TO CALM\",\n",
       "       \"PLAYED 'CATS' MUSIC TO CALM...\", 'PLEA BARGAIN DON?',\n",
       "       'POLL:  57% say investigations should continue...',\n",
       "       'POLL:  6 in 10 Americans say Trump should be charged for Jan. 6...',\n",
       "       'POLL:  6 in 10 say Trump should be charged for inciting Jan. 6...',\n",
       "       'POLL:  6 in 10 say Trump should be charged for inciting insurrection...',\n",
       "       'POLL:  About half say he should be charged...',\n",
       "       'POLL:  Half say he should be charged...',\n",
       "       'POLL:  Ron Flattens Don By 15 Points in 3-Way Race...',\n",
       "       \"POLL:  Ron Winning in NH '24 Matchup...\",\n",
       "       'POLL:  Ron Winning in NH Matchup...',\n",
       "       'POLL: HALF REPUBLICAN VOTERS ABANDON TRUMP',\n",
       "       'POLL: HALF REPUBLICANS  ABANDON DON',\n",
       "       'POLL: MAGA Voters Say Secession Would Make Things Better...',\n",
       "       'POLL: Raffensperger leads race after resisting The Don...',\n",
       "       'POLL: SURGING DESANTIS SHRINKS GAP...',\n",
       "       'PUNISHMENTS HE COULD FACE',\n",
       "       'Panel Considers Seeking Testimony From Trump, Pence...',\n",
       "       \"Panel hears: Trump 'detached from reality' in defeat...\",\n",
       "       'Panel reveals new details of wild push to hold power...',\n",
       "       \"Panel sharpens focus on The Don's 'crazy' Jan. 6 plan...\",\n",
       "       \"Panel to Make Case The Don Put Pence Life 'in Danger'...\",\n",
       "       'Pence makes moves...',\n",
       "       'Pence says HE did not leave office with classified material!',\n",
       "       \"Pence says he didn't leave office with classified material...\",\n",
       "       'Pence seen reacting to resolution calling for him to invoke 25th amendment...',\n",
       "       'Pence speech hints at 2024 run...',\n",
       "       'Pence tells MAGA to stop lashing at FBI...',\n",
       "       'Plea Deal Requires Weisselberg to Testify at Trump Org Trial...',\n",
       "       \"Political analyst loses job after calling Trump 'orange'...\",\n",
       "       'Post-Watergate reforms may frame DOJ decision over prosecuting Trump...',\n",
       "       'Post-scandal reforms may frame DOJ decision over prosecuting Trump...',\n",
       "       'Post-scandal reforms may frame DOJ decision...',\n",
       "       'Prime-Time Show That Can Still Shock...',\n",
       "       'Pro-Trump wins in blue states threaten Republican hopes in November...',\n",
       "       'Probe in Georgia: Elections chief to testify, legislators await subpoenas...',\n",
       "       \"Probe of top secret docs in 'early stages'...\",\n",
       "       'Prosecute Trump? Garland investigating aggressively but prosecuting cautiously...',\n",
       "       'Proud Boys documentarian to be among first witnesses...',\n",
       "       'Quest for Docs Started With Breezy Chats, Tour of  Crowded Closet...',\n",
       "       'RAID OF THE CENTURY', 'RAID OF THE CENTURY...',\n",
       "       'REMAIN IN MEXICO',\n",
       "       'REPORT:  Informer Revealed What Trump Docs Were Hidden, Where...',\n",
       "       \"REPORTS: 'TRUTH SOCIAL' Banning Users Who Post About Hearings...\",\n",
       "       'RNC warns: If you run for president, we stop paying your legal bills...',\n",
       "       'ROGAN BANS THE DON...',\n",
       "       'ROGAN CALLS TRUMP MAN BABY; SAYS WAS ON DRUGS IN WHITE HOUSE...',\n",
       "       'ROVE: Where Do Trump Donations Go?',\n",
       "       'Rakes in millions off Mar-a-Lago search...',\n",
       "       'Reagan Library Erupts in Applause at Cheney Evisceration of Trump; Standing ovation...\\nVIDEO...',\n",
       "       \"Rep. thanks Trump:  'Victory for white life'...\",\n",
       "       'Republican Worst-Case Scenario...',\n",
       "       'Republican center mounts comeback...',\n",
       "       'Republicans forced into strained defense...',\n",
       "       'Republicans rally around...',\n",
       "       \"Republicans thank Pence for 'courage'...\",\n",
       "       \"Republicans' Worst-Case Scenario...\", 'Returning to DC...',\n",
       "       'Riots if prosecuted?',\n",
       "       'Ron Johnson tried to hand fake elector info to Pence...',\n",
       "       'Ron Johnson tried to hand fake electors to Pence?',\n",
       "       'Ron coming for Don?',\n",
       "       \"SCORN ON THE 4TH OF JULY...\\nTRUMP CALLS CHENEY 'DESPICABLE HUMAN BEING'...\",\n",
       "       \"SHE COULDN'T WALK...\", 'STASH SEIZED FROM MAR-A-LAGO',\n",
       "       'SUFFERED CARDIAC ARREST...', 'SWEATING IT', 'SWEATING IT...',\n",
       "       'Saudi Nuclear Probe Resurfaces Ahead of Warrant Unseal...',\n",
       "       'Saudi Nuclear Probe Resurfaces...',\n",
       "       'Saudi Nuke Probe Resurfaces...',\n",
       "       'Says Media Mischaracterized Relationship With Trump...',\n",
       "       \"Search affidavit may be 'road map' for The Don's lawyers, Schiff warns...\",\n",
       "       'Search prompts big question: Who snitched?',\n",
       "       \"Searched Melania's wardrobe?\",\n",
       "       'Searing testimony increases odds of charges, experts say...',\n",
       "       'Searing testimony increases odds, experts say...',\n",
       "       'Secret Service agent for Trump retires after Jan. 6 scrutiny...',\n",
       "       'Secret Service to Challenge Her Account?',\n",
       "       'Secret donor dinners...',\n",
       "       'Seeing PA as battlefield, Never Trumpers unite against Mastriano...',\n",
       "       'Shares barrage of QAnon content...',\n",
       "       'Shifting Explanations Follow Familiar Playbook...',\n",
       "       'Simmering threat of violence...',\n",
       "       \"Social went easy on Trump because it 'relished' power, ex-employee claims...\",\n",
       "       \"Social went easy on Trump because it 'relished' the power, ex-employee claims...\",\n",
       "       'Some Republicans Make More Restrained Case for Defending The Don...',\n",
       "       'Some Republicans Make More Restrained Defense of The Don...',\n",
       "       \"Speculation about 'flipped' aide...\",\n",
       "       'Speculation about informant intensifies...',\n",
       "       'Sprawling records requests...',\n",
       "       'Staffer Told Fake Electors to Operate in Secrecy...',\n",
       "       'State officials detail pressure campaign to keep Trump in office...',\n",
       "       'Subpoena, seized papers in June...',\n",
       "       \"Subpoenas issued to directors of SPAC taking 'TRUTH' social public...\",\n",
       "       \"Supporters Bilked Out of $250 MILLION for 'Election Defense Fund'...\",\n",
       "       'Supporters Call for Civil War...',\n",
       "       \"THE 'UNHINGED' OVAL OFFICE BRAWL...\",\n",
       "       'THE DON CALLS FOR UPRISING!', 'THE DON PLEADS FIFTH',\n",
       "       'THE DON SHOWS OFF NEW 757...', \"THE DON'S RAGE\",\n",
       "       \"THE DON'S RAGE...\",\n",
       "       \"TONIGHT:  Jan. 6 panel probes Trump's 187 minutes as Capitol attacked...\",\n",
       "       'TROUBLES:  OAN survival in doubt after dropped by VERIZON...',\n",
       "       'TROUBLES:  OAN survival in doubt after getting dropped by VERIZON...',\n",
       "       \"TRUMP CAUGHT HOARDING NATION'S SECRETS\",\n",
       "       'TRUMP DUMP: SHREDDED DOCS IN TOILETS...\\nMULTIPLE INCIDENTS...',\n",
       "       \"TRUMP FEARS AGENTS 'PLANTED STUFF'\\n9 HOUR SEARCH\",\n",
       "       'TRUMP FUNDRAISING TRAILS DESANTIS...',\n",
       "       'TRUMP INDICTMENT WATCH...',\n",
       "       \"TRUMP ISSUES STATEMENT:  'DRUDGE IS DEAD'...\",\n",
       "       'TRUMP TO SUE CNN...', \"TRUMP:  I'VE DECIDED...\",\n",
       "       \"TRUMP:  MUSK 'BULLSHIT ARTIST'\",\n",
       "       \"TRUMP:  MUSK 'BULLSHIT ARTIST'...\",\n",
       "       'TRUMP:  PENCE DESERVES TO BE HANGED', 'TURLEY:  LAST CHANCE...',\n",
       "       'TV stars pose problems for GOP?',\n",
       "       'Tax fraud trial of Trump Org, CFO set for October...',\n",
       "       'Team Privately Admitted Attempt to Steal Election Illegal...',\n",
       "       'Tests waning appeal in Washington...',\n",
       "       'Tests waning appeal in Washington... ',\n",
       "       'The Don  boasted  he had intelligence about Macron sex life...',\n",
       "       \"The Don Fires Back at Elon!\\nSays He'd Be 'Worthless' without Govt Subsidies, Bashes TESLA Cars...\",\n",
       "       'The Don Fundraises in Email About Passing?',\n",
       "       \"The Don Rages At FBI 'Hacks and Thugs'...\",\n",
       "       'The Don Sics Republicans on FBI...',\n",
       "       \"The Don Sides With SAUDI Golf Tour Over 'Disloyal' PGA...\",\n",
       "       'The Don Throws Her Under the Bus...',\n",
       "       'The Don Under Intense Legal Scrutiny...',\n",
       "       \"The Don asked if he expects to be taken out 'in shackles'...\",\n",
       "       'The Don asked if he expects to be taken out in shackles!',\n",
       "       'The Don buried Ivana at club for tax break?',\n",
       "       \"The Don derides Cassidy Hutchinson as 'this girl'...\",\n",
       "       \"The Don fundraising off 'upcoming' lawsuit Against CNN...\",\n",
       "       \"The Don fundraising off 'upcoming' suit against CNN...\",\n",
       "       'The Don pushing theory Ohio attack was false flag...',\n",
       "       'The Don pushing theory attack on FBI in OH was false flag...',\n",
       "       'The Don sues to block DOJ from reviewing seized materials...',\n",
       "       'The Don tests waning appeal in trip to DC...',\n",
       "       'The Don weighs big bet in Alabama Senate race...',\n",
       "       \"The Don's dominance over GOP comes into focus...\",\n",
       "       \"The Don's dominance over Republican Party comes into focus...\",\n",
       "       \"The Don's new money-maker: Political speeches to fans...\",\n",
       "       \"The Don: FOX has gone to 'dark side'...\",\n",
       "       'The Last, Lonely Days of Ivana Trump...',\n",
       "       'The Last, Lonely Days of Ivana...',\n",
       "       'Threat to democracy No. 1 issue...',\n",
       "       'Thunderbolt scrambles political future...',\n",
       "       'Top secret info mixed with magazines, personal correspondence...',\n",
       "       'Top secret info...',\n",
       "       'Tournament Bombs: $1 Tickets, Anemic Viewership...',\n",
       "       'Trump Allies Line Up Shadow Govt...',\n",
       "       'Trump CFO admits to 15 felonies... Developing...',\n",
       "       'Trump CFO wiill admit to 15 felonies!',\n",
       "       'Trump Eyes Early Announcement...',\n",
       "       'Trump Had More Than 700 Classified Documents Hidden In Florida... Developing...',\n",
       "       'Trump Lawyer Told DOJ Classified Material Had Already Been Returned...',\n",
       "       'Trump Lawyer Told Justice Dept. That Classified Material Had Been Returned...',\n",
       "       'Trump Org Weisselberg expected to plead guilty in tax avoidance scheme...',\n",
       "       \"Trump Publicly Credits God -- Privately Says 'Bad'...\",\n",
       "       \"Trump Says LIV Golf Has Been Worth 'Billions of Dollars' in Publicity for Kingdom...\",\n",
       "       'Trump Signed Law Stiffening Penalty For Mishandling Classified Info to FIVE YEARS Prison...',\n",
       "       'Trump Summer Plans Include 7-Hour Grilling in Fraud Suit...',\n",
       "       'Trump accused of burying Ivana at golf club for TAX BREAK...',\n",
       "       \"Trump at Center of 'Attempted Coup'...\",\n",
       "       'Trump boasted  he had intelligence about Macron sex life...',\n",
       "       \"Trump call to 'walk down to Capitol' prompted Secret Service scramble...\",\n",
       "       'Trump hosting Saudi-backed golf tournament...',\n",
       "       \"Trump lawyer cited 'heated fight' among justices...\",\n",
       "       'Trump lawyer interviewed with FBI about case...',\n",
       "       'Trump looks to fall launch for 2024, potentially upending midterms...',\n",
       "       'Trump looms large over Biden decision...',\n",
       "       'Trump making few inroads outside MAGA loyalists...',\n",
       "       'Trump rally canceled as former president summoned to court...',\n",
       "       'Trump rally canceled as former president summoned to court... Developing...',\n",
       "       'Trump ratchets up attacks amid questions about viability...',\n",
       "       'Trump ridicules Pence at evangelical conference...',\n",
       "       \"Trump rushing to hire seasoned lawyers. But he keeps hearing 'No'...\",\n",
       "       \"Trump rushing to hire seasoned lawyers. But keeps hearing 'No'...\",\n",
       "       'Trump seething over McCarthy...',\n",
       "       'Trump slammed for hosting Saudi golf events...',\n",
       "       'Trump uses presidential seal at Saudi golf tournament...',\n",
       "       \"Trump warns 'terrible things are going to happen'...\",\n",
       "       \"Trump warns 'terrible things going to happen'...\",\n",
       "       \"Trump's Man in Arizona Might Get Last Laugh...\",\n",
       "       'Trump, Pence rivalry intensifies as they consider 2024 runs...',\n",
       "       'Trump, Pence rivalry intensifies...',\n",
       "       'Trump-Era Changes to Endangered Species Act Tossed by Court...',\n",
       "       'Trump-Pence proxy battle takes center stage in AZ...',\n",
       "       'Trump-approved golf event, Paris handshake, mega-city boost Saudi image rehab...',\n",
       "       'Tuesday primaries test Dems on crime, GOP on electability, Trump...',\n",
       "       'Turns to Direct Attacks on Trump as Midterms Near...',\n",
       "       'Turns up insults on Trump...',\n",
       "       \"UPDATE:   IRS targeted Trump's political enemies with audits...\\nCongress seeks probe...\",\n",
       "       'UPDATE:  Weisselberg expected to plead guilty in tax avoidance scheme...',\n",
       "       'UPDATE:  Witness The Don Tried to Call Revealed...',\n",
       "       \"UPDATE: 'TRUTH' faces financial peril...\",\n",
       "       'UPDATE: Jan. 6 Witness The Don Tried to Call Revealed...',\n",
       "       'UPDATE: Jan. 6 Witness Trump Tried to Call Revealed...',\n",
       "       'Unprecedented threats...',\n",
       "       'Unreleased Video Expected to Be Focus...',\n",
       "       \"VP CHENEY EVISCERATES: 'COWARD'...\",\n",
       "       'Voting machines ordered seized...',\n",
       "       'Vows to fight for republic...', 'WAITING ON INDICTMENT',\n",
       "       'WASH POST PAGE ONE FRIDAY:  How MAGA World pressures witnesses to toe line...',\n",
       "       'WASH POST PAGE ONE:  How MAGA World pressures witnesses to toe line...',\n",
       "       'WASH POST:  How MAGA World pressures witnesses to toe line...',\n",
       "       'WASH TIMES:  DeSantis closing in as favorite...',\n",
       "       'WASHINGTON EXAMINER: THE DON IS A DISGRACE; SHOULD NEVER BE SUPPORTED AGAIN...',\n",
       "       'WASHINGTON EXAMINER: TRUMP IS A DISGRACE; SHOULD NEVER BE SUPPORTED AGAIN...',\n",
       "       \"WHAT'S COMING NEXT?\", \"WHAT'S NEXT?\", 'WHO IS WEARING A WIRE?',\n",
       "       \"WHO'S WEARING WIRE?\",\n",
       "       'WI County That Heavily Backed Trump Has Lots of DeSantis Fans...',\n",
       "       \"WI House speaker says Trump called him to overturn '20 election -- 20 months later...\",\n",
       "       'Warns of Revenge...',\n",
       "       'Watch Pissed Off President Refuse to Say Election Over...',\n",
       "       'Watergate 50th meets Jan. 6: Thirst for power...',\n",
       "       \"Watergate prosecutor: Georgia case could 'send Donald to prison'...\",\n",
       "       \"Watergate prosecutor: Georgia case could 'send Trump to prison'...\",\n",
       "       'Weisselberg Nears Plea Deal...',\n",
       "       'Weisselberg expected to plead guilty in tax avoidance scheme...',\n",
       "       'What to watch in Tuesday primaries...',\n",
       "       \"What's Behind War With Intel Community?\",\n",
       "       'When Trump Declares He Loses Control of $103 Million...',\n",
       "       'When prosecution is in public interest...',\n",
       "       'Will Put The Don at Center of Plot...', 'Will Trump be indicted?',\n",
       "       'Will admit to 15 felonies!', 'Will he be indicted?',\n",
       "       \"Wisconsin House speaker says Trump called him to overturn '20 election -- 20 months later...\",\n",
       "       \"Without Presidency's Protections, Trump Struggles for Strategy...\",\n",
       "       \"YOUTUBE Deletes Committee Video for Spreading 'Election Misinformation'...\",\n",
       "       'Youngkin Wants To End MAGA Era -- Without Taking on Don...',\n",
       "       'Youngkin Wants To End MAGA Era -- Without Taking on The Don...'],\n",
       "      dtype=object)"
      ]
     },
     "execution_count": 41,
     "metadata": {},
     "output_type": "execute_result"
    }
   ],
   "source": [
    "trump_df.text.unique()"
   ]
  },
  {
   "cell_type": "code",
   "execution_count": 42,
   "id": "00940411-46f7-4cde-b26d-34514408199c",
   "metadata": {},
   "outputs": [
    {
     "data": {
      "text/plain": [
       "($103 Million,)"
      ]
     },
     "execution_count": 42,
     "metadata": {},
     "output_type": "execute_result"
    }
   ],
   "source": [
    "nlp('When Trump Declares He Loses Control of $103 Million...').ents"
   ]
  },
  {
   "cell_type": "code",
   "execution_count": 43,
   "id": "caefa235-104d-431e-bc79-164b328ed361",
   "metadata": {},
   "outputs": [
    {
     "data": {
      "text/plain": [
       "(Biden,)"
      ]
     },
     "execution_count": 43,
     "metadata": {},
     "output_type": "execute_result"
    }
   ],
   "source": [
    "nlp('Trump looms large over Biden decision...').ents"
   ]
  },
  {
   "cell_type": "code",
   "execution_count": 45,
   "id": "567bf825-631b-4dda-afec-c6099a2fe4ae",
   "metadata": {},
   "outputs": [
    {
     "data": {
      "text/plain": [
       "[('YOUTUBE Deletes Committee Video', 'ORG', '')]"
      ]
     },
     "execution_count": 45,
     "metadata": {},
     "output_type": "execute_result"
    }
   ],
   "source": [
    "[(e.text, e.label_, e.kb_id_) for e in nlp(\"YOUTUBE Deletes Committee Video for Spreading 'Election Misinformation'...\").ents]"
   ]
  }
 ],
 "metadata": {
  "kernelspec": {
   "display_name": "Python 3 (ipykernel)",
   "language": "python",
   "name": "python3"
  },
  "language_info": {
   "codemirror_mode": {
    "name": "ipython",
    "version": 3
   },
   "file_extension": ".py",
   "mimetype": "text/x-python",
   "name": "python",
   "nbconvert_exporter": "python",
   "pygments_lexer": "ipython3",
   "version": "3.9.9"
  }
 },
 "nbformat": 4,
 "nbformat_minor": 5
}
