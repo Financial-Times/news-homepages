{
 "cells": [
  {
   "cell_type": "markdown",
   "id": "9fbc2dc7-9a1f-4a35-88b3-15302517f70c",
   "metadata": {},
   "source": [
    "# Drudge entities analysis\n",
    "\n",
    "By Ben Welsh\n",
    "\n",
    "A draft analysis of the top words in headlines from the Drudge Report"
   ]
  },
  {
   "cell_type": "markdown",
   "id": "2fa495b6-42b1-4cd5-b373-9bfbb2e1e8ec",
   "metadata": {},
   "source": [
    "## Import"
   ]
  },
  {
   "cell_type": "markdown",
   "id": "bbef76ba-b4f8-47b5-8d4f-7ed56dfd2c69",
   "metadata": {},
   "source": [
    "Python tools"
   ]
  },
  {
   "cell_type": "code",
   "execution_count": 108,
   "id": "452aef46-1d4f-45c9-aeea-0c3ea967bf3e",
   "metadata": {},
   "outputs": [],
   "source": [
    "import typing\n",
    "import pandas as pd\n",
    "import altair as alt\n",
    "from collections import Counter"
   ]
  },
  {
   "cell_type": "markdown",
   "id": "f6ca8053-7e7f-47f7-b7e1-4c53310ae199",
   "metadata": {},
   "source": [
    "Formatting"
   ]
  },
  {
   "cell_type": "code",
   "execution_count": 2,
   "id": "25447174-9b38-402a-b42b-6d34bc0d6067",
   "metadata": {},
   "outputs": [],
   "source": [
    "from rich import print\n",
    "from rich.progress import track"
   ]
  },
  {
   "cell_type": "markdown",
   "id": "9915d20d-c303-4abe-bbd7-6c3c051532e6",
   "metadata": {},
   "source": [
    "Natural language processing"
   ]
  },
  {
   "cell_type": "code",
   "execution_count": 3,
   "id": "daba313f-4f43-4b67-9756-3e7fc98c02d2",
   "metadata": {},
   "outputs": [],
   "source": [
    "import spacy"
   ]
  },
  {
   "cell_type": "code",
   "execution_count": 4,
   "id": "85479033-c6a5-4ba7-86fd-2c7b271df87c",
   "metadata": {},
   "outputs": [],
   "source": [
    "# !pipenv run python -m spacy download en_core_web_lg"
   ]
  },
  {
   "cell_type": "code",
   "execution_count": 5,
   "id": "af1ad54a-b507-4787-a132-dd5b9f43609e",
   "metadata": {},
   "outputs": [],
   "source": [
    "nlp = spacy.load('en_core_web_lg')"
   ]
  },
  {
   "cell_type": "markdown",
   "id": "e7b3ae12-57ce-4fe7-b25c-b018f1abc3cd",
   "metadata": {},
   "source": [
    "## Extract"
   ]
  },
  {
   "cell_type": "markdown",
   "id": "9d02dbf3-eb13-4718-9025-5c84d85d918e",
   "metadata": {},
   "source": [
    "Read in data"
   ]
  },
  {
   "cell_type": "code",
   "execution_count": 6,
   "id": "a4b89533-20dd-4c33-bb7a-7d559a6a2c60",
   "metadata": {},
   "outputs": [],
   "source": [
    "link_df = pd.read_csv(\n",
    "    \"../extracts/csv/us-right-wing-hyperlinks-analysis.csv\",\n",
    "    parse_dates=[\"earliest_date\"]\n",
    ")"
   ]
  },
  {
   "cell_type": "code",
   "execution_count": 7,
   "id": "d58ffc6c-9ab6-44f1-9a9f-99434119f3b4",
   "metadata": {},
   "outputs": [
    {
     "name": "stdout",
     "output_type": "stream",
     "text": [
      "<class 'pandas.core.frame.DataFrame'>\n",
      "RangeIndex: 24474 entries, 0 to 24473\n",
      "Data columns (total 6 columns):\n",
      " #   Column         Non-Null Count  Dtype         \n",
      "---  ------         --------------  -----         \n",
      " 0   handle         24474 non-null  object        \n",
      " 1   text           23215 non-null  object        \n",
      " 2   url            24474 non-null  object        \n",
      " 3   earliest_date  24474 non-null  datetime64[ns]\n",
      " 4   is_story       24474 non-null  bool          \n",
      " 5   domain         24474 non-null  object        \n",
      "dtypes: bool(1), datetime64[ns](1), object(4)\n",
      "memory usage: 980.0+ KB\n"
     ]
    }
   ],
   "source": [
    "link_df.info()"
   ]
  },
  {
   "cell_type": "code",
   "execution_count": 8,
   "id": "d8e2a348-deb0-4224-b100-df88d9b9488f",
   "metadata": {},
   "outputs": [
    {
     "data": {
      "text/plain": [
       "Timestamp('2022-11-04 00:00:00')"
      ]
     },
     "execution_count": 8,
     "metadata": {},
     "output_type": "execute_result"
    }
   ],
   "source": [
    "link_df.earliest_date.min()"
   ]
  },
  {
   "cell_type": "code",
   "execution_count": 9,
   "id": "47b6a30d-32d4-4089-b3f6-fadc65dee982",
   "metadata": {},
   "outputs": [
    {
     "data": {
      "text/plain": [
       "Timestamp('2022-11-10 00:00:00')"
      ]
     },
     "execution_count": 9,
     "metadata": {},
     "output_type": "execute_result"
    }
   ],
   "source": [
    "link_df.earliest_date.max()"
   ]
  },
  {
   "cell_type": "code",
   "execution_count": 10,
   "id": "b352d8cb-4552-4742-8ed6-6253ba091653",
   "metadata": {},
   "outputs": [
    {
     "data": {
      "text/html": [
       "<div>\n",
       "<style scoped>\n",
       "    .dataframe tbody tr th:only-of-type {\n",
       "        vertical-align: middle;\n",
       "    }\n",
       "\n",
       "    .dataframe tbody tr th {\n",
       "        vertical-align: top;\n",
       "    }\n",
       "\n",
       "    .dataframe thead th {\n",
       "        text-align: right;\n",
       "    }\n",
       "</style>\n",
       "<table border=\"1\" class=\"dataframe\">\n",
       "  <thead>\n",
       "    <tr style=\"text-align: right;\">\n",
       "      <th></th>\n",
       "      <th>handle</th>\n",
       "      <th>text</th>\n",
       "      <th>url</th>\n",
       "      <th>earliest_date</th>\n",
       "      <th>is_story</th>\n",
       "      <th>domain</th>\n",
       "    </tr>\n",
       "  </thead>\n",
       "  <tbody>\n",
       "    <tr>\n",
       "      <th>0</th>\n",
       "      <td>DailyCaller</td>\n",
       "      <td>NaN</td>\n",
       "      <td>/2022/11/10/calhoun-georgia-police-say-6-year-...</td>\n",
       "      <td>2022-11-10</td>\n",
       "      <td>False</td>\n",
       "      <td>.</td>\n",
       "    </tr>\n",
       "    <tr>\n",
       "      <th>1</th>\n",
       "      <td>DailyCaller</td>\n",
       "      <td>NaN</td>\n",
       "      <td>/2022/11/10/hochul-breed-new-york-san-francisc...</td>\n",
       "      <td>2022-11-10</td>\n",
       "      <td>False</td>\n",
       "      <td>.</td>\n",
       "    </tr>\n",
       "    <tr>\n",
       "      <th>2</th>\n",
       "      <td>DailyCaller</td>\n",
       "      <td>NaN</td>\n",
       "      <td>/2022/11/10/kaushik-ignoring-science-and-techn...</td>\n",
       "      <td>2022-11-10</td>\n",
       "      <td>False</td>\n",
       "      <td>.</td>\n",
       "    </tr>\n",
       "    <tr>\n",
       "      <th>3</th>\n",
       "      <td>DailyCaller</td>\n",
       "      <td>NaN</td>\n",
       "      <td>/2022/11/10/midterms-tv-views-downward-trend/</td>\n",
       "      <td>2022-11-10</td>\n",
       "      <td>False</td>\n",
       "      <td>.</td>\n",
       "    </tr>\n",
       "    <tr>\n",
       "      <th>4</th>\n",
       "      <td>DailyCaller</td>\n",
       "      <td>NaN</td>\n",
       "      <td>/2022/11/10/mortgage-payments-pummel-homeowners/</td>\n",
       "      <td>2022-11-10</td>\n",
       "      <td>False</td>\n",
       "      <td>.</td>\n",
       "    </tr>\n",
       "  </tbody>\n",
       "</table>\n",
       "</div>"
      ],
      "text/plain": [
       "        handle text                                                url  \\\n",
       "0  DailyCaller  NaN  /2022/11/10/calhoun-georgia-police-say-6-year-...   \n",
       "1  DailyCaller  NaN  /2022/11/10/hochul-breed-new-york-san-francisc...   \n",
       "2  DailyCaller  NaN  /2022/11/10/kaushik-ignoring-science-and-techn...   \n",
       "3  DailyCaller  NaN      /2022/11/10/midterms-tv-views-downward-trend/   \n",
       "4  DailyCaller  NaN   /2022/11/10/mortgage-payments-pummel-homeowners/   \n",
       "\n",
       "  earliest_date  is_story domain  \n",
       "0    2022-11-10     False      .  \n",
       "1    2022-11-10     False      .  \n",
       "2    2022-11-10     False      .  \n",
       "3    2022-11-10     False      .  \n",
       "4    2022-11-10     False      .  "
      ]
     },
     "execution_count": 10,
     "metadata": {},
     "output_type": "execute_result"
    }
   ],
   "source": [
    "link_df.head()"
   ]
  },
  {
   "cell_type": "markdown",
   "id": "f440acb4-af3b-46d5-ac48-f10f90603144",
   "metadata": {},
   "source": [
    "## Transform"
   ]
  },
  {
   "cell_type": "markdown",
   "id": "4074e086-bc90-4969-8b19-240495176ef4",
   "metadata": {},
   "source": [
    "Filter down to stories"
   ]
  },
  {
   "cell_type": "code",
   "execution_count": 58,
   "id": "b5058f18-7ece-4769-8793-8d6402a88e91",
   "metadata": {},
   "outputs": [],
   "source": [
    "story_df = link_df[\n",
    "    (link_df.is_story) &\n",
    "    ~(pd.isnull(link_df.text))\n",
    "].drop_duplicates([\"handle\", \"text\"], keep=\"first\").copy()"
   ]
  },
  {
   "cell_type": "markdown",
   "id": "60de4607-2b6d-4d74-b7b9-803d023c6921",
   "metadata": {},
   "source": [
    "Cut `...`"
   ]
  },
  {
   "cell_type": "code",
   "execution_count": 59,
   "id": "f6270e2a-ee19-4798-861c-3ddbfc64a865",
   "metadata": {},
   "outputs": [],
   "source": [
    "story_df.text = story_df.text.str.replace(r\"\\.{2,}\", \"\", regex=True)"
   ]
  },
  {
   "cell_type": "code",
   "execution_count": 60,
   "id": "9f38a20c-22fe-4855-b02b-830b3149e8e3",
   "metadata": {},
   "outputs": [],
   "source": [
    "story_df = story_df[~story_df.text.str.contains(r\"^\\d+$\", regex=True)]"
   ]
  },
  {
   "cell_type": "code",
   "execution_count": 61,
   "id": "b145ebab-a85d-491f-bb6f-2d75b2937b59",
   "metadata": {},
   "outputs": [],
   "source": [
    "story_df = story_df[~story_df.text.str.contains(r\"^\\d+,\\d+$\", regex=True)]"
   ]
  },
  {
   "cell_type": "code",
   "execution_count": 62,
   "id": "82b69ac3-9aed-4138-b6f0-db042a01a469",
   "metadata": {},
   "outputs": [],
   "source": [
    "story_df = story_df[~story_df.text.str.startswith(\"[Gallery]\")]"
   ]
  },
  {
   "cell_type": "code",
   "execution_count": 63,
   "id": "7c793fb4-7dff-477a-a3e3-571911b10447",
   "metadata": {},
   "outputs": [],
   "source": [
    "story_df = story_df[~story_df.text.str.startswith(\"[Photos]\")]"
   ]
  },
  {
   "cell_type": "code",
   "execution_count": 64,
   "id": "661b3433-e541-42dc-9259-2c17da05a513",
   "metadata": {},
   "outputs": [],
   "source": [
    "story_df = story_df[~story_df.text.str.lower().str.contains(\"\\d+ comments\")]"
   ]
  },
  {
   "cell_type": "code",
   "execution_count": 65,
   "id": "5fcc07c4-8ce6-4435-bade-da86152c0bbf",
   "metadata": {},
   "outputs": [],
   "source": [
    "story_df = story_df[~story_df.text.str.lower().str.contains(\"\\d+ responses\")]"
   ]
  },
  {
   "cell_type": "code",
   "execution_count": 76,
   "id": "f0e18c38-efd0-4604-9316-ad676a7380e9",
   "metadata": {},
   "outputs": [],
   "source": [
    "story_df = story_df[~story_df.text.str.lower().str.startswith(\"comments\")]"
   ]
  },
  {
   "cell_type": "code",
   "execution_count": 77,
   "id": "7b2f6f9d-0ed6-450b-96c2-135781f2d39a",
   "metadata": {},
   "outputs": [],
   "source": [
    "story_df = story_df[~story_df.url.str.contains(\"https://trends.revcontent.com\")]"
   ]
  },
  {
   "cell_type": "code",
   "execution_count": 78,
   "id": "c9a12bda-c31b-434a-b818-22b2a66f56be",
   "metadata": {},
   "outputs": [
    {
     "data": {
      "text/plain": [
       "2022-11-08    1199\n",
       "2022-11-04    1146\n",
       "2022-11-09     877\n",
       "2022-11-10     759\n",
       "2022-11-07     642\n",
       "2022-11-06     438\n",
       "2022-11-05     404\n",
       "Name: earliest_date, dtype: int64"
      ]
     },
     "execution_count": 78,
     "metadata": {},
     "output_type": "execute_result"
    }
   ],
   "source": [
    "story_df.earliest_date.value_counts()"
   ]
  },
  {
   "cell_type": "code",
   "execution_count": 82,
   "id": "a373f6df-2a70-4901-89f5-5d80c8581bfd",
   "metadata": {},
   "outputs": [],
   "source": [
    "story_df.url = story_df.url.str.strip()"
   ]
  },
  {
   "cell_type": "code",
   "execution_count": 83,
   "id": "ced31d22-4fa1-438a-ab7d-2e03f923b068",
   "metadata": {},
   "outputs": [],
   "source": [
    "today_df = story_df[story_df.earliest_date >= '2022-11-08']"
   ]
  },
  {
   "cell_type": "code",
   "execution_count": 113,
   "id": "6b21c750-d33d-473b-960f-ca7c87f19f71",
   "metadata": {},
   "outputs": [],
   "source": [
    "today_df.sort_values(\"text\").to_csv(\"us-right-wing-election-headlines.csv\", index=False)"
   ]
  },
  {
   "cell_type": "markdown",
   "id": "a481d0d1-d9e3-4da9-9c50-31001644303f",
   "metadata": {},
   "source": [
    "Extract all unique headlines"
   ]
  },
  {
   "cell_type": "code",
   "execution_count": 85,
   "id": "f888f159-98ac-4c80-8fbe-28f14180a28e",
   "metadata": {},
   "outputs": [],
   "source": [
    "headline_list = sorted(list(today_df.text.unique()))"
   ]
  },
  {
   "cell_type": "markdown",
   "id": "5e4e53f1-ff08-4783-8a33-a8c25a5a2567",
   "metadata": {},
   "source": [
    "## Analyze"
   ]
  },
  {
   "cell_type": "markdown",
   "id": "a114ec16-48dc-4c40-be61-658caec75516",
   "metadata": {},
   "source": [
    "Pull out all of the meaningful words"
   ]
  },
  {
   "cell_type": "code",
   "execution_count": 86,
   "id": "7069caa9-9742-4e88-bd07-17e83808ad54",
   "metadata": {},
   "outputs": [],
   "source": [
    "def get_lemma(headline: str) -> typing.Dict:\n",
    "    \"\"\"Parse all of the words we want to keep in the headline.\"\"\"\n",
    "    # Read it into our NPL thing\n",
    "    doc = nlp(headline)\n",
    "    \n",
    "    # Parse out all the words\n",
    "    token_list = [token for token in doc]\n",
    "\n",
    "    # Remove stop words\n",
    "    token_list = [t for t in token_list if not t.is_stop]\n",
    "\n",
    "    # Remove punctuation words\n",
    "    token_list = [t for t in token_list if not t.is_punct]\n",
    "\n",
    "    # Remove digits\n",
    "    token_list = [t for t in token_list if not t.is_digit]\n",
    "\n",
    "    # Trim it down to only the stuff we want to keep\n",
    "    dict_list = [dict(\n",
    "        headline=headline,\n",
    "        word=t.text.upper(),\n",
    "        lemma=t.lemma_.upper(),\n",
    "        part_of_speech=t.pos_,\n",
    "    ) for t in token_list]\n",
    "    \n",
    "    # Pass it back\n",
    "    return dict_list"
   ]
  },
  {
   "cell_type": "code",
   "execution_count": 87,
   "id": "75e84a08-bd12-4bef-8ffd-3e04ce4b63d0",
   "metadata": {},
   "outputs": [
    {
     "data": {
      "application/vnd.jupyter.widget-view+json": {
       "model_id": "6d3b4599819443a8a58ff475caab6d02",
       "version_major": 2,
       "version_minor": 0
      },
      "text/plain": [
       "Output()"
      ]
     },
     "metadata": {},
     "output_type": "display_data"
    },
    {
     "data": {
      "text/html": [
       "<pre style=\"white-space:pre;overflow-x:auto;line-height:normal;font-family:Menlo,'DejaVu Sans Mono',consolas,'Courier New',monospace\"></pre>\n"
      ],
      "text/plain": []
     },
     "metadata": {},
     "output_type": "display_data"
    },
    {
     "data": {
      "text/html": [
       "<pre style=\"white-space:pre;overflow-x:auto;line-height:normal;font-family:Menlo,'DejaVu Sans Mono',consolas,'Courier New',monospace\">\n",
       "</pre>\n"
      ],
      "text/plain": [
       "\n"
      ]
     },
     "metadata": {},
     "output_type": "display_data"
    }
   ],
   "source": [
    "word_list = []\n",
    "for headline in track(headline_list):\n",
    "    word_list += get_lemma(headline)"
   ]
  },
  {
   "cell_type": "code",
   "execution_count": 88,
   "id": "c348ee6c-273d-4141-872d-a19cf1d78243",
   "metadata": {},
   "outputs": [],
   "source": [
    "word_df = pd.DataFrame(word_list)"
   ]
  },
  {
   "cell_type": "code",
   "execution_count": 89,
   "id": "5094b4de-af0e-4033-8c37-e2be8feaaf5a",
   "metadata": {},
   "outputs": [
    {
     "name": "stdout",
     "output_type": "stream",
     "text": [
      "<class 'pandas.core.frame.DataFrame'>\n",
      "RangeIndex: 20975 entries, 0 to 20974\n",
      "Data columns (total 4 columns):\n",
      " #   Column          Non-Null Count  Dtype \n",
      "---  ------          --------------  ----- \n",
      " 0   headline        20975 non-null  object\n",
      " 1   word            20975 non-null  object\n",
      " 2   lemma           20975 non-null  object\n",
      " 3   part_of_speech  20975 non-null  object\n",
      "dtypes: object(4)\n",
      "memory usage: 655.6+ KB\n"
     ]
    }
   ],
   "source": [
    "word_df.info()"
   ]
  },
  {
   "cell_type": "code",
   "execution_count": 90,
   "id": "aa47f380-74d9-492d-bfd7-969036f0ff4b",
   "metadata": {},
   "outputs": [
    {
     "data": {
      "text/html": [
       "<div>\n",
       "<style scoped>\n",
       "    .dataframe tbody tr th:only-of-type {\n",
       "        vertical-align: middle;\n",
       "    }\n",
       "\n",
       "    .dataframe tbody tr th {\n",
       "        vertical-align: top;\n",
       "    }\n",
       "\n",
       "    .dataframe thead th {\n",
       "        text-align: right;\n",
       "    }\n",
       "</style>\n",
       "<table border=\"1\" class=\"dataframe\">\n",
       "  <thead>\n",
       "    <tr style=\"text-align: right;\">\n",
       "      <th></th>\n",
       "      <th>headline</th>\n",
       "      <th>word</th>\n",
       "      <th>lemma</th>\n",
       "      <th>part_of_speech</th>\n",
       "    </tr>\n",
       "  </thead>\n",
       "  <tbody>\n",
       "    <tr>\n",
       "      <th>0</th>\n",
       "      <td>\"Car Vending Machine\" Company Carvana's Stock ...</td>\n",
       "      <td>CAR</td>\n",
       "      <td>CAR</td>\n",
       "      <td>NOUN</td>\n",
       "    </tr>\n",
       "    <tr>\n",
       "      <th>1</th>\n",
       "      <td>\"Car Vending Machine\" Company Carvana's Stock ...</td>\n",
       "      <td>VENDING</td>\n",
       "      <td>VEND</td>\n",
       "      <td>VERB</td>\n",
       "    </tr>\n",
       "    <tr>\n",
       "      <th>2</th>\n",
       "      <td>\"Car Vending Machine\" Company Carvana's Stock ...</td>\n",
       "      <td>MACHINE</td>\n",
       "      <td>MACHINE</td>\n",
       "      <td>NOUN</td>\n",
       "    </tr>\n",
       "    <tr>\n",
       "      <th>3</th>\n",
       "      <td>\"Car Vending Machine\" Company Carvana's Stock ...</td>\n",
       "      <td>COMPANY</td>\n",
       "      <td>COMPANY</td>\n",
       "      <td>PROPN</td>\n",
       "    </tr>\n",
       "    <tr>\n",
       "      <th>4</th>\n",
       "      <td>\"Car Vending Machine\" Company Carvana's Stock ...</td>\n",
       "      <td>CARVANA</td>\n",
       "      <td>CARVANA</td>\n",
       "      <td>PROPN</td>\n",
       "    </tr>\n",
       "  </tbody>\n",
       "</table>\n",
       "</div>"
      ],
      "text/plain": [
       "                                            headline     word    lemma  \\\n",
       "0  \"Car Vending Machine\" Company Carvana's Stock ...      CAR      CAR   \n",
       "1  \"Car Vending Machine\" Company Carvana's Stock ...  VENDING     VEND   \n",
       "2  \"Car Vending Machine\" Company Carvana's Stock ...  MACHINE  MACHINE   \n",
       "3  \"Car Vending Machine\" Company Carvana's Stock ...  COMPANY  COMPANY   \n",
       "4  \"Car Vending Machine\" Company Carvana's Stock ...  CARVANA  CARVANA   \n",
       "\n",
       "  part_of_speech  \n",
       "0           NOUN  \n",
       "1           VERB  \n",
       "2           NOUN  \n",
       "3          PROPN  \n",
       "4          PROPN  "
      ]
     },
     "execution_count": 90,
     "metadata": {},
     "output_type": "execute_result"
    }
   ],
   "source": [
    "word_df.head()"
   ]
  },
  {
   "cell_type": "markdown",
   "id": "6ce09ce0-3f02-4c76-9a77-0faa2f97de16",
   "metadata": {},
   "source": [
    "Remove our extra stop words, as well as all symbols and verbs"
   ]
  },
  {
   "cell_type": "code",
   "execution_count": 91,
   "id": "54c1e77e-9d43-428c-ab14-00cb822f5b03",
   "metadata": {},
   "outputs": [],
   "source": [
    "stop_list = [\n",
    "    \"COMMENTS\",\n",
    "    \"COMMENT\",\n",
    "]"
   ]
  },
  {
   "cell_type": "code",
   "execution_count": 92,
   "id": "ab36e66a-cb25-4909-8b28-d284261d9fca",
   "metadata": {},
   "outputs": [],
   "source": [
    "qualified_df = word_df[\n",
    "    (~word_df.part_of_speech.isin([\"SYM\", \"VERB\"])) &\n",
    "    (~word_df.lemma.isin(stop_list))\n",
    "]"
   ]
  },
  {
   "cell_type": "markdown",
   "id": "dfdd42ad-4e6e-419f-a937-3362418e7d49",
   "metadata": {},
   "source": [
    "Calculate the 25 most common words"
   ]
  },
  {
   "cell_type": "code",
   "execution_count": 100,
   "id": "45c5584e-2d02-4b14-80b7-7184ddcdc1b9",
   "metadata": {},
   "outputs": [],
   "source": [
    "top_words = (\n",
    "    qualified_df.groupby(\"lemma\")\n",
    "        .size()\n",
    "        .rename(\"n\")\n",
    "        .reset_index()\n",
    "        .sort_values(\"n\", ascending=False)\n",
    "        .head(50)\n",
    ")"
   ]
  },
  {
   "cell_type": "markdown",
   "id": "3e2f604e-90c6-404a-ad40-c7b71811a0c0",
   "metadata": {},
   "source": [
    "Get the top verb used with each word"
   ]
  },
  {
   "cell_type": "code",
   "execution_count": 101,
   "id": "983d5093-079f-41bc-acb5-54c5800f465c",
   "metadata": {},
   "outputs": [],
   "source": [
    "def get_headlines(lemma: str) -> typing.List:\n",
    "    \"\"\"Get all the headlines for the provided word.\"\"\"\n",
    "    return sorted(list(qualified_df[qualified_df.lemma == lemma].headline.unique()))"
   ]
  },
  {
   "cell_type": "code",
   "execution_count": 102,
   "id": "d343b8aa-5616-4ee3-a6e7-da1de1d011c1",
   "metadata": {},
   "outputs": [],
   "source": [
    "def get_top_verb(lemma: str) -> str:\n",
    "    \"\"\"Get the top verb in the provided lemma's headline set.\"\"\"\n",
    "    # Set our stop words for the verbs\n",
    "    stop_verbs = [\"SAYS\", \"HAS\", \"GETS\", \"GET\", \"LULA\", \"ELON\", \"SAY\", \"HAVE\",]\n",
    "    if lemma == \"COVID\":\n",
    "        stop_verbs += [\"TESTS\"]\n",
    "    if lemma == \"MUSK\":\n",
    "        stop_verbs += [\"SOCIAL\"]\n",
    "\n",
    "    # Pull the headlines\n",
    "    headline_list = get_headlines(lemma)\n",
    "\n",
    "    # Loop through all of the headlines\n",
    "    master_list = []    \n",
    "    for headline in headline_list:\n",
    "        # Parse the headline again with NLP\n",
    "        doc = nlp(headline)\n",
    "        \n",
    "        # Pull out the verbs\n",
    "        verb_list = [t.lemma_.upper() for t in doc if t.pos_ == \"VERB\"]\n",
    "        \n",
    "        # Cut the stop words\n",
    "        verb_list = [v for v in verb_list if v not in stop_verbs]\n",
    "        \n",
    "        # Add it to our master list\n",
    "        master_list += verb_list\n",
    "    \n",
    "    # Count the verbs\n",
    "    verb_counter = Counter(master_list)\n",
    "    \n",
    "    # Pull the most common one\n",
    "    top_verb = verb_counter.most_common(2)\n",
    "    \n",
    "    # Return the result\n",
    "    return top_verb[0][0]"
   ]
  },
  {
   "cell_type": "code",
   "execution_count": 103,
   "id": "f90ea497-375a-4956-b00a-97352d5a2f16",
   "metadata": {},
   "outputs": [],
   "source": [
    "top_words['top_verb'] = top_words.lemma.apply(get_top_verb)"
   ]
  },
  {
   "cell_type": "code",
   "execution_count": 104,
   "id": "e96fbcb2-ec33-4271-a6d8-71ee42cd5bbd",
   "metadata": {},
   "outputs": [
    {
     "data": {
      "text/html": [
       "<div>\n",
       "<style scoped>\n",
       "    .dataframe tbody tr th:only-of-type {\n",
       "        vertical-align: middle;\n",
       "    }\n",
       "\n",
       "    .dataframe tbody tr th {\n",
       "        vertical-align: top;\n",
       "    }\n",
       "\n",
       "    .dataframe thead th {\n",
       "        text-align: right;\n",
       "    }\n",
       "</style>\n",
       "<table border=\"1\" class=\"dataframe\">\n",
       "  <thead>\n",
       "    <tr style=\"text-align: right;\">\n",
       "      <th></th>\n",
       "      <th>lemma</th>\n",
       "      <th>n</th>\n",
       "      <th>top_verb</th>\n",
       "    </tr>\n",
       "  </thead>\n",
       "  <tbody>\n",
       "    <tr>\n",
       "      <th>1531</th>\n",
       "      <td>ELECTION</td>\n",
       "      <td>242</td>\n",
       "      <td>WIN</td>\n",
       "    </tr>\n",
       "    <tr>\n",
       "      <th>528</th>\n",
       "      <td>BIDEN</td>\n",
       "      <td>175</td>\n",
       "      <td>RUN</td>\n",
       "    </tr>\n",
       "    <tr>\n",
       "      <th>3022</th>\n",
       "      <td>MIDTERM</td>\n",
       "      <td>156</td>\n",
       "      <td>GO</td>\n",
       "    </tr>\n",
       "    <tr>\n",
       "      <th>4804</th>\n",
       "      <td>TRUMP</td>\n",
       "      <td>155</td>\n",
       "      <td>WIN</td>\n",
       "    </tr>\n",
       "    <tr>\n",
       "      <th>3780</th>\n",
       "      <td>RACE</td>\n",
       "      <td>141</td>\n",
       "      <td>WIN</td>\n",
       "    </tr>\n",
       "    <tr>\n",
       "      <th>1993</th>\n",
       "      <td>GOP</td>\n",
       "      <td>129</td>\n",
       "      <td>HOLD</td>\n",
       "    </tr>\n",
       "    <tr>\n",
       "      <th>3228</th>\n",
       "      <td>NEW</td>\n",
       "      <td>120</td>\n",
       "      <td>WIN</td>\n",
       "    </tr>\n",
       "    <tr>\n",
       "      <th>4189</th>\n",
       "      <td>SENATE</td>\n",
       "      <td>111</td>\n",
       "      <td>WIN</td>\n",
       "    </tr>\n",
       "    <tr>\n",
       "      <th>3927</th>\n",
       "      <td>REPUBLICAN</td>\n",
       "      <td>108</td>\n",
       "      <td>WIN</td>\n",
       "    </tr>\n",
       "    <tr>\n",
       "      <th>2223</th>\n",
       "      <td>HOUSE</td>\n",
       "      <td>103</td>\n",
       "      <td>WIN</td>\n",
       "    </tr>\n",
       "    <tr>\n",
       "      <th>1229</th>\n",
       "      <td>DAY</td>\n",
       "      <td>87</td>\n",
       "      <td>COUNT</td>\n",
       "    </tr>\n",
       "    <tr>\n",
       "      <th>5014</th>\n",
       "      <td>VOTER</td>\n",
       "      <td>81</td>\n",
       "      <td>REJECT</td>\n",
       "    </tr>\n",
       "    <tr>\n",
       "      <th>1322</th>\n",
       "      <td>DESANTIS</td>\n",
       "      <td>78</td>\n",
       "      <td>WIN</td>\n",
       "    </tr>\n",
       "    <tr>\n",
       "      <th>1298</th>\n",
       "      <td>DEMOCRATS</td>\n",
       "      <td>76</td>\n",
       "      <td>LOSE</td>\n",
       "    </tr>\n",
       "    <tr>\n",
       "      <th>3928</th>\n",
       "      <td>REPUBLICANS</td>\n",
       "      <td>67</td>\n",
       "      <td>WIN</td>\n",
       "    </tr>\n",
       "    <tr>\n",
       "      <th>4431</th>\n",
       "      <td>STATE</td>\n",
       "      <td>65</td>\n",
       "      <td>LEGALIZE</td>\n",
       "    </tr>\n",
       "    <tr>\n",
       "      <th>1296</th>\n",
       "      <td>DEMOCRAT</td>\n",
       "      <td>65</td>\n",
       "      <td>WIN</td>\n",
       "    </tr>\n",
       "    <tr>\n",
       "      <th>3862</th>\n",
       "      <td>RED</td>\n",
       "      <td>63</td>\n",
       "      <td>WIN</td>\n",
       "    </tr>\n",
       "    <tr>\n",
       "      <th>441</th>\n",
       "      <td>BALLOT</td>\n",
       "      <td>59</td>\n",
       "      <td>COUNT</td>\n",
       "    </tr>\n",
       "    <tr>\n",
       "      <th>1802</th>\n",
       "      <td>FLORIDA</td>\n",
       "      <td>58</td>\n",
       "      <td>WIN</td>\n",
       "    </tr>\n",
       "    <tr>\n",
       "      <th>3602</th>\n",
       "      <td>POLL</td>\n",
       "      <td>56</td>\n",
       "      <td>FIND</td>\n",
       "    </tr>\n",
       "    <tr>\n",
       "      <th>3945</th>\n",
       "      <td>RESULT</td>\n",
       "      <td>55</td>\n",
       "      <td>TAKE</td>\n",
       "    </tr>\n",
       "    <tr>\n",
       "      <th>4849</th>\n",
       "      <td>U.S.</td>\n",
       "      <td>55</td>\n",
       "      <td>SEE</td>\n",
       "    </tr>\n",
       "    <tr>\n",
       "      <th>5157</th>\n",
       "      <td>WORLD</td>\n",
       "      <td>55</td>\n",
       "      <td>PLAY</td>\n",
       "    </tr>\n",
       "    <tr>\n",
       "      <th>4981</th>\n",
       "      <td>VICTORY</td>\n",
       "      <td>52</td>\n",
       "      <td>DECLARE</td>\n",
       "    </tr>\n",
       "    <tr>\n",
       "      <th>3166</th>\n",
       "      <td>MUSK</td>\n",
       "      <td>51</td>\n",
       "      <td>LOOK</td>\n",
       "    </tr>\n",
       "    <tr>\n",
       "      <th>532</th>\n",
       "      <td>BIG</td>\n",
       "      <td>50</td>\n",
       "      <td>WIN</td>\n",
       "    </tr>\n",
       "    <tr>\n",
       "      <th>1108</th>\n",
       "      <td>COUNTY</td>\n",
       "      <td>50</td>\n",
       "      <td>VOTE</td>\n",
       "    </tr>\n",
       "    <tr>\n",
       "      <th>2002</th>\n",
       "      <td>GOVERNOR</td>\n",
       "      <td>49</td>\n",
       "      <td>WIN</td>\n",
       "    </tr>\n",
       "    <tr>\n",
       "      <th>4838</th>\n",
       "      <td>TWITTER</td>\n",
       "      <td>49</td>\n",
       "      <td>END</td>\n",
       "    </tr>\n",
       "    <tr>\n",
       "      <th>5012</th>\n",
       "      <td>VOTE</td>\n",
       "      <td>47</td>\n",
       "      <td>COUNT</td>\n",
       "    </tr>\n",
       "    <tr>\n",
       "      <th>3257</th>\n",
       "      <td>NIGHT</td>\n",
       "      <td>47</td>\n",
       "      <td>TELL</td>\n",
       "    </tr>\n",
       "    <tr>\n",
       "      <th>5180</th>\n",
       "      <td>YEAR</td>\n",
       "      <td>45</td>\n",
       "      <td>SERVE</td>\n",
       "    </tr>\n",
       "    <tr>\n",
       "      <th>2332</th>\n",
       "      <td>INFLATION</td>\n",
       "      <td>44</td>\n",
       "      <td>SEE</td>\n",
       "    </tr>\n",
       "    <tr>\n",
       "      <th>4336</th>\n",
       "      <td>SOCCER</td>\n",
       "      <td>44</td>\n",
       "      <td>MISS</td>\n",
       "    </tr>\n",
       "    <tr>\n",
       "      <th>877</th>\n",
       "      <td>CHINA</td>\n",
       "      <td>44</td>\n",
       "      <td>PREPARE</td>\n",
       "    </tr>\n",
       "    <tr>\n",
       "      <th>1938</th>\n",
       "      <td>GEORGIA</td>\n",
       "      <td>43</td>\n",
       "      <td>HEAD</td>\n",
       "    </tr>\n",
       "    <tr>\n",
       "      <th>100</th>\n",
       "      <td>ABORTION</td>\n",
       "      <td>42</td>\n",
       "      <td>REJECT</td>\n",
       "    </tr>\n",
       "    <tr>\n",
       "      <th>1182</th>\n",
       "      <td>CUP</td>\n",
       "      <td>40</td>\n",
       "      <td>PLAY</td>\n",
       "    </tr>\n",
       "    <tr>\n",
       "      <th>320</th>\n",
       "      <td>ARIZONA</td>\n",
       "      <td>39</td>\n",
       "      <td>COUNT</td>\n",
       "    </tr>\n",
       "    <tr>\n",
       "      <th>5062</th>\n",
       "      <td>WAVE</td>\n",
       "      <td>38</td>\n",
       "      <td>MATERIALIZE</td>\n",
       "    </tr>\n",
       "    <tr>\n",
       "      <th>4025</th>\n",
       "      <td>RON</td>\n",
       "      <td>37</td>\n",
       "      <td>WIN</td>\n",
       "    </tr>\n",
       "    <tr>\n",
       "      <th>4162</th>\n",
       "      <td>SEAT</td>\n",
       "      <td>36</td>\n",
       "      <td>WIN</td>\n",
       "    </tr>\n",
       "    <tr>\n",
       "      <th>1736</th>\n",
       "      <td>FETTERMAN</td>\n",
       "      <td>36</td>\n",
       "      <td>COUNT</td>\n",
       "    </tr>\n",
       "    <tr>\n",
       "      <th>3666</th>\n",
       "      <td>PRESIDENT</td>\n",
       "      <td>36</td>\n",
       "      <td>RUN</td>\n",
       "    </tr>\n",
       "    <tr>\n",
       "      <th>5185</th>\n",
       "      <td>YORK</td>\n",
       "      <td>35</td>\n",
       "      <td>WIN</td>\n",
       "    </tr>\n",
       "    <tr>\n",
       "      <th>1292</th>\n",
       "      <td>DEM</td>\n",
       "      <td>35</td>\n",
       "      <td>LOSE</td>\n",
       "    </tr>\n",
       "    <tr>\n",
       "      <th>5055</th>\n",
       "      <td>WATCH</td>\n",
       "      <td>34</td>\n",
       "      <td>GO</td>\n",
       "    </tr>\n",
       "    <tr>\n",
       "      <th>2859</th>\n",
       "      <td>MAN</td>\n",
       "      <td>32</td>\n",
       "      <td>SHOOT</td>\n",
       "    </tr>\n",
       "    <tr>\n",
       "      <th>3503</th>\n",
       "      <td>PENNSYLVANIA</td>\n",
       "      <td>32</td>\n",
       "      <td>REELECT</td>\n",
       "    </tr>\n",
       "  </tbody>\n",
       "</table>\n",
       "</div>"
      ],
      "text/plain": [
       "             lemma    n     top_verb\n",
       "1531      ELECTION  242          WIN\n",
       "528          BIDEN  175          RUN\n",
       "3022       MIDTERM  156           GO\n",
       "4804         TRUMP  155          WIN\n",
       "3780          RACE  141          WIN\n",
       "1993           GOP  129         HOLD\n",
       "3228           NEW  120          WIN\n",
       "4189        SENATE  111          WIN\n",
       "3927    REPUBLICAN  108          WIN\n",
       "2223         HOUSE  103          WIN\n",
       "1229           DAY   87        COUNT\n",
       "5014         VOTER   81       REJECT\n",
       "1322      DESANTIS   78          WIN\n",
       "1298     DEMOCRATS   76         LOSE\n",
       "3928   REPUBLICANS   67          WIN\n",
       "4431         STATE   65     LEGALIZE\n",
       "1296      DEMOCRAT   65          WIN\n",
       "3862           RED   63          WIN\n",
       "441         BALLOT   59        COUNT\n",
       "1802       FLORIDA   58          WIN\n",
       "3602          POLL   56         FIND\n",
       "3945        RESULT   55         TAKE\n",
       "4849          U.S.   55          SEE\n",
       "5157         WORLD   55         PLAY\n",
       "4981       VICTORY   52      DECLARE\n",
       "3166          MUSK   51         LOOK\n",
       "532            BIG   50          WIN\n",
       "1108        COUNTY   50         VOTE\n",
       "2002      GOVERNOR   49          WIN\n",
       "4838       TWITTER   49          END\n",
       "5012          VOTE   47        COUNT\n",
       "3257         NIGHT   47         TELL\n",
       "5180          YEAR   45        SERVE\n",
       "2332     INFLATION   44          SEE\n",
       "4336        SOCCER   44         MISS\n",
       "877          CHINA   44      PREPARE\n",
       "1938       GEORGIA   43         HEAD\n",
       "100       ABORTION   42       REJECT\n",
       "1182           CUP   40         PLAY\n",
       "320        ARIZONA   39        COUNT\n",
       "5062          WAVE   38  MATERIALIZE\n",
       "4025           RON   37          WIN\n",
       "4162          SEAT   36          WIN\n",
       "1736     FETTERMAN   36        COUNT\n",
       "3666     PRESIDENT   36          RUN\n",
       "5185          YORK   35          WIN\n",
       "1292           DEM   35         LOSE\n",
       "5055         WATCH   34           GO\n",
       "2859           MAN   32        SHOOT\n",
       "3503  PENNSYLVANIA   32      REELECT"
      ]
     },
     "execution_count": 104,
     "metadata": {},
     "output_type": "execute_result"
    }
   ],
   "source": [
    "top_words.head(50)"
   ]
  },
  {
   "cell_type": "markdown",
   "id": "6d75f83a-c5f0-45fa-9ba0-6c96299186e6",
   "metadata": {},
   "source": [
    "Get the timeseries for our top words"
   ]
  },
  {
   "cell_type": "code",
   "execution_count": 30,
   "id": "fdd2d5df-5f0a-40ba-98e7-0193dd2f996c",
   "metadata": {},
   "outputs": [],
   "source": [
    "min_date, max_date = story_df.earliest_date.min(), story_df.earliest_date.max()"
   ]
  },
  {
   "cell_type": "code",
   "execution_count": 31,
   "id": "4f1c9883-2414-4ed6-a1ca-d1e89d673f23",
   "metadata": {},
   "outputs": [],
   "source": [
    "def get_timeseries(lemma: str) -> typing.List:\n",
    "    \"\"\"Pull the day to day timeseries for the provided word.\"\"\"\n",
    "    # Count the top words by day\n",
    "    df = (\n",
    "        qualified_df[qualified_df.lemma == lemma]\n",
    "            .merge(story_df[['earliest_date', 'text']].rename(columns={\"text\": \"headline\"}), on=\"headline\")\n",
    "            .groupby(\"earliest_date\")\n",
    "            .size()\n",
    "            .rename(\"n\")\n",
    "            .reset_index()\n",
    "            .rename(columns={\"earliest_date\": \"date\"})\n",
    "            .set_index(\"date\")\n",
    "    )\n",
    "    \n",
    "    # Fill in days we're missing\n",
    "    date_range = pd.date_range(\n",
    "        min_date,\n",
    "        max_date,\n",
    "        freq=\"D\",\n",
    "    )\n",
    "    date_index = pd.DatetimeIndex(date_range)\n",
    "    backfilled_df = df.reindex(date_index)\n",
    "    backfilled_df.n.fillna(0, inplace=True)\n",
    "    \n",
    "    # Calculate the 7-day rolling average\n",
    "    backfilled_df['7_day_rolling_average'] = backfilled_df.n.rolling(7).mean()\n",
    "\n",
    "    # Convert it to a dict list\n",
    "    dict_list = backfilled_df.reset_index().rename(columns={\"index\": \"date\"}).to_dict(orient=\"records\")\n",
    "    \n",
    "    # Convert our dates to strings\n",
    "    for d in dict_list:\n",
    "        d['date'] = d['date'].strftime(\"%Y-%m-%d\")\n",
    "    \n",
    "    # Pass it out\n",
    "    return dict_list"
   ]
  },
  {
   "cell_type": "code",
   "execution_count": 32,
   "id": "afe81288-10e6-4f44-ae18-03c1a47e1713",
   "metadata": {},
   "outputs": [],
   "source": [
    "top_words['timeseries'] = top_words.lemma.apply(get_timeseries)"
   ]
  },
  {
   "cell_type": "code",
   "execution_count": 33,
   "id": "a0684ee5-7490-4dd7-962f-5cb37aad5063",
   "metadata": {},
   "outputs": [
    {
     "data": {
      "text/html": [
       "<div>\n",
       "<style scoped>\n",
       "    .dataframe tbody tr th:only-of-type {\n",
       "        vertical-align: middle;\n",
       "    }\n",
       "\n",
       "    .dataframe tbody tr th {\n",
       "        vertical-align: top;\n",
       "    }\n",
       "\n",
       "    .dataframe thead th {\n",
       "        text-align: right;\n",
       "    }\n",
       "</style>\n",
       "<table border=\"1\" class=\"dataframe\">\n",
       "  <thead>\n",
       "    <tr style=\"text-align: right;\">\n",
       "      <th></th>\n",
       "      <th>lemma</th>\n",
       "      <th>n</th>\n",
       "      <th>top_verb</th>\n",
       "      <th>timeseries</th>\n",
       "    </tr>\n",
       "  </thead>\n",
       "  <tbody>\n",
       "    <tr>\n",
       "      <th>7449</th>\n",
       "      <td>TRUMP</td>\n",
       "      <td>151</td>\n",
       "      <td>TAKE</td>\n",
       "      <td>[{'date': '2022-08-09', 'n': 5.0, '7_day_rolli...</td>\n",
       "    </tr>\n",
       "    <tr>\n",
       "      <th>750</th>\n",
       "      <td>BIDEN</td>\n",
       "      <td>104</td>\n",
       "      <td>WANT</td>\n",
       "      <td>[{'date': '2022-08-09', 'n': 3.0, '7_day_rolli...</td>\n",
       "    </tr>\n",
       "    <tr>\n",
       "      <th>2307</th>\n",
       "      <td>ELECTION</td>\n",
       "      <td>100</td>\n",
       "      <td>VOTE</td>\n",
       "      <td>[{'date': '2022-08-09', 'n': 0.0, '7_day_rolli...</td>\n",
       "    </tr>\n",
       "    <tr>\n",
       "      <th>7806</th>\n",
       "      <td>WAR</td>\n",
       "      <td>87</td>\n",
       "      <td>GROW</td>\n",
       "      <td>[{'date': '2022-08-09', 'n': 3.0, '7_day_rolli...</td>\n",
       "    </tr>\n",
       "    <tr>\n",
       "      <th>5547</th>\n",
       "      <td>PUTIN</td>\n",
       "      <td>74</td>\n",
       "      <td>BLOW</td>\n",
       "      <td>[{'date': '2022-08-09', 'n': 1.0, '7_day_rolli...</td>\n",
       "    </tr>\n",
       "  </tbody>\n",
       "</table>\n",
       "</div>"
      ],
      "text/plain": [
       "         lemma    n top_verb  \\\n",
       "7449     TRUMP  151     TAKE   \n",
       "750      BIDEN  104     WANT   \n",
       "2307  ELECTION  100     VOTE   \n",
       "7806       WAR   87     GROW   \n",
       "5547     PUTIN   74     BLOW   \n",
       "\n",
       "                                             timeseries  \n",
       "7449  [{'date': '2022-08-09', 'n': 5.0, '7_day_rolli...  \n",
       "750   [{'date': '2022-08-09', 'n': 3.0, '7_day_rolli...  \n",
       "2307  [{'date': '2022-08-09', 'n': 0.0, '7_day_rolli...  \n",
       "7806  [{'date': '2022-08-09', 'n': 3.0, '7_day_rolli...  \n",
       "5547  [{'date': '2022-08-09', 'n': 1.0, '7_day_rolli...  "
      ]
     },
     "execution_count": 33,
     "metadata": {},
     "output_type": "execute_result"
    }
   ],
   "source": [
    "top_words.head()"
   ]
  },
  {
   "cell_type": "markdown",
   "id": "1aae527b-861c-4ef8-b983-23063762f9ea",
   "metadata": {},
   "source": [
    "## Validation"
   ]
  },
  {
   "cell_type": "markdown",
   "id": "13b64756-85a4-4e39-891a-3a4d0b850042",
   "metadata": {},
   "source": [
    "Proof any words we're curious about"
   ]
  },
  {
   "cell_type": "code",
   "execution_count": 120,
   "id": "b418d1e8-90e7-4eaa-8547-2267a072bfbd",
   "metadata": {},
   "outputs": [
    {
     "data": {
      "text/plain": [
       "[\"'Illegal Electioneering' for PA Dems Fetterman, Shapiro Caught on Camera: Project Veritas\",\n",
       " 'Bernie Sanders-Backed John Fetterman Prevails in Pennsylvania',\n",
       " 'Birds of a Feather: Fetterman Touts Endorsement from Ex-Cop Sued for Accosting Innocent Black Man',\n",
       " 'Democrat Election Meddler Joins Fetterman Lawsuit to Count Illegal Ballots',\n",
       " 'Desperate Fetterman Turns to Russia Hoaxer Marc Elias to Force Pennsylvania to Count Undated Mail-in Ballots',\n",
       " 'Dr. Oz Concedes PA Senate Race to Fetterman',\n",
       " 'Dr. Oz concedes to Fetterman',\n",
       " 'FETTERMAN BEATS OZ!',\n",
       " 'Fetterman 2024!',\n",
       " 'Fetterman Campaign Hires Lawyer Marc Elias',\n",
       " 'Fetterman Campaign Reasoning for Counting Illegal Ballots Is Pure Comedy',\n",
       " 'Fetterman Picks Up Senate Seat for Democrats',\n",
       " 'Fetterman Projected Winner of US Senate Race',\n",
       " 'Fetterman Taps Dirty Tricks Dem Lawyer in 11th-Hour Mail-In Ballot Bid',\n",
       " 'Fetterman beats Oz in Pennsylvania, turning over Senate seat to Democrats',\n",
       " 'Fetterman for POTUS? NBC’s Tur Says Don’t Count Him Out!',\n",
       " 'Fetterman for president',\n",
       " 'GOP path to Senate majority gets tougher with John Fetterman win in Pennsylvania',\n",
       " 'How Much Working-Class Appeal Does John Fetterman Have Exactly?',\n",
       " 'John Fetterman Campaign Sues to Have Undated and Misdated Ballots Counted',\n",
       " 'John Fetterman Somehow Wins PA Senate Race',\n",
       " 'John Fetterman beats Dr. Oz in huge Pennsylvania Senate showdown',\n",
       " \"John Fetterman declared Pa. Senate winner over Dr. Oz and here's his victory speech\",\n",
       " 'John Fetterman delivers huge win for Democrats, outduels Mehmet Oz in Pennsylvania Senate race',\n",
       " 'Katy Tur suggests John Fetterman could potentially be a future presidential nominee',\n",
       " 'Lol: MSNBC Floats Future John Fetterman Presidential Run',\n",
       " 'MSNBC Host Floats John Fetterman as a Presidential Candidate – Yes, Really',\n",
       " 'MSNBC election night panel praises ‘unstoppable’ Fetterman campaign for being ‘transparent’',\n",
       " 'NBC’s Tur: You Have to ‘Wonder’ about Fetterman as a POTUS Nominee',\n",
       " 'NTD Good Morning (Nov. 10): Balance of Power in U.S. Senate Comes Down to 3 States; Mail-In Ballots Propel Fetterman to Victory',\n",
       " 'NTD News Today (Nov. 10): Arizona Results Could Take Until Friday; Mail-In Ballots Propel Fetterman to Victory',\n",
       " 'The Democrats are Already Floating the Idea of a Fetterman Presidential Run',\n",
       " 'Voters reveal how the Oz-Fetterman debate will impact their vote',\n",
       " 'Why Wait? Fetterman Sues in Federal Court to Force PA to Count Undated Ballots',\n",
       " \"Will Fetterman's health affect his Senate performance? Pennsylvanians weigh in\",\n",
       " \"Working-Class Pennsylvanians: Here's Why We're Not Voting for Fetterman\"]"
      ]
     },
     "execution_count": 120,
     "metadata": {},
     "output_type": "execute_result"
    }
   ],
   "source": [
    "get_headlines(\"FETTERMAN\")"
   ]
  },
  {
   "cell_type": "code",
   "execution_count": 106,
   "id": "0731375d-6c13-405b-a4c2-f40dc04c9673",
   "metadata": {},
   "outputs": [
    {
     "data": {
      "text/plain": [
       "39"
      ]
     },
     "execution_count": 106,
     "metadata": {},
     "output_type": "execute_result"
    }
   ],
   "source": [
    "len(get_headlines(\"ARIZONA\"))"
   ]
  },
  {
   "cell_type": "code",
   "execution_count": 112,
   "id": "dc6cfa39-4bab-4986-94b1-62793f04b062",
   "metadata": {},
   "outputs": [
    {
     "data": {
      "text/html": [
       "\n",
       "<div id=\"altair-viz-56ae2be13fee489eb982a3a2dc460c2b\"></div>\n",
       "<script type=\"text/javascript\">\n",
       "  var VEGA_DEBUG = (typeof VEGA_DEBUG == \"undefined\") ? {} : VEGA_DEBUG;\n",
       "  (function(spec, embedOpt){\n",
       "    let outputDiv = document.currentScript.previousElementSibling;\n",
       "    if (outputDiv.id !== \"altair-viz-56ae2be13fee489eb982a3a2dc460c2b\") {\n",
       "      outputDiv = document.getElementById(\"altair-viz-56ae2be13fee489eb982a3a2dc460c2b\");\n",
       "    }\n",
       "    const paths = {\n",
       "      \"vega\": \"https://cdn.jsdelivr.net/npm//vega@5?noext\",\n",
       "      \"vega-lib\": \"https://cdn.jsdelivr.net/npm//vega-lib?noext\",\n",
       "      \"vega-lite\": \"https://cdn.jsdelivr.net/npm//vega-lite@4.17.0?noext\",\n",
       "      \"vega-embed\": \"https://cdn.jsdelivr.net/npm//vega-embed@6?noext\",\n",
       "    };\n",
       "\n",
       "    function maybeLoadScript(lib, version) {\n",
       "      var key = `${lib.replace(\"-\", \"\")}_version`;\n",
       "      return (VEGA_DEBUG[key] == version) ?\n",
       "        Promise.resolve(paths[lib]) :\n",
       "        new Promise(function(resolve, reject) {\n",
       "          var s = document.createElement('script');\n",
       "          document.getElementsByTagName(\"head\")[0].appendChild(s);\n",
       "          s.async = true;\n",
       "          s.onload = () => {\n",
       "            VEGA_DEBUG[key] = version;\n",
       "            return resolve(paths[lib]);\n",
       "          };\n",
       "          s.onerror = () => reject(`Error loading script: ${paths[lib]}`);\n",
       "          s.src = paths[lib];\n",
       "        });\n",
       "    }\n",
       "\n",
       "    function showError(err) {\n",
       "      outputDiv.innerHTML = `<div class=\"error\" style=\"color:red;\">${err}</div>`;\n",
       "      throw err;\n",
       "    }\n",
       "\n",
       "    function displayChart(vegaEmbed) {\n",
       "      vegaEmbed(outputDiv, spec, embedOpt)\n",
       "        .catch(err => showError(`Javascript Error: ${err.message}<br>This usually means there's a typo in your chart specification. See the javascript console for the full traceback.`));\n",
       "    }\n",
       "\n",
       "    if(typeof define === \"function\" && define.amd) {\n",
       "      requirejs.config({paths});\n",
       "      require([\"vega-embed\"], displayChart, err => showError(`Error loading script: ${err.message}`));\n",
       "    } else {\n",
       "      maybeLoadScript(\"vega\", \"5\")\n",
       "        .then(() => maybeLoadScript(\"vega-lite\", \"4.17.0\"))\n",
       "        .then(() => maybeLoadScript(\"vega-embed\", \"6\"))\n",
       "        .catch(showError)\n",
       "        .then(() => displayChart(vegaEmbed));\n",
       "    }\n",
       "  })({\"config\": {\"view\": {\"continuousWidth\": 400, \"continuousHeight\": 300}}, \"data\": {\"name\": \"data-64aa80f615aea7d39f8682abf8618e1c\"}, \"mark\": \"bar\", \"encoding\": {\"tooltip\": [{\"field\": \"earliest_date\", \"type\": \"temporal\"}, {\"aggregate\": \"count\", \"type\": \"quantitative\"}], \"x\": {\"field\": \"earliest_date\", \"timeUnit\": \"yearmonthdate\", \"type\": \"temporal\"}, \"y\": {\"aggregate\": \"count\", \"type\": \"quantitative\"}}, \"$schema\": \"https://vega.github.io/schema/vega-lite/v4.17.0.json\", \"datasets\": {\"data-64aa80f615aea7d39f8682abf8618e1c\": [{\"handle\": \"BreitbartNews\", \"text\": \"Arizona Vote CountS\\u2026L\\u2026O\\u2026W\\u2026 \\u2014 But GOP Candidates Gain Ground\", \"url\": \"https://www.breitbart.com/politics/2022/11/09/gop-candidates-in-arizona-gain-ground-as-vote-tabulation-continues/\", \"earliest_date\": \"2022-11-09T00:00:00\", \"is_story\": true, \"domain\": \"breitbart.com\"}, {\"handle\": \"BreitbartNews\", \"text\": \"Border Patrol Agents Kill Armed Mexican National in Arizona\", \"url\": \"https://www.breitbart.com/border/2022/11/07/border-patrol-agents-kill-armed-mexican-national-in-arizona/\", \"earliest_date\": \"2022-11-08T00:00:00\", \"is_story\": true, \"domain\": \"breitbart.com\"}, {\"handle\": \"BreitbartNews\", \"text\": \"Democracy on the BallotShock: Vote Machine Problems: ArizonaIssues at *20%* of Maricopa County, Arizona, LocationsState Sec\\u2019y Katie Hobbs \\u2014 on Ballot for Governor!\", \"url\": \"https://www.breitbart.com/midterm-election/2022/11/08/reports-problems-with-vote-tabulation-machines-in-arizonas-maricopa-county/\", \"earliest_date\": \"2022-11-08T00:00:00\", \"is_story\": true, \"domain\": \"breitbart.com\"}, {\"handle\": \"BreitbartNews\", \"text\": \"Former Obama AG Eric Holder to Campaign with Arizona Democrat Katie Hobbs\", \"url\": \"https://www.breitbart.com/politics/2022/11/03/eric-holder-to-campaign-with-arizona-democrat-katie-hobbs-thursday/\", \"earliest_date\": \"2022-11-04T00:00:00\", \"is_story\": true, \"domain\": \"breitbart.com\"}, {\"handle\": \"BreitbartNews\", \"text\": \"Turning Point Host Interrupts Obama During Rally for Arizona Dems: \\u2018Katie Hobbs Discriminates Against Black People\\u2019\", \"url\": \"https://www.breitbart.com/politics/2022/11/03/turning-point-host-interrupts-obama-during-rally-for-arizona-democrats-katie-hobbs-discriminates-against-black-people/\", \"earliest_date\": \"2022-11-04T00:00:00\", \"is_story\": true, \"domain\": \"breitbart.com\"}, {\"handle\": \"DRUDGE\", \"text\": \"Inside 'nightmarish' Arizona abortion clinic\", \"url\": \"https://www.cnn.com/videos/us/2022/11/05/arizona-abortion-planned-parenthood-roe-v-wade-providers-contd-orig-llr.cnn\", \"earliest_date\": \"2022-11-07T00:00:00\", \"is_story\": true, \"domain\": \"cnn.com\"}, {\"handle\": \"bariweiss\", \"text\": \"Election Night in Arizona: \\u2018MAGA Is Not The Way It Used to Be\\u2019\", \"url\": \"https://www.commonsense.news/p/election-night-in-arizona-maga-is\", \"earliest_date\": \"2022-11-09T00:00:00\", \"is_story\": true, \"domain\": \"commonsense.news\"}, {\"handle\": \"foxnews\", \"text\": \"Arizona's Maricopa County starts hand count audit for unprocessed ballots\", \"url\": \"https://www.foxnews.com/politics/arizonas-maricopa-county-begins-hand-count-audit-estimated-400k-ballots-unprocessed\", \"earliest_date\": \"2022-11-10T00:00:00\", \"is_story\": true, \"domain\": \"foxnews.com\"}, {\"handle\": \"foxnews\", \"text\": \"Two days after midterms, slow Arizona vote count exasperates Twitter: \\u2018School children can count faster\\u2019\", \"url\": \"https://www.foxnews.com/media/two-days-midterms-slow-arizona-vote-count-exasperates-twitter-school-children-count-faster\", \"earliest_date\": \"2022-11-10T00:00:00\", \"is_story\": true, \"domain\": \"foxnews.com\"}, {\"handle\": \"foxnews\", \"text\": \"Arizona Senate candidate Masters backs challenge to McConnell for GOP leader\", \"url\": \"https://www.foxnews.com/politics/arizona-senate-candidate-masters-backs-challenge-mcconnell-gop-leader\", \"earliest_date\": \"2022-11-08T00:00:00\", \"is_story\": true, \"domain\": \"foxnews.com\"}, {\"handle\": \"foxnews\", \"text\": \"Arizona officials report tabulator issue on Election Day\", \"url\": \"https://video.foxnews.com/v/6315173463112/\", \"earliest_date\": \"2022-11-08T00:00:00\", \"is_story\": true, \"domain\": \"foxnews.com\"}, {\"handle\": \"foxnews\", \"text\": \"Maricopa County, Arizona, officials say 20% of voting locations experiencing 'hiccups' with tabulators\", \"url\": \"https://www.foxnews.com/politics/maricopa-county-arizona-officials-say-20-voting-locations-experiencing-hiccups-tabulators\", \"earliest_date\": \"2022-11-08T00:00:00\", \"is_story\": true, \"domain\": \"foxnews.com\"}, {\"handle\": \"foxnews\", \"text\": \"Republican candidates in Arizona, RNC sue after problems at voting locations\", \"url\": \"https://www.foxnews.com/politics/maricopa-county-blake-masters-kari-lake-rnc-after-hiccups-voting-locations\", \"earliest_date\": \"2022-11-08T00:00:00\", \"is_story\": true, \"domain\": \"foxnews.com\"}, {\"handle\": \"foxnews\", \"text\": \"Arizona voters split days before election\", \"url\": \"https://www.foxnews.com/politics/arizona-senate-race-voters-split-masters-vs-kelly-days-midterm-election\", \"earliest_date\": \"2022-11-07T00:00:00\", \"is_story\": true, \"domain\": \"foxnews.com\"}, {\"handle\": \"foxnews\", \"text\": \"This is why I want Arizona's vote in the midterm election\", \"url\": \"https://www.foxnews.com/opinion/katie-hobbs-arizonas-vote-midterm-elections\", \"earliest_date\": \"2022-11-05T00:00:00\", \"is_story\": true, \"domain\": \"foxnews.com\"}, {\"handle\": \"foxnews\", \"text\": \"WATCH LIVE:Actress Kerry Washington, singer Camila Cabello attend canvassing kickoff for Arizona Democrats\", \"url\": \"https://video.foxnews.com/v/6314955406112/\", \"earliest_date\": \"2022-11-04T00:00:00\", \"is_story\": true, \"domain\": \"foxnews.com\"}, {\"handle\": \"FreeBeacon\", \"text\": \"Arizona\\u2019s Largest County Says 20 Percent of Voting Locations Experiencing Tabulation Issues\", \"url\": \"https://freebeacon.com/elections/arizonas-largest-county-says-20-percent-of-voting-locations-experiencing-tabulation-issues/\", \"earliest_date\": \"2022-11-08T00:00:00\", \"is_story\": true, \"domain\": \"freebeacon.com\"}, {\"handle\": \"hotairblog\", \"text\": \"Live Election Night Results: Arizona, California, Oregon and Washington\", \"url\": \"https://hotair.com/john-s-2/2022/11/08/live-election-night-results-arizona-california-oregon-and-washington-n509179\", \"earliest_date\": \"2022-11-08T00:00:00\", \"is_story\": true, \"domain\": \"hotair.com\"}, {\"handle\": \"BonginoReport\", \"text\": \"Even Arizona Dems Think Katie Hobbs Should Recuse Herself\", \"url\": \"https://hotair.com/jazz-shaw/2022/11/03/even-arizona-democrats-think-katie-hobbs-should-recuse-herself-n507806\", \"earliest_date\": \"2022-11-04T00:00:00\", \"is_story\": true, \"domain\": \"hotair.com\"}, {\"handle\": \"BonginoReport\", \"text\": \"Judge Blocks Arizona County From Hand-Counting Ballots\", \"url\": \"https://justthenews.com/government/courts-law/judge-blocks-arizona-country-hand-counting-ballots\", \"earliest_date\": \"2022-11-08T00:00:00\", \"is_story\": true, \"domain\": \"justthenews.com\"}, {\"handle\": \"DRUDGE\", \"text\": \"OBAMA: Democracy 'may not survive' if Arizona Republicans win\", \"url\": \"https://www.msn.com/en-us/news/politics/obama-says-democracy-may-not-survive-if-arizona-republicans-win/ar-AA13H7m3\", \"earliest_date\": \"2022-11-04T00:00:00\", \"is_story\": true, \"domain\": \"msn.com\"}, {\"handle\": \"NRO\", \"text\": \"Chuck Norris Endorses Blake Masters in Arizona Senate Race\", \"url\": \"https://www.nationalreview.com/news/chuck-norris-endorses-blake-masters-in-arizona-senate-race/?utm_source=recirc-desktop&utm_medium=homepage&utm_campaign=hero&utm_content=related&utm_term=seventh\", \"earliest_date\": \"2022-11-06T00:00:00\", \"is_story\": true, \"domain\": \"nationalreview.com\"}, {\"handle\": \"RedState\", \"text\": \"Early Indications From Florida, Virginia and Arizona Signal the Red Wave Is Materializing\", \"url\": \"https://pjmedia.com/news-and-politics/stacey-lennox/2022/11/08/early-indications-from-florida-virginia-and-arizona-signal-the-red-wave-is-materializing-n1644164\", \"earliest_date\": \"2022-11-08T00:00:00\", \"is_story\": true, \"domain\": \"pjmedia.com\"}, {\"handle\": \"reason\", \"text\": \"Arizona Appeals Court Deflates Subsidies for Space Balloons\", \"url\": \"https://reason.com/2022/11/08/arizona-appeals-court-deflates-subsidies-for-space-balloons/\", \"earliest_date\": \"2022-11-08T00:00:00\", \"is_story\": true, \"domain\": \"reason.com\"}, {\"handle\": \"reason\", \"text\": \"In Arizona's Senate Race, Blake Masters and Mark Kelly Battle Over Their Preferred Kinds of Big Government\", \"url\": \"https://reason.com/2022/11/07/in-arizonas-senate-race-blake-masters-and-mark-kelly-battle-over-their-preferred-kinds-of-big-government/\", \"earliest_date\": \"2022-11-07T00:00:00\", \"is_story\": true, \"domain\": \"reason.com\"}, {\"handle\": \"reason\", \"text\": \"Arizona Libertarian Senate Candidate Marc Victor Drops Out, Endorses GOP's Blake Masters\", \"url\": \"https://reason.com/2022/11/01/arizona-libertarian-senate-candidate-marc-victor-drops-out-endorses-gops-blake-masters/\", \"earliest_date\": \"2022-11-04T00:00:00\", \"is_story\": true, \"domain\": \"reason.com\"}, {\"handle\": \"reason\", \"text\": \"In Arizona, Blake Masters and Kari Lake Embrace Bad Border Policies\", \"url\": \"https://reason.com/2022/11/02/in-arizona-blake-masters-and-kari-lake-embrace-bad-border-policies/\", \"earliest_date\": \"2022-11-04T00:00:00\", \"is_story\": true, \"domain\": \"reason.com\"}, {\"handle\": \"hotairblog\", \"text\": \"Feeling Anxious? Here's What's Happening with Arizona's Election Results\", \"url\": \"https://redstate.com/carcand/2022/11/09/feeling-anxious-heres-what-happening-with-arizona-election-results-n656945\", \"earliest_date\": \"2022-11-09T00:00:00\", \"is_story\": true, \"domain\": \"redstate.com\"}, {\"handle\": \"hotairblog\", \"text\": \"New Hope Arises in Arizona for Republicans After Ballot Update\", \"url\": \"https://redstate.com/bonchie/2022/11/09/new-hope-arises-in-arizona-for-republicans-after-ballot-update-n656893\", \"earliest_date\": \"2022-11-09T00:00:00\", \"is_story\": true, \"domain\": \"redstate.com\"}, {\"handle\": \"RedState\", \"text\": \"BREAKING: Judge Rejects Arizona Republican Lawsuit in Maricopa County, Polls Now Closed\", \"url\": \"https://redstate.com/carcand/2022/11/08/breaking-judge-rejects-arizona-republican-lawsuit-in-maricopa-county-polls-now-closed-n656536\", \"earliest_date\": \"2022-11-08T00:00:00\", \"is_story\": true, \"domain\": \"redstate.com\"}, {\"handle\": \"RedState\", \"text\": \"BREAKING: Some Maricopa County, Arizona, Polling Places Having Issues - Here's How to Make Sure Your Vote Is Still Counted\", \"url\": \"https://redstate.com/carcand/2022/11/08/breaking-some-maricopa-county-arizona-polling-places-having-issues-heres-how-to-make-sure-your-vote-is-still-counted-n656098\", \"earliest_date\": \"2022-11-08T00:00:00\", \"is_story\": true, \"domain\": \"redstate.com\"}, {\"handle\": \"theblaze\", \"text\": \"Why Kari Lake is '100% confident' she will WIN Arizona\", \"url\": \"https://www.theblaze.com/shows/the-glenn-beck-program/kari-lake-glenn-beck\", \"earliest_date\": \"2022-11-10T00:00:00\", \"is_story\": true, \"domain\": \"theblaze.com\"}, {\"handle\": \"theblaze\", \"text\": \"Republicans underperformed in Arizona \\u2013 governor and Senate race too early to call with votes still being counted\", \"url\": \"https://www.theblaze.com/news/republicans-underperformed-in-arizona-governor-and-senate-race-too-early-to-call-with-votes-still-being-counted\", \"earliest_date\": \"2022-11-09T00:00:00\", \"is_story\": true, \"domain\": \"theblaze.com\"}, {\"handle\": \"theblaze\", \"text\": \"Arizona election officials report issues with vote-counting machines at 20% of polling locations in Maricopa County\", \"url\": \"https://www.theblaze.com/news/arizona-election-officials-report-issues-with-vote-counting-machines-at-20-of-polling-locations-in-maricopa-county\", \"earliest_date\": \"2022-11-08T00:00:00\", \"is_story\": true, \"domain\": \"theblaze.com\"}, {\"handle\": \"EpochTimes\", \"text\": \"2hrArizona Vote Counting Slows Down, \\u2018Lion\\u2019s Share\\u2019 Expected Done by Next Week\", \"url\": \"https://www.theepochtimes.com/arizona-vote-counting-slows-down-no-updates-for-19-hours_4855950.html\", \"earliest_date\": \"2022-11-10T00:00:00\", \"is_story\": true, \"domain\": \"theepochtimes.com\"}, {\"handle\": \"EpochTimes\", \"text\": \"NTD News Today (Nov. 10): Arizona Results Could Take Until Friday; Mail-In Ballots Propel Fetterman to Victory\", \"url\": \"https://www.theepochtimes.com/ntd-news-today-nov-10-arizona-results-could-take-until-friday-mail-in-ballots-propel-fetterman-to-victory_4855380.html\", \"earliest_date\": \"2022-11-10T00:00:00\", \"is_story\": true, \"domain\": \"theepochtimes.com\"}, {\"handle\": \"EpochTimes\", \"text\": \"Senate Control Remains Uncertain as Vote Counting Continues in Arizona and Nevada\", \"url\": \"https://www.theepochtimes.com/senate-control-remains-uncertain-as-vote-counting-continues-in-arizona-and-nevada_4855594.html\", \"earliest_date\": \"2022-11-10T00:00:00\", \"is_story\": true, \"domain\": \"theepochtimes.com\"}, {\"handle\": \"BonginoReport\", \"text\": \"Arizona Governor Race Between Kari Lake and Katie Hobbs Too Close to Call\", \"url\": \"https://www.theepochtimes.com/arizona-governor-race-between-kari-lake-and-katie-hobbs-too-close-to-call_4837777.html?utm_source=partner&utm_campaign=BonginoReport\", \"earliest_date\": \"2022-11-09T00:00:00\", \"is_story\": true, \"domain\": \"theepochtimes.com\"}, {\"handle\": \"EpochTimes\", \"text\": \"Arizona\\u2019s Largest County Has More Than 400,000 Ballots Left to Count\", \"url\": \"https://www.theepochtimes.com/arizonas-largest-county-has-more-than-400000-ballots-left-to-count_4852911.html\", \"earliest_date\": \"2022-11-09T00:00:00\", \"is_story\": true, \"domain\": \"theepochtimes.com\"}, {\"handle\": \"EpochTimes\", \"text\": \"Parties Launch Door-Knocking Volunteers in Final Pushes for Votes in Arizona\", \"url\": \"https://www.theepochtimes.com/parties-launch-door-knocking-volunteers-in-final-pushes-for-votes-in-arizona_4847779.html\", \"earliest_date\": \"2022-11-07T00:00:00\", \"is_story\": true, \"domain\": \"theepochtimes.com\"}, {\"handle\": \"EpochTimes\", \"text\": \"Arizona Elections Chief Katie Hobbs Won\\u2019t Recuse Herself in Governor\\u2019s Race Against Kari Lake\", \"url\": \"https://www.theepochtimes.com/arizona-elections-chief-katie-hobbs-wont-recuse-herself-in-governors-race-against-kari-lake_4845318.html\", \"earliest_date\": \"2022-11-06T00:00:00\", \"is_story\": true, \"domain\": \"theepochtimes.com\"}, {\"handle\": \"EpochTimes\", \"text\": \"Sen. Josh Hawley Makes Surprise Appearance at Kari Lake\\u2019s Arizona Rally\", \"url\": \"https://www.theepochtimes.com/sen-josh-hawley-makes-surprise-appearance-at-kari-lakes-arizona-rally_4844731.html\", \"earliest_date\": \"2022-11-06T00:00:00\", \"is_story\": true, \"domain\": \"theepochtimes.com\"}, {\"handle\": \"EpochTimes\", \"text\": \"Kari Lake\\u2019s Arizona First Rally in Chandler\", \"url\": \"https://www.theepochtimes.com/kari-lakes-arizona-first-rally-featuring-blake-masters-and-abe-hamadeh_4844677.html\", \"earliest_date\": \"2022-11-05T00:00:00\", \"is_story\": true, \"domain\": \"theepochtimes.com\"}, {\"handle\": \"FDRLST\", \"text\": \"Arizona\\u2019s Election Administration Is An International Embarrassment\", \"url\": \"https://thefederalist.com/2022/11/10/arizonas-election-administration-is-an-international-embarrassment/\", \"earliest_date\": \"2022-11-10T00:00:00\", \"is_story\": true, \"domain\": \"thefederalist.com\"}, {\"handle\": \"gatewaypundit\", \"text\": \"BREAKING: TABULATORS IN TEXAS ALSO NOT WORKING! It\\u2019s Not Just Arizona!\", \"url\": \"https://www.thegatewaypundit.com/2022/11/breaking-tabulators-texas-also-not-working-not-just-arizona/\", \"earliest_date\": \"2022-11-08T00:00:00\", \"is_story\": true, \"domain\": \"thegatewaypundit.com\"}, {\"handle\": \"gatewaypundit\", \"text\": \"Early Voting in Arizona Spells Doom for Democrats \\u2013 Barring Major Fraud in the State, Expect WINS FOR MAGA CANDIDATES \\u2013 Lake, Blake, Hamadeh, Finchem! #GetOutAndVote\", \"url\": \"https://www.thegatewaypundit.com/2022/11/early-voting-arizona-spells-doom-democrats-barring-major-fraud-state-expect-big-wins-maga-candidates-lake-blake-hamadeh-finchem-getoutandvote/\", \"earliest_date\": \"2022-11-07T00:00:00\", \"is_story\": true, \"domain\": \"thegatewaypundit.com\"}, {\"handle\": \"gatewaypundit\", \"text\": \"Trump-Endorsed Republicans Run The Polls In Arizona \\u2013 Kari Lake Holds Steady Lead And Is Expected To WIN\", \"url\": \"https://www.thegatewaypundit.com/2022/11/trump-endorsed-republicans-run-polls-arizona-kari-lake-holds-steady-lead-expected-win/\", \"earliest_date\": \"2022-11-07T00:00:00\", \"is_story\": true, \"domain\": \"thegatewaypundit.com\"}, {\"handle\": \"gatewaypundit\", \"text\": \"UPDATE: Kari Lake\\u2019s Arizona Headquarters Opens After Terrorist Threat\", \"url\": \"https://www.thegatewaypundit.com/2022/11/deep-state-fbi-may-shut-kari-lakes-office-end-year-terrorist-attack/\", \"earliest_date\": \"2022-11-07T00:00:00\", \"is_story\": true, \"domain\": \"thegatewaypundit.com\"}, {\"handle\": \"gatewaypundit\", \"text\": \"WATCH LIVE: Ben Bergquam Reports On Arizona First Bus Tour With Trump-Endorsed Candidates\", \"url\": \"https://www.thegatewaypundit.com/2022/11/watch-live-ben-bergquam-reports-arizona-first-bus-tour-trump-endorsed-candidates/\", \"earliest_date\": \"2022-11-05T00:00:00\", \"is_story\": true, \"domain\": \"thegatewaypundit.com\"}, {\"handle\": \"gatewaypundit\", \"text\": \"WATCH LIVE: Trump-Endorsed Candidates Kari Lake, Mark Finchem, Abe Hamadeh, Blake Masters Hold Round Table At Arizona\\u2019s Southern Border\", \"url\": \"https://www.thegatewaypundit.com/2022/11/watch-live-trump-endorsed-candidates-kari-lake-mark-finchem-abe-hamadeh-blake-masters-hold-round-table-arizonas-southern-border/\", \"earliest_date\": \"2022-11-04T00:00:00\", \"is_story\": true, \"domain\": \"thegatewaypundit.com\"}, {\"handle\": \"BonginoReport\", \"text\": \"Arizona Election Results Delayed Until After Weekend\", \"url\": \"https://thepostmillennial.com/breaking-arizona-election-results-delayed-until-after-weekend-maricopa-officials-say?utm_campaign=64487\", \"earliest_date\": \"2022-11-10T00:00:00\", \"is_story\": true, \"domain\": \"thepostmillennial.com\"}, {\"handle\": \"BonginoReport\", \"text\": \"Dominion Voting Machines Malfunctioning in Arizona\", \"url\": \"https://thepostmillennial.com/dominion-voting-machines-in-arizona-malfunctioning-as-election-day-kicks-off?utm_campaign=64487\", \"earliest_date\": \"2022-11-08T00:00:00\", \"is_story\": true, \"domain\": \"thepostmillennial.com\"}, {\"handle\": \"BonginoReport\", \"text\": \"Arizona Suffering Water Supply Issues Over Foreign-Owned Farms Hogging Supply\", \"url\": \"https://thepostmillennial.com/arizona-water-supply-dries-up-due-to-foreign-owned-farms-hogging-supply?utm_campaign=64487\", \"earliest_date\": \"2022-11-07T00:00:00\", \"is_story\": true, \"domain\": \"thepostmillennial.com\"}, {\"handle\": \"townhallcom\", \"text\": \"Arizona Election Officials Provide an Update on the Dozens of Broken Ballot Tabulators\", \"url\": \"https://townhall.com/tipsheet/katiepavlich/2022/11/10/maricopa-officials-give-an-updated-on-broken-ballot-tabulators-n2615788\", \"earliest_date\": \"2022-11-10T00:00:00\", \"is_story\": true, \"domain\": \"townhall.com\"}, {\"handle\": \"RedState\", \"text\": \"BREAKING: Votes in Key Arizona County Are Being 'Misread'\", \"url\": \"http://townhall.com/tipsheet/katiepavlich/2022/11/08/voting-machines-in-key-arizona-county-arent-working-n2615642\", \"earliest_date\": \"2022-11-08T00:00:00\", \"is_story\": true, \"domain\": \"townhall.com\"}, {\"handle\": \"RedState\", \"text\": \"MAYHEM IN MARICOPA: Election Issues Mount in Arizona, Republicans Lawyer Up\", \"url\": \"http://townhall.com/tipsheet/spencerbrown/2022/11/08/as-election-issues-mount-in-az-republicans-lawyer-up-to-ensure-votes-are-counted-n2615650\", \"earliest_date\": \"2022-11-08T00:00:00\", \"is_story\": true, \"domain\": \"townhall.com\"}, {\"handle\": \"dcexaminer\", \"text\": \"Arizonans vote to limit debt collections for unpaid medical bills\", \"url\": \"https://www.washingtonexaminer.com/policy/healthcare/midterm-2022-arizona-medical-debt-collection-ballot-measure\", \"earliest_date\": \"2022-11-09T00:00:00\", \"is_story\": true, \"domain\": \"washingtonexaminer.com\"}, {\"handle\": \"dcexaminer\", \"text\": \"Biggest races yet to be called, Georgia looking like a runoff, Arizona looking messy\", \"url\": \"https://www.washingtonexaminer.com/news/biggest-races-yet-called-georgia-run-off-arizona-messy\", \"earliest_date\": \"2022-11-09T00:00:00\", \"is_story\": true, \"domain\": \"washingtonexaminer.com\"}, {\"handle\": \"dcexaminer\", \"text\": \"Maricopa County officials say hundreds of thousands of Arizona votes remain uncounted\", \"url\": \"https://www.washingtonexaminer.com/news/campaigns/maricopa-county-hundreds-of-thousands-votes-uncounted\", \"earliest_date\": \"2022-11-09T00:00:00\", \"is_story\": true, \"domain\": \"washingtonexaminer.com\"}, {\"handle\": \"dcexaminer\", \"text\": \"Midterm election results live: Maricopa drop puts Kari Lake further behind in Arizona\", \"url\": \"https://www.washingtonexaminer.com/live-blog/midterms-results-maricopa-drop-kari-lake-behind-arizona\", \"earliest_date\": \"2022-11-09T00:00:00\", \"is_story\": true, \"domain\": \"washingtonexaminer.com\"}, {\"handle\": \"dcexaminer\", \"text\": \"Arizona told to 'prepare' for days of counting\", \"url\": \"https://www.washingtonexaminer.com/news/campaigns/hobbs-urges-arizona-to-prepare-for-days-of-counting\", \"earliest_date\": \"2022-11-08T00:00:00\", \"is_story\": true, \"domain\": \"washingtonexaminer.com\"}, {\"handle\": \"dcexaminer\", \"text\": \"Hobbs urges Arizona to 'prepare' for days of counting\", \"url\": \"https://www.washingtonexaminer.com/live-blog/midterms-2022-boebert-danger-zone-walker-rallies-supporters\", \"earliest_date\": \"2022-11-08T00:00:00\", \"is_story\": true, \"domain\": \"washingtonexaminer.com\"}, {\"handle\": \"dcexaminer\", \"text\": \"Judge blocks Arizona county from hand-counting ballots\", \"url\": \"https://www.washingtonexaminer.com/news/judge-blocks-arizona-county-from-hand-counting-ballots\", \"earliest_date\": \"2022-11-08T00:00:00\", \"is_story\": true, \"domain\": \"washingtonexaminer.com\"}, {\"handle\": \"dcexaminer\", \"text\": \"Reporter\\u2019s Notebook: What to expect in Arizona\\u2019s Senate race\", \"url\": \"https://www.washingtonexaminer.com/videos/reporters-notebook-what-to-expect-in-arizonas-senate-race\", \"earliest_date\": \"2022-11-07T00:00:00\", \"is_story\": true, \"domain\": \"washingtonexaminer.com\"}, {\"handle\": \"dcexaminer\", \"text\": \"Arizona elections chief won't recuse in governor's race against Republican hopeful\", \"url\": \"https://www.washingtonexaminer.com/news/campaigns/arizona-elections-chief-wont-recuse\", \"earliest_date\": \"2022-11-06T00:00:00\", \"is_story\": true, \"domain\": \"washingtonexaminer.com\"}, {\"handle\": \"dcexaminer\", \"text\": \"Arizona gets ugly:\\u00a0Dem candidate rips MAGA star as 'extremist firebrand' after falling behind in the polls\", \"url\": \"https://www.washingtonexaminer.com/news/campaigns/katie-hobbs-rips-kari-lake-as-unqualified-extremist-firebrand\", \"earliest_date\": \"2022-11-05T00:00:00\", \"is_story\": true, \"domain\": \"washingtonexaminer.com\"}, {\"handle\": \"dcexaminer\", \"text\": \"'The people in Arizona are tired of it':\\u00a0How immigration took over state's elections\", \"url\": \"https://www.washingtonexaminer.com/restoring-america/patriotism-unity/how-immigration-took-over-arizonas-elections\", \"earliest_date\": \"2022-11-04T00:00:00\", \"is_story\": true, \"domain\": \"washingtonexaminer.com\"}]}}, {\"mode\": \"vega-lite\"});\n",
       "</script>"
      ],
      "text/plain": [
       "alt.Chart(...)"
      ]
     },
     "execution_count": 112,
     "metadata": {},
     "output_type": "execute_result"
    }
   ],
   "source": [
    "alt.Chart(story_df[story_df.text.str.upper().str.contains(\"ARIZONA\")]).mark_bar().encode(\n",
    "    x=alt.X(\"earliest_date:T\", timeUnit=\"yearmonthdate\"),\n",
    "    y=alt.Y(\"count():Q\"),\n",
    "    tooltip=[\"earliest_date\", \"count()\"]\n",
    ")"
   ]
  }
 ],
 "metadata": {
  "kernelspec": {
   "display_name": "Python 3 (ipykernel)",
   "language": "python",
   "name": "python3"
  },
  "language_info": {
   "codemirror_mode": {
    "name": "ipython",
    "version": 3
   },
   "file_extension": ".py",
   "mimetype": "text/x-python",
   "name": "python",
   "nbconvert_exporter": "python",
   "pygments_lexer": "ipython3",
   "version": "3.9.9"
  }
 },
 "nbformat": 4,
 "nbformat_minor": 5
}
