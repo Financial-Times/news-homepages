{
 "cells": [
  {
   "cell_type": "code",
   "execution_count": 1,
   "id": "4419037d-8fd1-4fe3-9982-c98a9ad9b0ad",
   "metadata": {},
   "outputs": [],
   "source": [
    "import sys\n",
    "from pathlib import Path"
   ]
  },
  {
   "cell_type": "code",
   "execution_count": 2,
   "id": "97de8fb6-2972-4e19-9980-38d37fcf56a1",
   "metadata": {},
   "outputs": [],
   "source": [
    "import pandas as pd\n",
    "import altair as alt"
   ]
  },
  {
   "cell_type": "code",
   "execution_count": 3,
   "id": "244b39b4-e167-4a30-9f03-f88d24000c24",
   "metadata": {},
   "outputs": [],
   "source": [
    "this_dir = Path(\"__file__\").parent.absolute()"
   ]
  },
  {
   "cell_type": "code",
   "execution_count": 4,
   "id": "97f1c53d-f932-4900-af1e-dbb89be7f4be",
   "metadata": {},
   "outputs": [],
   "source": [
    "sys.path.append(str(this_dir.parent / \"newshomepages\"))"
   ]
  },
  {
   "cell_type": "code",
   "execution_count": 5,
   "id": "e0379569-5ab6-4c07-a272-a889d1043de5",
   "metadata": {},
   "outputs": [],
   "source": [
    "import altair_theme"
   ]
  },
  {
   "cell_type": "code",
   "execution_count": 6,
   "id": "ad65ec3f-8f24-414f-a4e2-03b489f3433d",
   "metadata": {},
   "outputs": [
    {
     "data": {
      "text/plain": [
       "ThemeRegistry.enable('palewire')"
      ]
     },
     "execution_count": 6,
     "metadata": {},
     "output_type": "execute_result"
    }
   ],
   "source": [
    "alt.themes.register('palewire', altair_theme.theme)\n",
    "alt.themes.enable('palewire')"
   ]
  },
  {
   "cell_type": "code",
   "execution_count": 7,
   "id": "adf0cd1c-9bbb-4fff-b8c6-4b2adb383f98",
   "metadata": {},
   "outputs": [],
   "source": [
    "sources_dir = this_dir.parent / \"newshomepages\" / \"sources\""
   ]
  },
  {
   "cell_type": "code",
   "execution_count": 8,
   "id": "3f62c28f-af3b-4d2a-b6bb-e425f698af73",
   "metadata": {},
   "outputs": [],
   "source": [
    "extracts_dir = this_dir.parent / \"extracts\" / \"csv\""
   ]
  },
  {
   "cell_type": "code",
   "execution_count": 9,
   "id": "e0ce3d22-fada-440c-b9af-477cf2521f01",
   "metadata": {},
   "outputs": [],
   "source": [
    "screenshots_df = pd.read_csv(\n",
    "    extracts_dir / \"screenshot-files.csv\",\n",
    "    parse_dates=[\"mtime\"],\n",
    "    usecols=[\"identifier\", \"handle\", \"file_name\", \"mtime\"]\n",
    ")"
   ]
  },
  {
   "cell_type": "code",
   "execution_count": 10,
   "id": "ba64377a-0234-41ff-b138-3af317018bee",
   "metadata": {},
   "outputs": [],
   "source": [
    "screenshots_df['date'] = pd.to_datetime(screenshots_df.mtime.dt.date)"
   ]
  },
  {
   "cell_type": "code",
   "execution_count": 11,
   "id": "fa59f7ef-d725-4e04-a696-9827287ae5a9",
   "metadata": {},
   "outputs": [],
   "source": [
    "site_df = screenshots_df[screenshots_df.handle == 'latimes']"
   ]
  },
  {
   "cell_type": "code",
   "execution_count": 12,
   "id": "b89e0d61-e240-42b6-8120-d2bb38c91bc1",
   "metadata": {},
   "outputs": [],
   "source": [
    "site_by_date = site_df.groupby(\"date\").size().rename(\"screenshots\").reset_index()"
   ]
  },
  {
   "cell_type": "code",
   "execution_count": 13,
   "id": "97a8908f-218b-4f9d-8d29-b5714bd21eb0",
   "metadata": {},
   "outputs": [],
   "source": [
    "site_by_date['rolling_mean'] = site_by_date.screenshots.rolling(7).mean()"
   ]
  },
  {
   "cell_type": "code",
   "execution_count": 14,
   "id": "0168b146-c038-45aa-a083-6e6214564728",
   "metadata": {},
   "outputs": [],
   "source": [
    "site_by_date_nonulls = site_by_date[~pd.isnull(site_by_date.rolling_mean)]"
   ]
  },
  {
   "cell_type": "code",
   "execution_count": 17,
   "id": "c4a6b904-5741-4640-9af6-9de2db5db363",
   "metadata": {},
   "outputs": [
    {
     "data": {
      "text/html": [
       "\n",
       "<div id=\"altair-viz-6d25df4aa2034267a2155c7c41bc0a8a\"></div>\n",
       "<script type=\"text/javascript\">\n",
       "  var VEGA_DEBUG = (typeof VEGA_DEBUG == \"undefined\") ? {} : VEGA_DEBUG;\n",
       "  (function(spec, embedOpt){\n",
       "    let outputDiv = document.currentScript.previousElementSibling;\n",
       "    if (outputDiv.id !== \"altair-viz-6d25df4aa2034267a2155c7c41bc0a8a\") {\n",
       "      outputDiv = document.getElementById(\"altair-viz-6d25df4aa2034267a2155c7c41bc0a8a\");\n",
       "    }\n",
       "    const paths = {\n",
       "      \"vega\": \"https://cdn.jsdelivr.net/npm//vega@5?noext\",\n",
       "      \"vega-lib\": \"https://cdn.jsdelivr.net/npm//vega-lib?noext\",\n",
       "      \"vega-lite\": \"https://cdn.jsdelivr.net/npm//vega-lite@4.17.0?noext\",\n",
       "      \"vega-embed\": \"https://cdn.jsdelivr.net/npm//vega-embed@6?noext\",\n",
       "    };\n",
       "\n",
       "    function maybeLoadScript(lib, version) {\n",
       "      var key = `${lib.replace(\"-\", \"\")}_version`;\n",
       "      return (VEGA_DEBUG[key] == version) ?\n",
       "        Promise.resolve(paths[lib]) :\n",
       "        new Promise(function(resolve, reject) {\n",
       "          var s = document.createElement('script');\n",
       "          document.getElementsByTagName(\"head\")[0].appendChild(s);\n",
       "          s.async = true;\n",
       "          s.onload = () => {\n",
       "            VEGA_DEBUG[key] = version;\n",
       "            return resolve(paths[lib]);\n",
       "          };\n",
       "          s.onerror = () => reject(`Error loading script: ${paths[lib]}`);\n",
       "          s.src = paths[lib];\n",
       "        });\n",
       "    }\n",
       "\n",
       "    function showError(err) {\n",
       "      outputDiv.innerHTML = `<div class=\"error\" style=\"color:red;\">${err}</div>`;\n",
       "      throw err;\n",
       "    }\n",
       "\n",
       "    function displayChart(vegaEmbed) {\n",
       "      vegaEmbed(outputDiv, spec, embedOpt)\n",
       "        .catch(err => showError(`Javascript Error: ${err.message}<br>This usually means there's a typo in your chart specification. See the javascript console for the full traceback.`));\n",
       "    }\n",
       "\n",
       "    if(typeof define === \"function\" && define.amd) {\n",
       "      requirejs.config({paths});\n",
       "      require([\"vega-embed\"], displayChart, err => showError(`Error loading script: ${err.message}`));\n",
       "    } else {\n",
       "      maybeLoadScript(\"vega\", \"5\")\n",
       "        .then(() => maybeLoadScript(\"vega-lite\", \"4.17.0\"))\n",
       "        .then(() => maybeLoadScript(\"vega-embed\", \"6\"))\n",
       "        .catch(showError)\n",
       "        .then(() => displayChart(vegaEmbed));\n",
       "    }\n",
       "  })({\"config\": {\"view\": {\"width\": 500, \"height\": 300, \"stroke\": 0}, \"padding\": {\"top\": 15, \"bottom\": 15, \"left\": 10, \"right\": 10}, \"background\": \"#ffffff\", \"title\": {\"anchor\": \"start\", \"font\": \"\\\"Libre Franklin\\\",\\\"Helvetica\\\",\\\"Liberation Sans\\\",Arial,sans-serif\", \"fontColor\": \"#000000\", \"fontSize\": 20, \"fontWeight\": \"bold\", \"lineHeight\": 26}, \"arc\": {\"fill\": \"#cecece\"}, \"area\": {\"fill\": \"#cecece\"}, \"line\": {\"stroke\": \"#cecece\", \"strokeWidth\": 3}, \"path\": {\"stroke\": \"#cecece\"}, \"rect\": {\"fill\": \"#cecece\"}, \"shape\": {\"stroke\": \"#cecece\"}, \"bar\": {\"fill\": \"#cecece\"}, \"point\": {\"stroke\": \"#cecece\"}, \"symbol\": {\"fill\": \"#cecece\", \"size\": 30}, \"axis\": {\"titleFont\": \"\\\"Libre Franklin\\\",\\\"Helvetica\\\",\\\"Liberation Sans\\\",Arial,sans-serif\", \"titleFontSize\": 14, \"titleFontWeight\": \"normal\", \"labelFont\": \"\\\"Libre Franklin\\\",\\\"Helvetica\\\",\\\"Liberation Sans\\\",Arial,sans-serif\", \"labelFontSize\": 12, \"labelFontWeight\": \"normal\", \"tickColor\": \"#727272\", \"labelColor\": \"#727272\", \"stroke\": \"#cecece\"}, \"axisX\": {\"labelAngle\": 0, \"labelPadding\": 10, \"labelFlush\": true, \"tickSize\": 0, \"domain\": false}, \"axisY\": {\"labelBaseline\": \"middle\", \"labelPadding\": 5, \"labelFlush\": true, \"tickSize\": 0, \"titleAlign\": \"left\", \"titleAngle\": 0, \"titleX\": -45, \"titleY\": -11, \"domain\": false, \"labelAlign\": \"right\"}, \"legend\": {\"titleFont\": \"\\\"Libre Franklin\\\",\\\"Helvetica\\\",\\\"Liberation Sans\\\",Arial,sans-serif\", \"titleFontSize\": 14, \"titleFontWeight\": \"normal\", \"symbolType\": \"square\", \"labelFont\": \"\\\"Libre Franklin\\\",\\\"Helvetica\\\",\\\"Liberation Sans\\\",Arial,sans-serif\", \"labelFontSize\": 13}, \"range\": {\"heatmap\": [\"#5e5e5e\", \"#727272\", \"#858585\", \"#989898\", \"#aaaaaa\", \"#bcbcbc\", \"#c4c4c4\", \"#cecece\", \"#e0e0e0\", \"#f0f0f0\", \"#ffffff\"], \"ordinal\": [\"#5e5e5e\", \"#727272\", \"#858585\", \"#989898\", \"#aaaaaa\", \"#bcbcbc\", \"#c4c4c4\", \"#cecece\", \"#e0e0e0\", \"#f0f0f0\", \"#ffffff\"], \"ramp\": [\"#5e5e5e\", \"#727272\", \"#858585\", \"#989898\", \"#aaaaaa\", \"#bcbcbc\", \"#c4c4c4\", \"#cecece\", \"#e0e0e0\", \"#f0f0f0\", \"#ffffff\"]}}, \"data\": {\"url\": \"https://raw.githubusercontent.com/palewire/news-homepages/main/docs/_extra/charts/sites/screenshots/latimes.json\"}, \"mark\": {\"type\": \"area\", \"line\": true}, \"encoding\": {\"x\": {\"axis\": {\"format\": \"%B %-d\", \"grid\": false}, \"field\": \"date\", \"timeUnit\": \"yearmonthdate\", \"title\": null, \"type\": \"temporal\"}, \"y\": {\"field\": \"value\", \"title\": \"Seven-day rolling average\", \"type\": \"quantitative\"}}, \"title\": \"Screenshots saved by day\", \"$schema\": \"https://vega.github.io/schema/vega-lite/v4.17.0.json\"}, {\"mode\": \"vega-lite\"});\n",
       "</script>"
      ],
      "text/plain": [
       "alt.Chart(...)"
      ]
     },
     "execution_count": 17,
     "metadata": {},
     "output_type": "execute_result"
    }
   ],
   "source": [
    "chart = alt.Chart(\n",
    "    \"https://raw.githubusercontent.com/palewire/news-homepages/main/docs/_extra/charts/sites/screenshots/latimes.json\",\n",
    "    title=\"Screenshots saved by day\",\n",
    ")\n",
    "\n",
    "line = chart.mark_area(line=True).encode(\n",
    "    x=alt.X(\"date:T\", title=None, timeUnit=\"yearmonthdate\", axis=alt.Axis(format=\"%B %-d\", grid=False)),\n",
    "    y=alt.Y(\"value:Q\", title=\"Seven-day rolling average\"),\n",
    ")\n",
    "\n",
    "(line).configure_axisY(\n",
    "    labelPadding=5, \n",
    "    labelAlign='right',\n",
    "    labelFlush=True,\n",
    ")# .properties(width=500, height=300)"
   ]
  }
 ],
 "metadata": {
  "kernelspec": {
   "display_name": "Python 3 (ipykernel)",
   "language": "python",
   "name": "python3"
  },
  "language_info": {
   "codemirror_mode": {
    "name": "ipython",
    "version": 3
   },
   "file_extension": ".py",
   "mimetype": "text/x-python",
   "name": "python",
   "nbconvert_exporter": "python",
   "pygments_lexer": "ipython3",
   "version": "3.9.2"
  }
 },
 "nbformat": 4,
 "nbformat_minor": 5
}
