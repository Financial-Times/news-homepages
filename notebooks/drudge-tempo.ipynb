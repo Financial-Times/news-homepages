{
 "cells": [
  {
   "cell_type": "markdown",
   "id": "194f13aa-fecc-4fd2-ab5c-49020011f73e",
   "metadata": {},
   "source": [
    "# Drudge tempo analysis\n",
    "\n",
    "By Ben Welsh\n",
    "\n",
    "A draft of analysis of how many headlines are cycled through the homepage of drudgereport.com"
   ]
  },
  {
   "cell_type": "code",
   "execution_count": 28,
   "id": "bcd3ccf0-bc35-4332-94c1-8506a349de05",
   "metadata": {},
   "outputs": [],
   "source": [
    "import sys\n",
    "from pathlib import Path"
   ]
  },
  {
   "cell_type": "code",
   "execution_count": 1,
   "id": "fe557409-c9f5-474b-bf9a-ea481e894335",
   "metadata": {},
   "outputs": [],
   "source": [
    "from rich import print\n",
    "from rich.progress import track"
   ]
  },
  {
   "cell_type": "code",
   "execution_count": 2,
   "id": "d8f65ff6-0050-424b-a0b7-2c33a3ae0aed",
   "metadata": {},
   "outputs": [],
   "source": [
    "import pandas as pd\n",
    "import altair as alt"
   ]
  },
  {
   "cell_type": "code",
   "execution_count": 29,
   "id": "6d94558c-8b46-4bc8-9d65-cc3b72a32766",
   "metadata": {},
   "outputs": [],
   "source": [
    "this_dir = Path(\"__file__\").parent.absolute()\n",
    "sys.path.append(this_dir.parent)\n",
    "sys.path.append(str(this_dir.parent / \"newshomepages\"))"
   ]
  },
  {
   "cell_type": "code",
   "execution_count": 30,
   "id": "1a04c231-ea3e-470c-bba8-a1e31c035e45",
   "metadata": {},
   "outputs": [],
   "source": [
    "import altair_theme"
   ]
  },
  {
   "cell_type": "code",
   "execution_count": 31,
   "id": "52a57dfe-b84b-4fd0-ab3b-dbc8385e28cf",
   "metadata": {},
   "outputs": [
    {
     "data": {
      "text/plain": [
       "ThemeRegistry.enable('palewire')"
      ]
     },
     "execution_count": 31,
     "metadata": {},
     "output_type": "execute_result"
    }
   ],
   "source": [
    "alt.themes.register('palewire', altair_theme.theme)\n",
    "alt.themes.enable('palewire')"
   ]
  },
  {
   "cell_type": "code",
   "execution_count": 3,
   "id": "29ac3da1-5ebd-4fb3-b2c2-3bf4221b0827",
   "metadata": {},
   "outputs": [],
   "source": [
    "drudge_df = pd.read_csv(\n",
    "    \"https://github.com/palewire/news-homepages/raw/main/extracts/csv/drudge-hyperlinks-analysis.csv\",\n",
    "    parse_dates=[\"earliest_date\"]\n",
    ")"
   ]
  },
  {
   "cell_type": "code",
   "execution_count": 5,
   "id": "219a056b-fe9e-488a-9647-b9964d69aee1",
   "metadata": {},
   "outputs": [],
   "source": [
    "story_df = drudge_df[drudge_df.is_story].copy()"
   ]
  },
  {
   "cell_type": "code",
   "execution_count": 15,
   "id": "0a5db944-90d3-4187-a75c-97f369b0a18d",
   "metadata": {},
   "outputs": [],
   "source": [
    "date_totals = story_df.groupby(\"earliest_date\").size().rename(\"n\").reset_index().sort_values(\"earliest_date\").set_index(\"earliest_date\")"
   ]
  },
  {
   "cell_type": "code",
   "execution_count": 16,
   "id": "bee904e1-8155-4b99-a5f9-9ffa6e153941",
   "metadata": {},
   "outputs": [],
   "source": [
    "date_range = pd.date_range(\n",
    "    story_df.earliest_date.min(),\n",
    "    story_df.earliest_date.max(),\n",
    "    freq=\"D\",\n",
    ")"
   ]
  },
  {
   "cell_type": "code",
   "execution_count": 17,
   "id": "8ccf3c4a-681d-458d-ace3-238429a39dc8",
   "metadata": {},
   "outputs": [],
   "source": [
    "date_index = pd.DatetimeIndex(date_range)"
   ]
  },
  {
   "cell_type": "code",
   "execution_count": 21,
   "id": "12636820-ccaa-4d9d-97e7-07b121ece544",
   "metadata": {},
   "outputs": [],
   "source": [
    "backfilled_df = date_totals.reindex(date_index).reset_index().rename(columns={\"index\": \"date\"}).sort_values(\"date\")"
   ]
  },
  {
   "cell_type": "code",
   "execution_count": 22,
   "id": "1ef7aa82-324e-4c23-af18-872d7663553b",
   "metadata": {},
   "outputs": [],
   "source": [
    "backfilled_df.n.fillna(0, inplace=True)"
   ]
  },
  {
   "cell_type": "code",
   "execution_count": 23,
   "id": "cc2f3b7a-9840-4637-8f44-c47fbd09b9c7",
   "metadata": {},
   "outputs": [],
   "source": [
    "backfilled_df['7_day_rolling_average'] = backfilled_df.n.rolling(7).mean()"
   ]
  },
  {
   "cell_type": "code",
   "execution_count": 59,
   "id": "4acfc337-b811-44d6-8bc8-66c54c883537",
   "metadata": {},
   "outputs": [],
   "source": [
    "chart_df = backfilled_df[\n",
    "    (~pd.isnull(backfilled_df['7_day_rolling_average'])) &\n",
    "    (backfilled_df.date < backfilled_df.date.max())\n",
    "]"
   ]
  },
  {
   "cell_type": "code",
   "execution_count": 60,
   "id": "628f186b-a7b0-4ac9-9cfb-36d2ef677cae",
   "metadata": {},
   "outputs": [
    {
     "data": {
      "text/html": [
       "<div>\n",
       "<style scoped>\n",
       "    .dataframe tbody tr th:only-of-type {\n",
       "        vertical-align: middle;\n",
       "    }\n",
       "\n",
       "    .dataframe tbody tr th {\n",
       "        vertical-align: top;\n",
       "    }\n",
       "\n",
       "    .dataframe thead th {\n",
       "        text-align: right;\n",
       "    }\n",
       "</style>\n",
       "<table border=\"1\" class=\"dataframe\">\n",
       "  <thead>\n",
       "    <tr style=\"text-align: right;\">\n",
       "      <th></th>\n",
       "      <th>date</th>\n",
       "      <th>n</th>\n",
       "      <th>7_day_rolling_average</th>\n",
       "    </tr>\n",
       "  </thead>\n",
       "  <tbody>\n",
       "    <tr>\n",
       "      <th>84</th>\n",
       "      <td>2022-11-01</td>\n",
       "      <td>76</td>\n",
       "      <td>64.571429</td>\n",
       "    </tr>\n",
       "    <tr>\n",
       "      <th>85</th>\n",
       "      <td>2022-11-02</td>\n",
       "      <td>71</td>\n",
       "      <td>61.857143</td>\n",
       "    </tr>\n",
       "    <tr>\n",
       "      <th>86</th>\n",
       "      <td>2022-11-03</td>\n",
       "      <td>68</td>\n",
       "      <td>62.571429</td>\n",
       "    </tr>\n",
       "    <tr>\n",
       "      <th>87</th>\n",
       "      <td>2022-11-04</td>\n",
       "      <td>67</td>\n",
       "      <td>64.714286</td>\n",
       "    </tr>\n",
       "    <tr>\n",
       "      <th>88</th>\n",
       "      <td>2022-11-05</td>\n",
       "      <td>35</td>\n",
       "      <td>60.428571</td>\n",
       "    </tr>\n",
       "  </tbody>\n",
       "</table>\n",
       "</div>"
      ],
      "text/plain": [
       "         date   n  7_day_rolling_average\n",
       "84 2022-11-01  76              64.571429\n",
       "85 2022-11-02  71              61.857143\n",
       "86 2022-11-03  68              62.571429\n",
       "87 2022-11-04  67              64.714286\n",
       "88 2022-11-05  35              60.428571"
      ]
     },
     "execution_count": 60,
     "metadata": {},
     "output_type": "execute_result"
    }
   ],
   "source": [
    "chart_df.tail()"
   ]
  },
  {
   "cell_type": "code",
   "execution_count": 62,
   "id": "eb613985-fea6-4460-8850-8c8b4f044156",
   "metadata": {},
   "outputs": [
    {
     "data": {
      "text/plain": [
       "64.46987951807229"
      ]
     },
     "execution_count": 62,
     "metadata": {},
     "output_type": "execute_result"
    }
   ],
   "source": [
    "chart_df.n.mean()"
   ]
  },
  {
   "cell_type": "code",
   "execution_count": 66,
   "id": "4590788c-625f-4278-9468-90fadcc8c18c",
   "metadata": {},
   "outputs": [
    {
     "data": {
      "text/html": [
       "\n",
       "<div id=\"altair-viz-11d8afae4cb142d08b0c8f64bf27d831\"></div>\n",
       "<script type=\"text/javascript\">\n",
       "  var VEGA_DEBUG = (typeof VEGA_DEBUG == \"undefined\") ? {} : VEGA_DEBUG;\n",
       "  (function(spec, embedOpt){\n",
       "    let outputDiv = document.currentScript.previousElementSibling;\n",
       "    if (outputDiv.id !== \"altair-viz-11d8afae4cb142d08b0c8f64bf27d831\") {\n",
       "      outputDiv = document.getElementById(\"altair-viz-11d8afae4cb142d08b0c8f64bf27d831\");\n",
       "    }\n",
       "    const paths = {\n",
       "      \"vega\": \"https://cdn.jsdelivr.net/npm//vega@5?noext\",\n",
       "      \"vega-lib\": \"https://cdn.jsdelivr.net/npm//vega-lib?noext\",\n",
       "      \"vega-lite\": \"https://cdn.jsdelivr.net/npm//vega-lite@4.17.0?noext\",\n",
       "      \"vega-embed\": \"https://cdn.jsdelivr.net/npm//vega-embed@6?noext\",\n",
       "    };\n",
       "\n",
       "    function maybeLoadScript(lib, version) {\n",
       "      var key = `${lib.replace(\"-\", \"\")}_version`;\n",
       "      return (VEGA_DEBUG[key] == version) ?\n",
       "        Promise.resolve(paths[lib]) :\n",
       "        new Promise(function(resolve, reject) {\n",
       "          var s = document.createElement('script');\n",
       "          document.getElementsByTagName(\"head\")[0].appendChild(s);\n",
       "          s.async = true;\n",
       "          s.onload = () => {\n",
       "            VEGA_DEBUG[key] = version;\n",
       "            return resolve(paths[lib]);\n",
       "          };\n",
       "          s.onerror = () => reject(`Error loading script: ${paths[lib]}`);\n",
       "          s.src = paths[lib];\n",
       "        });\n",
       "    }\n",
       "\n",
       "    function showError(err) {\n",
       "      outputDiv.innerHTML = `<div class=\"error\" style=\"color:red;\">${err}</div>`;\n",
       "      throw err;\n",
       "    }\n",
       "\n",
       "    function displayChart(vegaEmbed) {\n",
       "      vegaEmbed(outputDiv, spec, embedOpt)\n",
       "        .catch(err => showError(`Javascript Error: ${err.message}<br>This usually means there's a typo in your chart specification. See the javascript console for the full traceback.`));\n",
       "    }\n",
       "\n",
       "    if(typeof define === \"function\" && define.amd) {\n",
       "      requirejs.config({paths});\n",
       "      require([\"vega-embed\"], displayChart, err => showError(`Error loading script: ${err.message}`));\n",
       "    } else {\n",
       "      maybeLoadScript(\"vega\", \"5\")\n",
       "        .then(() => maybeLoadScript(\"vega-lite\", \"4.17.0\"))\n",
       "        .then(() => maybeLoadScript(\"vega-embed\", \"6\"))\n",
       "        .catch(showError)\n",
       "        .then(() => displayChart(vegaEmbed));\n",
       "    }\n",
       "  })({\"config\": {\"view\": {\"width\": 500, \"height\": 300, \"stroke\": 0}, \"padding\": {\"top\": 15, \"bottom\": 15, \"left\": 10, \"right\": 10}, \"background\": \"#ffffff\", \"title\": {\"anchor\": \"start\", \"font\": \"\\\"Libre Franklin\\\",\\\"Helvetica\\\",\\\"Liberation Sans\\\",Arial,sans-serif\", \"color\": \"#000000\", \"fontSize\": 20, \"fontWeight\": \"bold\", \"lineHeight\": 26, \"subtitleFont\": \"\\\"Libre Franklin\\\",\\\"Helvetica\\\",\\\"Liberation Sans\\\",Arial,sans-serif\", \"subtitleFontSize\": 14, \"subtitleLineHeight\": 18, \"subtitlePadding\": 5, \"offset\": 20}, \"arc\": {\"fill\": \"#cecece\"}, \"area\": {\"fill\": \"#cecece\"}, \"line\": {\"stroke\": \"#cecece\", \"strokeWidth\": 3}, \"path\": {\"stroke\": \"#cecece\"}, \"rect\": {\"fill\": \"#cecece\"}, \"bar\": {\"fill\": \"#cecece\"}, \"point\": {\"stroke\": \"#cecece\"}, \"axis\": {\"titleFont\": \"\\\"Libre Franklin\\\",\\\"Helvetica\\\",\\\"Liberation Sans\\\",Arial,sans-serif\", \"titleFontSize\": 14, \"titleFontWeight\": \"normal\", \"labelFont\": \"\\\"Libre Franklin\\\",\\\"Helvetica\\\",\\\"Liberation Sans\\\",Arial,sans-serif\", \"labelFontSize\": 12, \"labelFontWeight\": \"normal\", \"tickColor\": \"#727272\", \"labelColor\": \"#727272\"}, \"axisX\": {\"labelAngle\": 0, \"labelPadding\": 10, \"labelFlush\": true, \"tickSize\": 0, \"domain\": false}, \"axisY\": {\"labelBaseline\": \"middle\", \"labelPadding\": 5, \"labelFlush\": true, \"tickSize\": 0, \"titleAlign\": \"left\", \"titleAngle\": 0, \"titleX\": -45, \"titleY\": -11, \"domain\": false}, \"legend\": {\"titleFont\": \"\\\"Libre Franklin\\\",\\\"Helvetica\\\",\\\"Liberation Sans\\\",Arial,sans-serif\", \"titleFontSize\": 14, \"titleFontWeight\": \"normal\", \"symbolType\": \"square\", \"labelFont\": \"\\\"Libre Franklin\\\",\\\"Helvetica\\\",\\\"Liberation Sans\\\",Arial,sans-serif\", \"labelFontSize\": 13}, \"range\": {\"heatmap\": [\"#5e5e5e\", \"#727272\", \"#858585\", \"#989898\", \"#aaaaaa\", \"#bcbcbc\", \"#c4c4c4\", \"#cecece\", \"#e0e0e0\", \"#f0f0f0\", \"#ffffff\"], \"ordinal\": [\"#5e5e5e\", \"#727272\", \"#858585\", \"#989898\", \"#aaaaaa\", \"#bcbcbc\", \"#c4c4c4\", \"#cecece\", \"#e0e0e0\", \"#f0f0f0\", \"#ffffff\"], \"ramp\": [\"#5e5e5e\", \"#727272\", \"#858585\", \"#989898\", \"#aaaaaa\", \"#bcbcbc\", \"#c4c4c4\", \"#cecece\", \"#e0e0e0\", \"#f0f0f0\", \"#ffffff\"]}}, \"layer\": [{\"mark\": {\"type\": \"bar\", \"opacity\": 0.6}, \"encoding\": {\"tooltip\": [{\"field\": \"date\", \"type\": \"temporal\"}, {\"field\": \"n\", \"type\": \"quantitative\"}], \"x\": {\"axis\": {\"format\": \"%b %-d\", \"grid\": false}, \"field\": \"date\", \"timeUnit\": \"yearmonthdate\", \"title\": null, \"type\": \"temporal\"}, \"y\": {\"field\": \"n\", \"type\": \"quantitative\"}}}, {\"mark\": {\"type\": \"line\", \"stroke\": \"#727272\"}, \"encoding\": {\"tooltip\": [{\"field\": \"date\", \"type\": \"temporal\"}, {\"field\": \"n\", \"type\": \"quantitative\"}], \"x\": {\"axis\": {\"format\": \"%b %-d\", \"grid\": false}, \"field\": \"date\", \"timeUnit\": \"yearmonthdate\", \"title\": null, \"type\": \"temporal\"}, \"y\": {\"field\": \"7_day_rolling_average\", \"title\": \"Seven-day rolling average\", \"type\": \"quantitative\"}}}], \"data\": {\"name\": \"data-95e958de5cb046c88a5decde45c79590\"}, \"title\": \"New Drudge headlines per day\", \"$schema\": \"https://vega.github.io/schema/vega-lite/v4.17.0.json\", \"datasets\": {\"data-95e958de5cb046c88a5decde45c79590\": [{\"date\": \"2022-08-15T00:00:00\", \"n\": 65, \"7_day_rolling_average\": 67.85714285714286}, {\"date\": \"2022-08-16T00:00:00\", \"n\": 86, \"7_day_rolling_average\": 59.857142857142854}, {\"date\": \"2022-08-17T00:00:00\", \"n\": 79, \"7_day_rolling_average\": 63.57142857142857}, {\"date\": \"2022-08-18T00:00:00\", \"n\": 82, \"7_day_rolling_average\": 62.857142857142854}, {\"date\": \"2022-08-19T00:00:00\", \"n\": 66, \"7_day_rolling_average\": 66.0}, {\"date\": \"2022-08-20T00:00:00\", \"n\": 38, \"7_day_rolling_average\": 63.142857142857146}, {\"date\": \"2022-08-21T00:00:00\", \"n\": 38, \"7_day_rolling_average\": 64.85714285714286}, {\"date\": \"2022-08-22T00:00:00\", \"n\": 79, \"7_day_rolling_average\": 66.85714285714286}, {\"date\": \"2022-08-23T00:00:00\", \"n\": 82, \"7_day_rolling_average\": 66.28571428571429}, {\"date\": \"2022-08-24T00:00:00\", \"n\": 73, \"7_day_rolling_average\": 65.42857142857143}, {\"date\": \"2022-08-25T00:00:00\", \"n\": 84, \"7_day_rolling_average\": 65.71428571428571}, {\"date\": \"2022-08-26T00:00:00\", \"n\": 81, \"7_day_rolling_average\": 67.85714285714286}, {\"date\": \"2022-08-27T00:00:00\", \"n\": 38, \"7_day_rolling_average\": 67.85714285714286}, {\"date\": \"2022-08-28T00:00:00\", \"n\": 32, \"7_day_rolling_average\": 67.0}, {\"date\": \"2022-08-29T00:00:00\", \"n\": 77, \"7_day_rolling_average\": 66.71428571428571}, {\"date\": \"2022-08-30T00:00:00\", \"n\": 77, \"7_day_rolling_average\": 66.0}, {\"date\": \"2022-08-31T00:00:00\", \"n\": 79, \"7_day_rolling_average\": 66.85714285714286}, {\"date\": \"2022-09-01T00:00:00\", \"n\": 66, \"7_day_rolling_average\": 64.28571428571429}, {\"date\": \"2022-09-02T00:00:00\", \"n\": 78, \"7_day_rolling_average\": 63.857142857142854}, {\"date\": \"2022-09-03T00:00:00\", \"n\": 47, \"7_day_rolling_average\": 65.14285714285714}, {\"date\": \"2022-09-04T00:00:00\", \"n\": 26, \"7_day_rolling_average\": 64.28571428571429}, {\"date\": \"2022-09-05T00:00:00\", \"n\": 81, \"7_day_rolling_average\": 64.85714285714286}, {\"date\": \"2022-09-06T00:00:00\", \"n\": 70, \"7_day_rolling_average\": 63.857142857142854}, {\"date\": \"2022-09-07T00:00:00\", \"n\": 84, \"7_day_rolling_average\": 64.57142857142857}, {\"date\": \"2022-09-08T00:00:00\", \"n\": 28, \"7_day_rolling_average\": 59.142857142857146}, {\"date\": \"2022-09-09T00:00:00\", \"n\": 133, \"7_day_rolling_average\": 67.0}, {\"date\": \"2022-09-10T00:00:00\", \"n\": 50, \"7_day_rolling_average\": 67.42857142857143}, {\"date\": \"2022-09-11T00:00:00\", \"n\": 50, \"7_day_rolling_average\": 70.85714285714286}, {\"date\": \"2022-09-12T00:00:00\", \"n\": 68, \"7_day_rolling_average\": 69.0}, {\"date\": \"2022-09-13T00:00:00\", \"n\": 87, \"7_day_rolling_average\": 71.42857142857143}, {\"date\": \"2022-09-14T00:00:00\", \"n\": 83, \"7_day_rolling_average\": 71.28571428571429}, {\"date\": \"2022-09-15T00:00:00\", \"n\": 83, \"7_day_rolling_average\": 79.14285714285714}, {\"date\": \"2022-09-16T00:00:00\", \"n\": 77, \"7_day_rolling_average\": 71.14285714285714}, {\"date\": \"2022-09-17T00:00:00\", \"n\": 46, \"7_day_rolling_average\": 70.57142857142857}, {\"date\": \"2022-09-18T00:00:00\", \"n\": 27, \"7_day_rolling_average\": 67.28571428571429}, {\"date\": \"2022-09-19T00:00:00\", \"n\": 84, \"7_day_rolling_average\": 69.57142857142857}, {\"date\": \"2022-09-20T00:00:00\", \"n\": 75, \"7_day_rolling_average\": 67.85714285714286}, {\"date\": \"2022-09-21T00:00:00\", \"n\": 87, \"7_day_rolling_average\": 68.42857142857143}, {\"date\": \"2022-09-22T00:00:00\", \"n\": 71, \"7_day_rolling_average\": 66.71428571428571}, {\"date\": \"2022-09-23T00:00:00\", \"n\": 66, \"7_day_rolling_average\": 65.14285714285714}, {\"date\": \"2022-09-24T00:00:00\", \"n\": 36, \"7_day_rolling_average\": 63.714285714285715}, {\"date\": \"2022-09-25T00:00:00\", \"n\": 28, \"7_day_rolling_average\": 63.857142857142854}, {\"date\": \"2022-09-26T00:00:00\", \"n\": 75, \"7_day_rolling_average\": 62.57142857142857}, {\"date\": \"2022-09-27T00:00:00\", \"n\": 83, \"7_day_rolling_average\": 63.714285714285715}, {\"date\": \"2022-09-28T00:00:00\", \"n\": 72, \"7_day_rolling_average\": 61.57142857142857}, {\"date\": \"2022-09-29T00:00:00\", \"n\": 78, \"7_day_rolling_average\": 62.57142857142857}, {\"date\": \"2022-09-30T00:00:00\", \"n\": 67, \"7_day_rolling_average\": 62.714285714285715}, {\"date\": \"2022-10-01T00:00:00\", \"n\": 28, \"7_day_rolling_average\": 61.57142857142857}, {\"date\": \"2022-10-02T00:00:00\", \"n\": 39, \"7_day_rolling_average\": 63.142857142857146}, {\"date\": \"2022-10-03T00:00:00\", \"n\": 69, \"7_day_rolling_average\": 62.285714285714285}, {\"date\": \"2022-10-04T00:00:00\", \"n\": 87, \"7_day_rolling_average\": 62.857142857142854}, {\"date\": \"2022-10-05T00:00:00\", \"n\": 53, \"7_day_rolling_average\": 60.142857142857146}, {\"date\": \"2022-10-06T00:00:00\", \"n\": 63, \"7_day_rolling_average\": 58.0}, {\"date\": \"2022-10-07T00:00:00\", \"n\": 70, \"7_day_rolling_average\": 58.42857142857143}, {\"date\": \"2022-10-08T00:00:00\", \"n\": 51, \"7_day_rolling_average\": 61.714285714285715}, {\"date\": \"2022-10-09T00:00:00\", \"n\": 39, \"7_day_rolling_average\": 61.714285714285715}, {\"date\": \"2022-10-10T00:00:00\", \"n\": 63, \"7_day_rolling_average\": 60.857142857142854}, {\"date\": \"2022-10-11T00:00:00\", \"n\": 97, \"7_day_rolling_average\": 62.285714285714285}, {\"date\": \"2022-10-12T00:00:00\", \"n\": 80, \"7_day_rolling_average\": 66.14285714285714}, {\"date\": \"2022-10-13T00:00:00\", \"n\": 64, \"7_day_rolling_average\": 66.28571428571429}, {\"date\": \"2022-10-14T00:00:00\", \"n\": 76, \"7_day_rolling_average\": 67.14285714285714}, {\"date\": \"2022-10-15T00:00:00\", \"n\": 47, \"7_day_rolling_average\": 66.57142857142857}, {\"date\": \"2022-10-16T00:00:00\", \"n\": 28, \"7_day_rolling_average\": 65.0}, {\"date\": \"2022-10-17T00:00:00\", \"n\": 82, \"7_day_rolling_average\": 67.71428571428571}, {\"date\": \"2022-10-18T00:00:00\", \"n\": 73, \"7_day_rolling_average\": 64.28571428571429}, {\"date\": \"2022-10-19T00:00:00\", \"n\": 54, \"7_day_rolling_average\": 60.57142857142857}, {\"date\": \"2022-10-20T00:00:00\", \"n\": 84, \"7_day_rolling_average\": 63.42857142857143}, {\"date\": \"2022-10-21T00:00:00\", \"n\": 57, \"7_day_rolling_average\": 60.714285714285715}, {\"date\": \"2022-10-22T00:00:00\", \"n\": 43, \"7_day_rolling_average\": 60.142857142857146}, {\"date\": \"2022-10-23T00:00:00\", \"n\": 25, \"7_day_rolling_average\": 59.714285714285715}, {\"date\": \"2022-10-24T00:00:00\", \"n\": 51, \"7_day_rolling_average\": 55.285714285714285}, {\"date\": \"2022-10-25T00:00:00\", \"n\": 73, \"7_day_rolling_average\": 55.285714285714285}, {\"date\": \"2022-10-26T00:00:00\", \"n\": 90, \"7_day_rolling_average\": 60.42857142857143}, {\"date\": \"2022-10-27T00:00:00\", \"n\": 63, \"7_day_rolling_average\": 57.42857142857143}, {\"date\": \"2022-10-28T00:00:00\", \"n\": 52, \"7_day_rolling_average\": 56.714285714285715}, {\"date\": \"2022-10-29T00:00:00\", \"n\": 65, \"7_day_rolling_average\": 59.857142857142854}, {\"date\": \"2022-10-30T00:00:00\", \"n\": 49, \"7_day_rolling_average\": 63.285714285714285}, {\"date\": \"2022-10-31T00:00:00\", \"n\": 57, \"7_day_rolling_average\": 64.14285714285714}, {\"date\": \"2022-11-01T00:00:00\", \"n\": 76, \"7_day_rolling_average\": 64.57142857142857}, {\"date\": \"2022-11-02T00:00:00\", \"n\": 71, \"7_day_rolling_average\": 61.857142857142854}, {\"date\": \"2022-11-03T00:00:00\", \"n\": 68, \"7_day_rolling_average\": 62.57142857142857}, {\"date\": \"2022-11-04T00:00:00\", \"n\": 67, \"7_day_rolling_average\": 64.71428571428571}, {\"date\": \"2022-11-05T00:00:00\", \"n\": 35, \"7_day_rolling_average\": 60.42857142857143}]}}, {\"mode\": \"vega-lite\"});\n",
       "</script>"
      ],
      "text/plain": [
       "alt.LayerChart(...)"
      ]
     },
     "execution_count": 66,
     "metadata": {},
     "output_type": "execute_result"
    }
   ],
   "source": [
    "chart = alt.Chart(chart_df).encode(\n",
    "    x=alt.X(\"date:T\", title=None, timeUnit=\"yearmonthdate\", axis=alt.Axis(format=\"%b %-d\", grid=False)),\n",
    "    tooltip=[\"date\", \"n\"]\n",
    ")\n",
    "\n",
    "bars = chart.mark_bar(opacity=0.6).encode(\n",
    "    y=alt.Y(\"n:Q\")\n",
    ")\n",
    "\n",
    "line = chart.mark_line(stroke=altair_theme.palette['accent']).encode(\n",
    "    y=alt.Y(\"7_day_rolling_average:Q\", title=\"Seven-day rolling average\")\n",
    ")\n",
    "\n",
    "(bars + line).properties(\n",
    "    title=\"New Drudge headlines per day\"\n",
    ")"
   ]
  },
  {
   "cell_type": "code",
   "execution_count": 71,
   "id": "7d804050-7c0c-49bc-ba78-1f18fcbd63e4",
   "metadata": {},
   "outputs": [],
   "source": [
    "story_df[story_df.earliest_date == \"2022-11-05\"].to_csv(\"drudge-proof-date.csv\", index=False)"
   ]
  }
 ],
 "metadata": {
  "kernelspec": {
   "display_name": "Python 3 (ipykernel)",
   "language": "python",
   "name": "python3"
  },
  "language_info": {
   "codemirror_mode": {
    "name": "ipython",
    "version": 3
   },
   "file_extension": ".py",
   "mimetype": "text/x-python",
   "name": "python",
   "nbconvert_exporter": "python",
   "pygments_lexer": "ipython3",
   "version": "3.9.9"
  }
 },
 "nbformat": 4,
 "nbformat_minor": 5
}
