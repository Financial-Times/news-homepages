{
 "cells": [
  {
   "cell_type": "code",
   "execution_count": 1,
   "id": "5a6c850d-b2b7-4633-9b92-73c82c6eb604",
   "metadata": {},
   "outputs": [],
   "source": [
    "import re\n",
    "import sys\n",
    "from pathlib import Path\n",
    "from urllib.parse import urlparse"
   ]
  },
  {
   "cell_type": "code",
   "execution_count": 2,
   "id": "ef24f43a-021f-49cf-9f2b-4d352568d222",
   "metadata": {},
   "outputs": [],
   "source": [
    "import tldextract\n",
    "import storysniffer"
   ]
  },
  {
   "cell_type": "code",
   "execution_count": 3,
   "id": "8b58496e-cfac-4c02-91a5-34185d9ccdeb",
   "metadata": {},
   "outputs": [],
   "source": [
    "import numpy as np\n",
    "import pandas as pd\n",
    "import altair as alt"
   ]
  },
  {
   "cell_type": "code",
   "execution_count": 4,
   "id": "b6b3c335-59c1-4c80-b190-f76fa1197727",
   "metadata": {},
   "outputs": [],
   "source": [
    "this_dir = Path(\"__file__\").parent.absolute()\n",
    "sys.path.append(this_dir.parent)\n",
    "sys.path.append(str(this_dir.parent / \"newshomepages\"))"
   ]
  },
  {
   "cell_type": "code",
   "execution_count": 5,
   "id": "e2dc2564-478a-4153-b799-5148201fdfa4",
   "metadata": {},
   "outputs": [],
   "source": [
    "extracts_dir = this_dir.parent / \"extracts\" / \"csv\""
   ]
  },
  {
   "cell_type": "code",
   "execution_count": 26,
   "id": "f9600199-c2b9-4ee9-a0e7-1791721a5f70",
   "metadata": {},
   "outputs": [],
   "source": [
    "df = pd.read_csv(\n",
    "    extracts_dir / \"us-right-wing-hyperlinks-sample.csv\",\n",
    "    usecols=[\n",
    "        'handle',\n",
    "        'file_name',\n",
    "        'date',\n",
    "        'text',\n",
    "        'url',\n",
    "    ],\n",
    "    dtype=str,\n",
    "    parse_dates=[\"date\"]\n",
    ")"
   ]
  },
  {
   "cell_type": "code",
   "execution_count": 27,
   "id": "d5a6deca-b1a2-4bf4-b5d5-b62898f2aa53",
   "metadata": {},
   "outputs": [
    {
     "name": "stdout",
     "output_type": "stream",
     "text": [
      "<class 'pandas.core.frame.DataFrame'>\n",
      "RangeIndex: 378740 entries, 0 to 378739\n",
      "Data columns (total 5 columns):\n",
      " #   Column     Non-Null Count   Dtype         \n",
      "---  ------     --------------   -----         \n",
      " 0   handle     378740 non-null  object        \n",
      " 1   file_name  378740 non-null  object        \n",
      " 2   date       378740 non-null  datetime64[ns]\n",
      " 3   text       343040 non-null  object        \n",
      " 4   url        378060 non-null  object        \n",
      "dtypes: datetime64[ns](1), object(4)\n",
      "memory usage: 14.4+ MB\n"
     ]
    }
   ],
   "source": [
    "df.info()"
   ]
  },
  {
   "cell_type": "code",
   "execution_count": 28,
   "id": "c1421092-0b2d-4079-9057-76071b469168",
   "metadata": {},
   "outputs": [
    {
     "data": {
      "text/html": [
       "<div>\n",
       "<style scoped>\n",
       "    .dataframe tbody tr th:only-of-type {\n",
       "        vertical-align: middle;\n",
       "    }\n",
       "\n",
       "    .dataframe tbody tr th {\n",
       "        vertical-align: top;\n",
       "    }\n",
       "\n",
       "    .dataframe thead th {\n",
       "        text-align: right;\n",
       "    }\n",
       "</style>\n",
       "<table border=\"1\" class=\"dataframe\">\n",
       "  <thead>\n",
       "    <tr style=\"text-align: right;\">\n",
       "      <th></th>\n",
       "      <th>handle</th>\n",
       "      <th>file_name</th>\n",
       "      <th>date</th>\n",
       "      <th>text</th>\n",
       "      <th>url</th>\n",
       "    </tr>\n",
       "  </thead>\n",
       "  <tbody>\n",
       "    <tr>\n",
       "      <th>0</th>\n",
       "      <td>BonginoReport</td>\n",
       "      <td>bonginoreport-2022-11-02T06:42:46.916347-04:00...</td>\n",
       "      <td>2022-11-02</td>\n",
       "      <td>\\n\\n</td>\n",
       "      <td>/</td>\n",
       "    </tr>\n",
       "    <tr>\n",
       "      <th>1</th>\n",
       "      <td>BonginoReport</td>\n",
       "      <td>bonginoreport-2022-11-02T06:42:46.916347-04:00...</td>\n",
       "      <td>2022-11-02</td>\n",
       "      <td></td>\n",
       "      <td>https://thepostmillennial.com/breaking-justice...</td>\n",
       "    </tr>\n",
       "    <tr>\n",
       "      <th>2</th>\n",
       "      <td>BonginoReport</td>\n",
       "      <td>bonginoreport-2022-11-02T06:42:46.916347-04:00...</td>\n",
       "      <td>2022-11-02</td>\n",
       "      <td>Justice Roberts Blocks Democrat House Committe...</td>\n",
       "      <td>https://thepostmillennial.com/breaking-justice...</td>\n",
       "    </tr>\n",
       "    <tr>\n",
       "      <th>3</th>\n",
       "      <td>BonginoReport</td>\n",
       "      <td>bonginoreport-2022-11-02T06:42:46.916347-04:00...</td>\n",
       "      <td>2022-11-02</td>\n",
       "      <td>Read more</td>\n",
       "      <td>https://thepostmillennial.com/breaking-justice...</td>\n",
       "    </tr>\n",
       "    <tr>\n",
       "      <th>4</th>\n",
       "      <td>BonginoReport</td>\n",
       "      <td>bonginoreport-2022-11-02T06:42:46.916347-04:00...</td>\n",
       "      <td>2022-11-02</td>\n",
       "      <td>\\nBenjamin Netanyahu Poised to Return to Power\\n</td>\n",
       "      <td>https://www.foxnews.com/world/israel-election-...</td>\n",
       "    </tr>\n",
       "  </tbody>\n",
       "</table>\n",
       "</div>"
      ],
      "text/plain": [
       "          handle                                          file_name  \\\n",
       "0  BonginoReport  bonginoreport-2022-11-02T06:42:46.916347-04:00...   \n",
       "1  BonginoReport  bonginoreport-2022-11-02T06:42:46.916347-04:00...   \n",
       "2  BonginoReport  bonginoreport-2022-11-02T06:42:46.916347-04:00...   \n",
       "3  BonginoReport  bonginoreport-2022-11-02T06:42:46.916347-04:00...   \n",
       "4  BonginoReport  bonginoreport-2022-11-02T06:42:46.916347-04:00...   \n",
       "\n",
       "        date                                               text  \\\n",
       "0 2022-11-02                                               \\n\\n   \n",
       "1 2022-11-02                                                      \n",
       "2 2022-11-02  Justice Roberts Blocks Democrat House Committe...   \n",
       "3 2022-11-02                                          Read more   \n",
       "4 2022-11-02   \\nBenjamin Netanyahu Poised to Return to Power\\n   \n",
       "\n",
       "                                                 url  \n",
       "0                                                  /  \n",
       "1  https://thepostmillennial.com/breaking-justice...  \n",
       "2  https://thepostmillennial.com/breaking-justice...  \n",
       "3  https://thepostmillennial.com/breaking-justice...  \n",
       "4  https://www.foxnews.com/world/israel-election-...  "
      ]
     },
     "execution_count": 28,
     "metadata": {},
     "output_type": "execute_result"
    }
   ],
   "source": [
    "df.head()"
   ]
  },
  {
   "cell_type": "code",
   "execution_count": 29,
   "id": "140b5bd7-ae90-4246-99f6-1a98e0c7187a",
   "metadata": {},
   "outputs": [],
   "source": [
    "df.text = df.text.str.strip()"
   ]
  },
  {
   "cell_type": "code",
   "execution_count": 30,
   "id": "8175c218-3fa8-49c1-90d9-64fbd178435f",
   "metadata": {},
   "outputs": [],
   "source": [
    "links_df = df.groupby([\"handle\", \"text\", \"url\"]).agg({\n",
    "    \"handle\": \"size\",\n",
    "    \"date\": \"min\"\n",
    "}).rename(columns={\"handle\": \"n\", \"date\": \"earlier_date\"}).reset_index()"
   ]
  },
  {
   "cell_type": "code",
   "execution_count": 31,
   "id": "4218551a-2be1-40dd-90a4-0f868958d2b8",
   "metadata": {},
   "outputs": [
    {
     "name": "stderr",
     "output_type": "stream",
     "text": [
      "/home/palewire/.local/share/virtualenvs/news-homepages-Qlfa7zLV/lib/python3.9/site-packages/sklearn/base.py:329: UserWarning: Trying to unpickle estimator CountVectorizer from version 1.1.2 when using version 1.1.3. This might lead to breaking code or invalid results. Use at your own risk. For more info please refer to:\n",
      "https://scikit-learn.org/stable/model_persistence.html#security-maintainability-limitations\n",
      "  warnings.warn(\n",
      "/home/palewire/.local/share/virtualenvs/news-homepages-Qlfa7zLV/lib/python3.9/site-packages/sklearn/base.py:329: UserWarning: Trying to unpickle estimator FunctionTransformer from version 1.1.2 when using version 1.1.3. This might lead to breaking code or invalid results. Use at your own risk. For more info please refer to:\n",
      "https://scikit-learn.org/stable/model_persistence.html#security-maintainability-limitations\n",
      "  warnings.warn(\n",
      "/home/palewire/.local/share/virtualenvs/news-homepages-Qlfa7zLV/lib/python3.9/site-packages/sklearn/base.py:329: UserWarning: Trying to unpickle estimator Pipeline from version 1.1.2 when using version 1.1.3. This might lead to breaking code or invalid results. Use at your own risk. For more info please refer to:\n",
      "https://scikit-learn.org/stable/model_persistence.html#security-maintainability-limitations\n",
      "  warnings.warn(\n",
      "/home/palewire/.local/share/virtualenvs/news-homepages-Qlfa7zLV/lib/python3.9/site-packages/sklearn/base.py:329: UserWarning: Trying to unpickle estimator FeatureUnion from version 1.1.2 when using version 1.1.3. This might lead to breaking code or invalid results. Use at your own risk. For more info please refer to:\n",
      "https://scikit-learn.org/stable/model_persistence.html#security-maintainability-limitations\n",
      "  warnings.warn(\n",
      "/home/palewire/.local/share/virtualenvs/news-homepages-Qlfa7zLV/lib/python3.9/site-packages/sklearn/base.py:329: UserWarning: Trying to unpickle estimator GaussianNB from version 1.1.2 when using version 1.1.3. This might lead to breaking code or invalid results. Use at your own risk. For more info please refer to:\n",
      "https://scikit-learn.org/stable/model_persistence.html#security-maintainability-limitations\n",
      "  warnings.warn(\n"
     ]
    }
   ],
   "source": [
    "sniffer = storysniffer.StorySniffer()"
   ]
  },
  {
   "cell_type": "code",
   "execution_count": 32,
   "id": "fb4d5c38-9b14-435c-aef9-a3765e5e5a88",
   "metadata": {},
   "outputs": [],
   "source": [
    "links_df['is_story'] = links_df.apply(lambda x: sniffer.guess(x['url'], text=x['text']), axis=1)"
   ]
  },
  {
   "cell_type": "code",
   "execution_count": 63,
   "id": "dcf1ad8b-0a71-465d-b50b-e75bb83c7b93",
   "metadata": {},
   "outputs": [],
   "source": [
    "text_black_list = [\n",
    "    \"COMMENTS\",\n",
    "    \"COMMENT\",\n",
    "]"
   ]
  },
  {
   "cell_type": "code",
   "execution_count": 64,
   "id": "fe2b9515-7da3-4dea-9d15-8e6d3bfbf87b",
   "metadata": {},
   "outputs": [],
   "source": [
    "for b in text_black_list:\n",
    "    links_df.loc[links_df.text == b, 'is_story'] = False"
   ]
  },
  {
   "cell_type": "code",
   "execution_count": 65,
   "id": "9e3e3f2b-4399-4fde-96d7-1bd8e7250434",
   "metadata": {},
   "outputs": [],
   "source": [
    "correction_list = [\n",
    "    \"\\.(substack|theankler|commonsense|thedispatch).(com|news)/p/\",\n",
    "    \"^https://time.com/\\d{5,}/*\",\n",
    "    \"^https://*.studyfinds.org/*.{5,}\",\n",
    "    \"^https://*.bbc.com/news/*.{5,}\",\n",
    "    \"^https://www.jpost.com/breaking-news/*.{5,}\",\n",
    "    \"^https://www.jpost.com/[a-z]{5,}/*.{5,}\",\n",
    "    \"^https://*.braintomorrow.com/*.{5,}\"\n",
    "    \"^https://finance.yahoo.com/news/*.{5,}\",\n",
    "    \"^https://www.vice.com/en/article/*.{5,}\",\n",
    "    \"^https://news.yahoo.com/*.{5,}\",\n",
    "    \"^https://www.nationalreview.com/corner/*\"\n",
    "    \"^https://www.nationalreview.com/the-morning-jolt/*\",\n",
    "]"
   ]
  },
  {
   "cell_type": "code",
   "execution_count": 66,
   "id": "1b1574c8-6985-4a05-aa5e-2f159f3c22b9",
   "metadata": {},
   "outputs": [
    {
     "name": "stderr",
     "output_type": "stream",
     "text": [
      "/tmp/ipykernel_1075839/1150215247.py:2: UserWarning: This pattern is interpreted as a regular expression, and has match groups. To actually get the groups, use str.extract.\n",
      "  links_df.loc[links_df.url.str.contains(c, regex=True), 'is_story'] = True\n"
     ]
    }
   ],
   "source": [
    "for c in correction_list:\n",
    "    links_df.loc[links_df.url.str.contains(c, regex=True), 'is_story'] = True"
   ]
  },
  {
   "cell_type": "code",
   "execution_count": 58,
   "id": "6d9b3890-23ab-4a01-bb24-dde34780cfe3",
   "metadata": {},
   "outputs": [],
   "source": [
    "n = len(df.file_name.unique())"
   ]
  },
  {
   "cell_type": "code",
   "execution_count": 59,
   "id": "d6891bb0-689f-43fb-80e7-e91b63fb3ca7",
   "metadata": {},
   "outputs": [],
   "source": [
    "too_much = links_df.n >= n * .5"
   ]
  },
  {
   "cell_type": "code",
   "execution_count": 60,
   "id": "52c26df1-61c4-4196-9bcb-17bf344247d9",
   "metadata": {},
   "outputs": [],
   "source": [
    "links_df.loc[too_much, 'is_story'] = False"
   ]
  },
  {
   "cell_type": "code",
   "execution_count": 57,
   "id": "a709db9b-a361-4460-9952-42ab6454176d",
   "metadata": {},
   "outputs": [],
   "source": [
    "links_df.loc[~links_df.url.str.startswith(\"http\"), 'is_story'] = False"
   ]
  },
  {
   "cell_type": "code",
   "execution_count": 56,
   "id": "f32a4d8a-6620-4d51-a9f5-bea17b8a7a90",
   "metadata": {},
   "outputs": [
    {
     "data": {
      "text/plain": [
       "True     28626\n",
       "False    10402\n",
       "Name: is_story, dtype: int64"
      ]
     },
     "execution_count": 56,
     "metadata": {},
     "output_type": "execute_result"
    }
   ],
   "source": [
    "links_df.is_story.value_counts()"
   ]
  },
  {
   "cell_type": "code",
   "execution_count": 50,
   "id": "0a924d78-efce-4873-a61a-2983f57c727e",
   "metadata": {},
   "outputs": [
    {
     "data": {
      "text/plain": [
       "True     0.731244\n",
       "False    0.268756\n",
       "Name: is_story, dtype: float64"
      ]
     },
     "execution_count": 50,
     "metadata": {},
     "output_type": "execute_result"
    }
   ],
   "source": [
    "links_df.is_story.value_counts(normalize=True)"
   ]
  },
  {
   "cell_type": "code",
   "execution_count": 39,
   "id": "e821a984-6b1f-45ef-aaec-ea3823116d00",
   "metadata": {},
   "outputs": [
    {
     "name": "stderr",
     "output_type": "stream",
     "text": [
      "/tmp/ipykernel_1075839/2929807473.py:1: FutureWarning: As the xlwt package is no longer maintained, the xlwt engine will be removed in a future version of pandas. This is the only engine in pandas that supports writing in the xls format. Install openpyxl and write to an xlsx file instead. You can set the option io.excel.xls.writer to 'xlwt' to silence this warning. While this option is deprecated and will also raise a warning, it can be globally set and the warning suppressed.\n",
      "  links_df.to_excel(\"./us-right-wing-hyperlinks-storysniffer-guesses.xls\", index=False)\n"
     ]
    }
   ],
   "source": [
    "links_df.to_excel(\"./us-right-wing-hyperlinks-storysniffer-guesses.xls\", index=False)"
   ]
  },
  {
   "cell_type": "code",
   "execution_count": 61,
   "id": "556dd929-3d00-430e-8ecc-49fc4f880fcc",
   "metadata": {},
   "outputs": [],
   "source": [
    "story_df = links_df[links_df.is_story].copy()"
   ]
  },
  {
   "cell_type": "code",
   "execution_count": 62,
   "id": "373c1515-74ee-4f7b-87a6-50e487ac863b",
   "metadata": {},
   "outputs": [],
   "source": [
    "story_df['domain'] = story_df.url.apply(lambda x: f\"{tldextract.extract(x).domain}.{tldextract.extract(x).suffix}\")"
   ]
  }
 ],
 "metadata": {
  "kernelspec": {
   "display_name": "Python 3 (ipykernel)",
   "language": "python",
   "name": "python3"
  },
  "language_info": {
   "codemirror_mode": {
    "name": "ipython",
    "version": 3
   },
   "file_extension": ".py",
   "mimetype": "text/x-python",
   "name": "python",
   "nbconvert_exporter": "python",
   "pygments_lexer": "ipython3",
   "version": "3.9.9"
  }
 },
 "nbformat": 4,
 "nbformat_minor": 5
}
