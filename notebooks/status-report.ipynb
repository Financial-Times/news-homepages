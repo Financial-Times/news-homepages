{
 "cells": [
  {
   "cell_type": "markdown",
   "id": "f6b70a86-914e-4e25-9a70-ddade252ef8f",
   "metadata": {},
   "source": [
    "# Status report\n",
    "\n",
    "By Ben Welsh\n",
    "\n",
    "Generates basic statistics from [News Homepages database extracts](https://palewi.re/docs/news-homepages/extracts.html)."
   ]
  },
  {
   "cell_type": "code",
   "execution_count": 1,
   "id": "27a05e5d-eae6-4eca-8ff6-9a0a13631a6a",
   "metadata": {},
   "outputs": [],
   "source": [
    "import os\n",
    "import json\n",
    "import pandas as pd\n",
    "import altair as alt\n",
    "from pathlib import Path\n",
    "from datetime import datetime, timedelta"
   ]
  },
  {
   "cell_type": "code",
   "execution_count": 2,
   "id": "94191379-5698-42e2-915e-7a102d5ed2df",
   "metadata": {},
   "outputs": [],
   "source": [
    "palette = dict(\n",
    "    black='#000000',\n",
    "    white='#ffffff',\n",
    "    default='#cecece',\n",
    "    accent='#727272',\n",
    "    ramp=[\n",
    "        '#5e5e5e',\n",
    "        '#727272',\n",
    "        '#858585',\n",
    "        '#989898',\n",
    "        '#aaaaaa',\n",
    "        '#bcbcbc',\n",
    "        '#c4c4c4',\n",
    "        '#cecece',\n",
    "        '#e0e0e0',\n",
    "        '#f0f0f0',\n",
    "        '#ffffff',\n",
    "    ]\n",
    ")"
   ]
  },
  {
   "cell_type": "code",
   "execution_count": 3,
   "id": "b4ae763d-adad-4b1f-8616-5e045a6dc378",
   "metadata": {},
   "outputs": [],
   "source": [
    "def theme():\n",
    "    \"\"\"\n",
    "    A @palewire theme for Altair.\n",
    "    \"\"\"\n",
    "\n",
    "    \n",
    "    fontFamily = '\"Libre Franklin\",\"Helvetica\",\"Liberation Sans\",Arial,sans-serif'\n",
    "\n",
    "    # Headline stuff\n",
    "    headlineFontSize = 20\n",
    "    headlineFontWeight = \"bold\"\n",
    "    headlineFont = fontFamily\n",
    "\n",
    "    # Titles for axes and legends and such\n",
    "    titleFont = fontFamily\n",
    "    titleFontWeight = 'bold'\n",
    "    titleFontSize = 14\n",
    "\n",
    "    # Labels for ticks and legend entries and such\n",
    "    labelFont = fontFamily\n",
    "    labelFontSize = 12\n",
    "    labelFontWeight = 'normal'\n",
    "\n",
    "    return dict(\n",
    "        config=dict(\n",
    "            view=dict(\n",
    "                width=500,\n",
    "                height=300,\n",
    "                stroke=0,\n",
    "            ),\n",
    "            padding=dict(top=15, bottom=15, left=10, right=10),\n",
    "            background=palette['white'],\n",
    "            title=dict(\n",
    "                anchor='start',\n",
    "                font=headlineFont,\n",
    "                fontColor=palette['black'],\n",
    "                fontSize=headlineFontSize,\n",
    "                fontWeight=headlineFontWeight,\n",
    "                lineHeight=26,\n",
    "            ),\n",
    "            arc=dict(fill=palette['default']),\n",
    "            area=dict(fill=palette['default']),\n",
    "            line=dict(stroke=palette['default'], strokeWidth=3),\n",
    "            path=dict(stroke=palette['default']),\n",
    "            rect=dict(fill=palette['default']),\n",
    "            shape=dict(stroke=palette['default']),\n",
    "            bar=dict(fill=palette['default']),\n",
    "            point=dict(stroke=palette['default']),\n",
    "            symbol=dict(fill=palette['default'], size=30),\n",
    "            axis=dict(\n",
    "                titleFont=titleFont,\n",
    "                titleFontSize=titleFontSize,\n",
    "                titleFontWeight=titleFontWeight,\n",
    "                labelFont=labelFont,\n",
    "                labelFontSize=labelFontSize,\n",
    "                labelFontWeight=labelFontWeight,\n",
    "                tickColor=palette['accent'],\n",
    "                labelColor=palette['accent'],\n",
    "                stroke=palette['default'],\n",
    "            ),\n",
    "            axisX=dict(\n",
    "                labelAngle=0,\n",
    "                labelPadding=10,\n",
    "                labelFlush=True,\n",
    "                tickSize=0,\n",
    "                domain=False,\n",
    "            ),\n",
    "            axisY=dict(\n",
    "                labelBaseline='middle',\n",
    "                labelPadding=5,\n",
    "                labelFlush=True,\n",
    "                tickSize=0,\n",
    "                titleAlign='left',\n",
    "                titleAngle=0,\n",
    "                titleX=-45,\n",
    "                titleY=-11,\n",
    "                domain=False,\n",
    "            ),\n",
    "            legend=dict(\n",
    "                titleFont=titleFont,\n",
    "                titleFontSize=titleFontSize,\n",
    "                titleFontWeight=titleFontWeight,\n",
    "                symbolType='square',\n",
    "                labelFont=labelFont,\n",
    "                labelFontSize=labelFontSize + 1\n",
    "            ),\n",
    "            range=dict(\n",
    "                heatmap=palette['ramp'],\n",
    "                ordinal=palette['ramp'],\n",
    "                ramp=palette['ramp']\n",
    "            )\n",
    "        )\n",
    "    )"
   ]
  },
  {
   "cell_type": "code",
   "execution_count": 4,
   "id": "9dfbddf7-3cd5-4c7f-b8ea-7b73aff8711e",
   "metadata": {},
   "outputs": [
    {
     "data": {
      "text/plain": [
       "ThemeRegistry.enable('palewire')"
      ]
     },
     "execution_count": 4,
     "metadata": {},
     "output_type": "execute_result"
    }
   ],
   "source": [
    "alt.themes.register('palewire', theme)\n",
    "alt.themes.enable('palewire')"
   ]
  },
  {
   "cell_type": "code",
   "execution_count": 5,
   "id": "345820df-93a9-4223-8166-663a1ad3eedd",
   "metadata": {},
   "outputs": [],
   "source": [
    "this_dir = Path(\"__file__\").parent.absolute()"
   ]
  },
  {
   "cell_type": "code",
   "execution_count": 6,
   "id": "0871d889-0c5f-4f83-970c-8415cecf4bfc",
   "metadata": {},
   "outputs": [],
   "source": [
    "sources_dir = this_dir.parent / \"newshomepages\" / \"sources\""
   ]
  },
  {
   "cell_type": "code",
   "execution_count": 7,
   "id": "4914c898-b8c9-4da5-a57f-0e0a50849645",
   "metadata": {},
   "outputs": [],
   "source": [
    "extracts_dir = this_dir.parent / \"extracts\" / \"csv\""
   ]
  },
  {
   "cell_type": "code",
   "execution_count": 8,
   "id": "b534f0b1-9a1a-46b7-89a8-8ca49e421ab0",
   "metadata": {},
   "outputs": [],
   "source": [
    "df = pd.read_csv(\n",
    "    extracts_dir / \"screenshot-files.csv\",\n",
    "    parse_dates=[\"mtime\"],\n",
    "    usecols=[\"identifier\", \"handle\", \"file_name\", \"mtime\"]\n",
    ")"
   ]
  },
  {
   "cell_type": "code",
   "execution_count": 9,
   "id": "b08a8ab7-8226-4f17-abb8-19499f6e4a69",
   "metadata": {},
   "outputs": [],
   "source": [
    "df['date'] = df.mtime.dt.date"
   ]
  },
  {
   "cell_type": "code",
   "execution_count": 10,
   "id": "9f6cd676-5a56-46fe-a9d5-914f84ae8134",
   "metadata": {},
   "outputs": [],
   "source": [
    "df[\"date\"] = pd.to_datetime(df[\"date\"])"
   ]
  },
  {
   "cell_type": "markdown",
   "id": "6ec47fcb-90f3-47c8-af47-24f63bcadd5e",
   "metadata": {},
   "source": [
    "How many total sites?"
   ]
  },
  {
   "cell_type": "code",
   "execution_count": 11,
   "id": "22b4155c-cb5c-4c57-8edd-d29de417b783",
   "metadata": {},
   "outputs": [],
   "source": [
    "total_sites = len(df.handle.unique())"
   ]
  },
  {
   "cell_type": "code",
   "execution_count": 12,
   "id": "e74a9e84-5d9c-44b9-9922-40b6ce965b31",
   "metadata": {},
   "outputs": [
    {
     "data": {
      "text/plain": [
       "815"
      ]
     },
     "execution_count": 12,
     "metadata": {},
     "output_type": "execute_result"
    }
   ],
   "source": [
    "total_sites"
   ]
  },
  {
   "cell_type": "markdown",
   "id": "c1083434-021a-4c4a-8a93-62cdf30ec2b0",
   "metadata": {},
   "source": [
    "How many total screenshots?"
   ]
  },
  {
   "cell_type": "code",
   "execution_count": 13,
   "id": "e816a888-6bc7-483c-8b5b-13f8d5fc1e05",
   "metadata": {},
   "outputs": [],
   "source": [
    "total_screenshots = len(df)"
   ]
  },
  {
   "cell_type": "code",
   "execution_count": 14,
   "id": "8c5f6e6c-2de1-4fc5-a798-43881e6e759d",
   "metadata": {},
   "outputs": [
    {
     "data": {
      "text/plain": [
       "85926"
      ]
     },
     "execution_count": 14,
     "metadata": {},
     "output_type": "execute_result"
    }
   ],
   "source": [
    "total_screenshots"
   ]
  },
  {
   "cell_type": "markdown",
   "id": "0e7fb347-c570-47cf-bf34-dcb363350122",
   "metadata": {},
   "source": [
    "When did we start?"
   ]
  },
  {
   "cell_type": "code",
   "execution_count": 15,
   "id": "c3ae323f-372f-471b-a8b6-49cc2e2a020f",
   "metadata": {},
   "outputs": [],
   "source": [
    "start_date = min(df.date)"
   ]
  },
  {
   "cell_type": "code",
   "execution_count": 16,
   "id": "77fa1d44-9555-4083-ae73-7e4bbd066a1f",
   "metadata": {},
   "outputs": [
    {
     "data": {
      "text/plain": [
       "Timestamp('2022-03-22 00:00:00')"
      ]
     },
     "execution_count": 16,
     "metadata": {},
     "output_type": "execute_result"
    }
   ],
   "source": [
    "start_date"
   ]
  },
  {
   "cell_type": "markdown",
   "id": "3dc6225a-6f21-4ae6-9ee6-b319fa616a0f",
   "metadata": {},
   "source": [
    "How many screenshots in the last week?"
   ]
  },
  {
   "cell_type": "code",
   "execution_count": 17,
   "id": "6c66c314-868a-4409-9d7a-1c6c82b235cd",
   "metadata": {},
   "outputs": [],
   "source": [
    "today = datetime.now().date()"
   ]
  },
  {
   "cell_type": "code",
   "execution_count": 18,
   "id": "c3c8981e-b27a-417f-9593-37947df85b17",
   "metadata": {},
   "outputs": [
    {
     "data": {
      "text/plain": [
       "datetime.date(2022, 8, 18)"
      ]
     },
     "execution_count": 18,
     "metadata": {},
     "output_type": "execute_result"
    }
   ],
   "source": [
    "today"
   ]
  },
  {
   "cell_type": "code",
   "execution_count": 19,
   "id": "e3251d52-14f1-4686-952b-d4c5de58c17c",
   "metadata": {},
   "outputs": [],
   "source": [
    "one_week_ago = today - timedelta(days=7)"
   ]
  },
  {
   "cell_type": "code",
   "execution_count": 20,
   "id": "2f307dff-405f-43c6-8cf4-912dc034e0d5",
   "metadata": {},
   "outputs": [
    {
     "data": {
      "text/plain": [
       "datetime.date(2022, 8, 11)"
      ]
     },
     "execution_count": 20,
     "metadata": {},
     "output_type": "execute_result"
    }
   ],
   "source": [
    "one_week_ago"
   ]
  },
  {
   "cell_type": "code",
   "execution_count": 21,
   "id": "74113763-4ace-4918-a4e0-b203c3cde5d5",
   "metadata": {},
   "outputs": [],
   "source": [
    "df_this_week = df[df.date > pd.to_datetime(one_week_ago)]"
   ]
  },
  {
   "cell_type": "code",
   "execution_count": 22,
   "id": "fdac8947-59f7-4507-ab99-e91f2edc69f4",
   "metadata": {},
   "outputs": [],
   "source": [
    "screenshots_this_week = len(df_this_week)"
   ]
  },
  {
   "cell_type": "code",
   "execution_count": 23,
   "id": "273ef8a3-8a35-4c57-935e-e933e8abc418",
   "metadata": {},
   "outputs": [
    {
     "data": {
      "text/plain": [
       "10582"
      ]
     },
     "execution_count": 23,
     "metadata": {},
     "output_type": "execute_result"
    }
   ],
   "source": [
    "screenshots_this_week"
   ]
  },
  {
   "cell_type": "markdown",
   "id": "78980dcf-6b68-400c-b95d-e40df3706f20",
   "metadata": {},
   "source": [
    "Write out data points"
   ]
  },
  {
   "cell_type": "code",
   "execution_count": 24,
   "id": "009de7e3-8b7c-48d4-a1eb-36d22f6c2b81",
   "metadata": {},
   "outputs": [],
   "source": [
    "output = dict(\n",
    "    total_sites=total_sites,\n",
    "    total_screenshots=total_screenshots,\n",
    "    screenshots_this_week=screenshots_this_week,\n",
    ")"
   ]
  },
  {
   "cell_type": "code",
   "execution_count": 25,
   "id": "344f7e4b-0c10-4188-b2cf-fca449411711",
   "metadata": {},
   "outputs": [],
   "source": [
    "json.dump(output, open(this_dir / 'status-report.json', 'w'), indent=2)"
   ]
  },
  {
   "cell_type": "markdown",
   "id": "6ccd2958-3ab8-40ec-8405-a0fc45f4222f",
   "metadata": {},
   "source": [
    "Chart the number of sites by date"
   ]
  },
  {
   "cell_type": "code",
   "execution_count": 26,
   "id": "1ba96f9c-ee92-4e64-8a24-7066a6eab7d6",
   "metadata": {},
   "outputs": [],
   "source": [
    "sites_by_date = df[['date', 'handle']].drop_duplicates().groupby(\"date\").size().rename(\"sites\").reset_index().sort_values(\"date\")"
   ]
  },
  {
   "cell_type": "code",
   "execution_count": 27,
   "id": "4ac4e48a-2d67-469f-9421-04d57a87cd03",
   "metadata": {},
   "outputs": [],
   "source": [
    "sites_by_date['rolling_mean'] = sites_by_date.sites.rolling(7).mean()"
   ]
  },
  {
   "cell_type": "code",
   "execution_count": 28,
   "id": "8b0e062a-13b3-457d-a9e9-4f17319e8e29",
   "metadata": {},
   "outputs": [
    {
     "data": {
      "text/html": [
       "\n",
       "<div id=\"altair-viz-eb1c210380de46449678d2ea6c47e719\"></div>\n",
       "<script type=\"text/javascript\">\n",
       "  var VEGA_DEBUG = (typeof VEGA_DEBUG == \"undefined\") ? {} : VEGA_DEBUG;\n",
       "  (function(spec, embedOpt){\n",
       "    let outputDiv = document.currentScript.previousElementSibling;\n",
       "    if (outputDiv.id !== \"altair-viz-eb1c210380de46449678d2ea6c47e719\") {\n",
       "      outputDiv = document.getElementById(\"altair-viz-eb1c210380de46449678d2ea6c47e719\");\n",
       "    }\n",
       "    const paths = {\n",
       "      \"vega\": \"https://cdn.jsdelivr.net/npm//vega@5?noext\",\n",
       "      \"vega-lib\": \"https://cdn.jsdelivr.net/npm//vega-lib?noext\",\n",
       "      \"vega-lite\": \"https://cdn.jsdelivr.net/npm//vega-lite@4.17.0?noext\",\n",
       "      \"vega-embed\": \"https://cdn.jsdelivr.net/npm//vega-embed@6?noext\",\n",
       "    };\n",
       "\n",
       "    function maybeLoadScript(lib, version) {\n",
       "      var key = `${lib.replace(\"-\", \"\")}_version`;\n",
       "      return (VEGA_DEBUG[key] == version) ?\n",
       "        Promise.resolve(paths[lib]) :\n",
       "        new Promise(function(resolve, reject) {\n",
       "          var s = document.createElement('script');\n",
       "          document.getElementsByTagName(\"head\")[0].appendChild(s);\n",
       "          s.async = true;\n",
       "          s.onload = () => {\n",
       "            VEGA_DEBUG[key] = version;\n",
       "            return resolve(paths[lib]);\n",
       "          };\n",
       "          s.onerror = () => reject(`Error loading script: ${paths[lib]}`);\n",
       "          s.src = paths[lib];\n",
       "        });\n",
       "    }\n",
       "\n",
       "    function showError(err) {\n",
       "      outputDiv.innerHTML = `<div class=\"error\" style=\"color:red;\">${err}</div>`;\n",
       "      throw err;\n",
       "    }\n",
       "\n",
       "    function displayChart(vegaEmbed) {\n",
       "      vegaEmbed(outputDiv, spec, embedOpt)\n",
       "        .catch(err => showError(`Javascript Error: ${err.message}<br>This usually means there's a typo in your chart specification. See the javascript console for the full traceback.`));\n",
       "    }\n",
       "\n",
       "    if(typeof define === \"function\" && define.amd) {\n",
       "      requirejs.config({paths});\n",
       "      require([\"vega-embed\"], displayChart, err => showError(`Error loading script: ${err.message}`));\n",
       "    } else {\n",
       "      maybeLoadScript(\"vega\", \"5\")\n",
       "        .then(() => maybeLoadScript(\"vega-lite\", \"4.17.0\"))\n",
       "        .then(() => maybeLoadScript(\"vega-embed\", \"6\"))\n",
       "        .catch(showError)\n",
       "        .then(() => displayChart(vegaEmbed));\n",
       "    }\n",
       "  })({\"config\": {\"view\": {\"width\": 500, \"height\": 300, \"stroke\": 0}, \"padding\": {\"top\": 15, \"bottom\": 15, \"left\": 10, \"right\": 10}, \"background\": \"#ffffff\", \"title\": {\"anchor\": \"start\", \"font\": \"\\\"Libre Franklin\\\",\\\"Helvetica\\\",\\\"Liberation Sans\\\",Arial,sans-serif\", \"fontColor\": \"#000000\", \"fontSize\": 20, \"fontWeight\": \"bold\", \"lineHeight\": 26}, \"arc\": {\"fill\": \"#cecece\"}, \"area\": {\"fill\": \"#cecece\"}, \"line\": {\"stroke\": \"#cecece\", \"strokeWidth\": 3}, \"path\": {\"stroke\": \"#cecece\"}, \"rect\": {\"fill\": \"#cecece\"}, \"shape\": {\"stroke\": \"#cecece\"}, \"bar\": {\"fill\": \"#cecece\"}, \"point\": {\"stroke\": \"#cecece\"}, \"symbol\": {\"fill\": \"#cecece\", \"size\": 30}, \"axis\": {\"titleFont\": \"\\\"Libre Franklin\\\",\\\"Helvetica\\\",\\\"Liberation Sans\\\",Arial,sans-serif\", \"titleFontSize\": 14, \"titleFontWeight\": \"bold\", \"labelFont\": \"\\\"Libre Franklin\\\",\\\"Helvetica\\\",\\\"Liberation Sans\\\",Arial,sans-serif\", \"labelFontSize\": 12, \"labelFontWeight\": \"normal\", \"tickColor\": \"#727272\", \"labelColor\": \"#727272\", \"stroke\": \"#cecece\"}, \"axisX\": {\"labelAngle\": 0, \"labelPadding\": 10, \"labelFlush\": true, \"tickSize\": 0, \"domain\": false}, \"axisY\": {\"labelBaseline\": \"middle\", \"labelPadding\": 5, \"labelFlush\": true, \"tickSize\": 0, \"titleAlign\": \"left\", \"titleAngle\": 0, \"titleX\": -45, \"titleY\": -11, \"domain\": false}, \"legend\": {\"titleFont\": \"\\\"Libre Franklin\\\",\\\"Helvetica\\\",\\\"Liberation Sans\\\",Arial,sans-serif\", \"titleFontSize\": 14, \"titleFontWeight\": \"bold\", \"symbolType\": \"square\", \"labelFont\": \"\\\"Libre Franklin\\\",\\\"Helvetica\\\",\\\"Liberation Sans\\\",Arial,sans-serif\", \"labelFontSize\": 13}, \"range\": {\"heatmap\": [\"#5e5e5e\", \"#727272\", \"#858585\", \"#989898\", \"#aaaaaa\", \"#bcbcbc\", \"#c4c4c4\", \"#cecece\", \"#e0e0e0\", \"#f0f0f0\", \"#ffffff\"], \"ordinal\": [\"#5e5e5e\", \"#727272\", \"#858585\", \"#989898\", \"#aaaaaa\", \"#bcbcbc\", \"#c4c4c4\", \"#cecece\", \"#e0e0e0\", \"#f0f0f0\", \"#ffffff\"], \"ramp\": [\"#5e5e5e\", \"#727272\", \"#858585\", \"#989898\", \"#aaaaaa\", \"#bcbcbc\", \"#c4c4c4\", \"#cecece\", \"#e0e0e0\", \"#f0f0f0\", \"#ffffff\"]}}, \"layer\": [{\"mark\": {\"type\": \"bar\", \"fill\": \"#cecece\"}, \"encoding\": {\"x\": {\"axis\": {\"format\": \"%B %-d\", \"grid\": false}, \"field\": \"date\", \"timeUnit\": \"yearmonthdate\", \"title\": null, \"type\": \"temporal\"}, \"y\": {\"field\": \"sites\", \"title\": null, \"type\": \"quantitative\"}}, \"title\": \"Sites archived by day\"}, {\"mark\": {\"type\": \"line\", \"color\": \"#727272\", \"strokeWidth\": 3}, \"encoding\": {\"x\": {\"field\": \"date\", \"type\": \"temporal\"}, \"y\": {\"field\": \"rolling_mean\", \"type\": \"quantitative\"}}, \"title\": \"Sites archived by day\"}, {\"mark\": {\"type\": \"circle\", \"color\": \"#727272\", \"size\": 75}, \"encoding\": {\"text\": {\"field\": \"rolling_mean\", \"type\": \"quantitative\"}, \"x\": {\"aggregate\": \"max\", \"field\": \"date\", \"type\": \"temporal\"}, \"y\": {\"aggregate\": {\"argmax\": \"date\"}, \"field\": \"rolling_mean\", \"type\": \"quantitative\"}}, \"title\": \"Sites archived by day\"}], \"data\": {\"name\": \"data-197aefb7eff7b7227cae0635eeded98b\"}, \"$schema\": \"https://vega.github.io/schema/vega-lite/v4.17.0.json\", \"datasets\": {\"data-197aefb7eff7b7227cae0635eeded98b\": [{\"date\": \"2022-03-22T00:00:00\", \"sites\": 1, \"rolling_mean\": null}, {\"date\": \"2022-03-23T00:00:00\", \"sites\": 46, \"rolling_mean\": null}, {\"date\": \"2022-03-24T00:00:00\", \"sites\": 49, \"rolling_mean\": null}, {\"date\": \"2022-03-25T00:00:00\", \"sites\": 72, \"rolling_mean\": null}, {\"date\": \"2022-03-26T00:00:00\", \"sites\": 70, \"rolling_mean\": null}, {\"date\": \"2022-03-27T00:00:00\", \"sites\": 74, \"rolling_mean\": null}, {\"date\": \"2022-03-28T00:00:00\", \"sites\": 79, \"rolling_mean\": 55.857142857142854}, {\"date\": \"2022-03-29T00:00:00\", \"sites\": 72, \"rolling_mean\": 66.0}, {\"date\": \"2022-03-30T00:00:00\", \"sites\": 49, \"rolling_mean\": 66.42857142857143}, {\"date\": \"2022-03-31T00:00:00\", \"sites\": 61, \"rolling_mean\": 68.14285714285714}, {\"date\": \"2022-04-01T00:00:00\", \"sites\": 79, \"rolling_mean\": 69.14285714285714}, {\"date\": \"2022-04-02T00:00:00\", \"sites\": 61, \"rolling_mean\": 67.85714285714286}, {\"date\": \"2022-04-03T00:00:00\", \"sites\": 27, \"rolling_mean\": 61.142857142857146}, {\"date\": \"2022-04-04T00:00:00\", \"sites\": 82, \"rolling_mean\": 61.57142857142857}, {\"date\": \"2022-04-05T00:00:00\", \"sites\": 76, \"rolling_mean\": 62.142857142857146}, {\"date\": \"2022-04-06T00:00:00\", \"sites\": 87, \"rolling_mean\": 67.57142857142857}, {\"date\": \"2022-04-07T00:00:00\", \"sites\": 86, \"rolling_mean\": 71.14285714285714}, {\"date\": \"2022-04-08T00:00:00\", \"sites\": 87, \"rolling_mean\": 72.28571428571429}, {\"date\": \"2022-04-09T00:00:00\", \"sites\": 96, \"rolling_mean\": 77.28571428571429}, {\"date\": \"2022-04-10T00:00:00\", \"sites\": 95, \"rolling_mean\": 87.0}, {\"date\": \"2022-04-11T00:00:00\", \"sites\": 96, \"rolling_mean\": 89.0}, {\"date\": \"2022-04-12T00:00:00\", \"sites\": 97, \"rolling_mean\": 92.0}, {\"date\": \"2022-04-13T00:00:00\", \"sites\": 96, \"rolling_mean\": 93.28571428571429}, {\"date\": \"2022-04-14T00:00:00\", \"sites\": 97, \"rolling_mean\": 94.85714285714286}, {\"date\": \"2022-04-15T00:00:00\", \"sites\": 99, \"rolling_mean\": 96.57142857142857}, {\"date\": \"2022-04-16T00:00:00\", \"sites\": 99, \"rolling_mean\": 97.0}, {\"date\": \"2022-04-17T00:00:00\", \"sites\": 87, \"rolling_mean\": 95.85714285714286}, {\"date\": \"2022-04-18T00:00:00\", \"sites\": 97, \"rolling_mean\": 96.0}, {\"date\": \"2022-04-19T00:00:00\", \"sites\": 88, \"rolling_mean\": 94.71428571428571}, {\"date\": \"2022-04-20T00:00:00\", \"sites\": 99, \"rolling_mean\": 95.14285714285714}, {\"date\": \"2022-04-21T00:00:00\", \"sites\": 98, \"rolling_mean\": 95.28571428571429}, {\"date\": \"2022-04-22T00:00:00\", \"sites\": 99, \"rolling_mean\": 95.28571428571429}, {\"date\": \"2022-04-23T00:00:00\", \"sites\": 99, \"rolling_mean\": 95.28571428571429}, {\"date\": \"2022-04-24T00:00:00\", \"sites\": 98, \"rolling_mean\": 96.85714285714286}, {\"date\": \"2022-04-25T00:00:00\", \"sites\": 96, \"rolling_mean\": 96.71428571428571}, {\"date\": \"2022-04-26T00:00:00\", \"sites\": 95, \"rolling_mean\": 97.71428571428571}, {\"date\": \"2022-04-27T00:00:00\", \"sites\": 98, \"rolling_mean\": 97.57142857142857}, {\"date\": \"2022-04-28T00:00:00\", \"sites\": 87, \"rolling_mean\": 96.0}, {\"date\": \"2022-04-29T00:00:00\", \"sites\": 99, \"rolling_mean\": 96.0}, {\"date\": \"2022-04-30T00:00:00\", \"sites\": 95, \"rolling_mean\": 95.42857142857143}, {\"date\": \"2022-05-01T00:00:00\", \"sites\": 96, \"rolling_mean\": 95.14285714285714}, {\"date\": \"2022-05-02T00:00:00\", \"sites\": 99, \"rolling_mean\": 95.57142857142857}, {\"date\": \"2022-05-03T00:00:00\", \"sites\": 99, \"rolling_mean\": 96.14285714285714}, {\"date\": \"2022-05-04T00:00:00\", \"sites\": 97, \"rolling_mean\": 96.0}, {\"date\": \"2022-05-05T00:00:00\", \"sites\": 97, \"rolling_mean\": 97.42857142857143}, {\"date\": \"2022-05-06T00:00:00\", \"sites\": 99, \"rolling_mean\": 97.42857142857143}, {\"date\": \"2022-05-07T00:00:00\", \"sites\": 94, \"rolling_mean\": 97.28571428571429}, {\"date\": \"2022-05-08T00:00:00\", \"sites\": 96, \"rolling_mean\": 97.28571428571429}, {\"date\": \"2022-05-09T00:00:00\", \"sites\": 98, \"rolling_mean\": 97.14285714285714}, {\"date\": \"2022-05-10T00:00:00\", \"sites\": 94, \"rolling_mean\": 96.42857142857143}, {\"date\": \"2022-05-11T00:00:00\", \"sites\": 75, \"rolling_mean\": 93.28571428571429}, {\"date\": \"2022-05-12T00:00:00\", \"sites\": 98, \"rolling_mean\": 93.42857142857143}, {\"date\": \"2022-05-13T00:00:00\", \"sites\": 96, \"rolling_mean\": 93.0}, {\"date\": \"2022-05-14T00:00:00\", \"sites\": 94, \"rolling_mean\": 93.0}, {\"date\": \"2022-05-15T00:00:00\", \"sites\": 96, \"rolling_mean\": 93.0}, {\"date\": \"2022-05-16T00:00:00\", \"sites\": 83, \"rolling_mean\": 90.85714285714286}, {\"date\": \"2022-05-17T00:00:00\", \"sites\": 82, \"rolling_mean\": 89.14285714285714}, {\"date\": \"2022-05-18T00:00:00\", \"sites\": 77, \"rolling_mean\": 89.42857142857143}, {\"date\": \"2022-05-19T00:00:00\", \"sites\": 77, \"rolling_mean\": 86.42857142857143}, {\"date\": \"2022-05-20T00:00:00\", \"sites\": 85, \"rolling_mean\": 84.85714285714286}, {\"date\": \"2022-05-21T00:00:00\", \"sites\": 99, \"rolling_mean\": 85.57142857142857}, {\"date\": \"2022-05-22T00:00:00\", \"sites\": 97, \"rolling_mean\": 85.71428571428571}, {\"date\": \"2022-05-23T00:00:00\", \"sites\": 89, \"rolling_mean\": 86.57142857142857}, {\"date\": \"2022-05-24T00:00:00\", \"sites\": 93, \"rolling_mean\": 88.14285714285714}, {\"date\": \"2022-05-25T00:00:00\", \"sites\": 89, \"rolling_mean\": 89.85714285714286}, {\"date\": \"2022-05-26T00:00:00\", \"sites\": 88, \"rolling_mean\": 91.42857142857143}, {\"date\": \"2022-05-27T00:00:00\", \"sites\": 90, \"rolling_mean\": 92.14285714285714}, {\"date\": \"2022-05-28T00:00:00\", \"sites\": 74, \"rolling_mean\": 88.57142857142857}, {\"date\": \"2022-05-29T00:00:00\", \"sites\": 91, \"rolling_mean\": 87.71428571428571}, {\"date\": \"2022-05-30T00:00:00\", \"sites\": 99, \"rolling_mean\": 89.14285714285714}, {\"date\": \"2022-05-31T00:00:00\", \"sites\": 99, \"rolling_mean\": 90.0}, {\"date\": \"2022-06-01T00:00:00\", \"sites\": 85, \"rolling_mean\": 89.42857142857143}, {\"date\": \"2022-06-02T00:00:00\", \"sites\": 99, \"rolling_mean\": 91.0}, {\"date\": \"2022-06-03T00:00:00\", \"sites\": 89, \"rolling_mean\": 90.85714285714286}, {\"date\": \"2022-06-04T00:00:00\", \"sites\": 99, \"rolling_mean\": 94.42857142857143}, {\"date\": \"2022-06-05T00:00:00\", \"sites\": 80, \"rolling_mean\": 92.85714285714286}, {\"date\": \"2022-06-06T00:00:00\", \"sites\": 76, \"rolling_mean\": 89.57142857142857}, {\"date\": \"2022-06-07T00:00:00\", \"sites\": 97, \"rolling_mean\": 89.28571428571429}, {\"date\": \"2022-06-08T00:00:00\", \"sites\": 71, \"rolling_mean\": 87.28571428571429}, {\"date\": \"2022-06-09T00:00:00\", \"sites\": 99, \"rolling_mean\": 87.28571428571429}, {\"date\": \"2022-06-10T00:00:00\", \"sites\": 75, \"rolling_mean\": 85.28571428571429}, {\"date\": \"2022-06-11T00:00:00\", \"sites\": 100, \"rolling_mean\": 85.42857142857143}, {\"date\": \"2022-06-12T00:00:00\", \"sites\": 97, \"rolling_mean\": 87.85714285714286}, {\"date\": \"2022-06-13T00:00:00\", \"sites\": 94, \"rolling_mean\": 90.42857142857143}, {\"date\": \"2022-06-14T00:00:00\", \"sites\": 81, \"rolling_mean\": 88.14285714285714}, {\"date\": \"2022-06-15T00:00:00\", \"sites\": 70, \"rolling_mean\": 88.0}, {\"date\": \"2022-06-16T00:00:00\", \"sites\": 80, \"rolling_mean\": 85.28571428571429}, {\"date\": \"2022-06-17T00:00:00\", \"sites\": 104, \"rolling_mean\": 89.42857142857143}, {\"date\": \"2022-06-18T00:00:00\", \"sites\": 112, \"rolling_mean\": 91.14285714285714}, {\"date\": \"2022-06-19T00:00:00\", \"sites\": 147, \"rolling_mean\": 98.28571428571429}, {\"date\": \"2022-06-20T00:00:00\", \"sites\": 148, \"rolling_mean\": 106.0}, {\"date\": \"2022-06-21T00:00:00\", \"sites\": 148, \"rolling_mean\": 115.57142857142857}, {\"date\": \"2022-06-22T00:00:00\", \"sites\": 148, \"rolling_mean\": 126.71428571428571}, {\"date\": \"2022-06-23T00:00:00\", \"sites\": 148, \"rolling_mean\": 136.42857142857142}, {\"date\": \"2022-06-24T00:00:00\", \"sites\": 199, \"rolling_mean\": 150.0}, {\"date\": \"2022-06-25T00:00:00\", \"sites\": 199, \"rolling_mean\": 162.42857142857142}, {\"date\": \"2022-06-26T00:00:00\", \"sites\": 199, \"rolling_mean\": 169.85714285714286}, {\"date\": \"2022-06-27T00:00:00\", \"sites\": 201, \"rolling_mean\": 177.42857142857142}, {\"date\": \"2022-06-28T00:00:00\", \"sites\": 199, \"rolling_mean\": 184.71428571428572}, {\"date\": \"2022-06-29T00:00:00\", \"sites\": 200, \"rolling_mean\": 192.14285714285714}, {\"date\": \"2022-06-30T00:00:00\", \"sites\": 221, \"rolling_mean\": 202.57142857142858}, {\"date\": \"2022-07-01T00:00:00\", \"sites\": 221, \"rolling_mean\": 205.71428571428572}, {\"date\": \"2022-07-02T00:00:00\", \"sites\": 221, \"rolling_mean\": 208.85714285714286}, {\"date\": \"2022-07-03T00:00:00\", \"sites\": 230, \"rolling_mean\": 213.28571428571428}, {\"date\": \"2022-07-04T00:00:00\", \"sites\": 303, \"rolling_mean\": 227.85714285714286}, {\"date\": \"2022-07-05T00:00:00\", \"sites\": 303, \"rolling_mean\": 242.71428571428572}, {\"date\": \"2022-07-06T00:00:00\", \"sites\": 306, \"rolling_mean\": 257.85714285714283}, {\"date\": \"2022-07-07T00:00:00\", \"sites\": 309, \"rolling_mean\": 270.42857142857144}, {\"date\": \"2022-07-08T00:00:00\", \"sites\": 311, \"rolling_mean\": 283.2857142857143}, {\"date\": \"2022-07-09T00:00:00\", \"sites\": 410, \"rolling_mean\": 310.2857142857143}, {\"date\": \"2022-07-10T00:00:00\", \"sites\": 418, \"rolling_mean\": 337.14285714285717}, {\"date\": \"2022-07-11T00:00:00\", \"sites\": 418, \"rolling_mean\": 353.57142857142856}, {\"date\": \"2022-07-12T00:00:00\", \"sites\": 421, \"rolling_mean\": 370.42857142857144}, {\"date\": \"2022-07-13T00:00:00\", \"sites\": 428, \"rolling_mean\": 387.85714285714283}, {\"date\": \"2022-07-14T00:00:00\", \"sites\": 428, \"rolling_mean\": 404.85714285714283}, {\"date\": \"2022-07-15T00:00:00\", \"sites\": 428, \"rolling_mean\": 421.57142857142856}, {\"date\": \"2022-07-16T00:00:00\", \"sites\": 435, \"rolling_mean\": 425.14285714285717}, {\"date\": \"2022-07-17T00:00:00\", \"sites\": 457, \"rolling_mean\": 430.7142857142857}, {\"date\": \"2022-07-18T00:00:00\", \"sites\": 507, \"rolling_mean\": 443.42857142857144}, {\"date\": \"2022-07-19T00:00:00\", \"sites\": 510, \"rolling_mean\": 456.14285714285717}, {\"date\": \"2022-07-20T00:00:00\", \"sites\": 552, \"rolling_mean\": 473.85714285714283}, {\"date\": \"2022-07-21T00:00:00\", \"sites\": 558, \"rolling_mean\": 492.42857142857144}, {\"date\": \"2022-07-22T00:00:00\", \"sites\": 560, \"rolling_mean\": 511.2857142857143}, {\"date\": \"2022-07-23T00:00:00\", \"sites\": 566, \"rolling_mean\": 530.0}, {\"date\": \"2022-07-24T00:00:00\", \"sites\": 599, \"rolling_mean\": 550.2857142857143}, {\"date\": \"2022-07-25T00:00:00\", \"sites\": 615, \"rolling_mean\": 565.7142857142857}, {\"date\": \"2022-07-26T00:00:00\", \"sites\": 650, \"rolling_mean\": 585.7142857142857}, {\"date\": \"2022-07-27T00:00:00\", \"sites\": 660, \"rolling_mean\": 601.1428571428571}, {\"date\": \"2022-07-28T00:00:00\", \"sites\": 675, \"rolling_mean\": 617.8571428571429}, {\"date\": \"2022-07-29T00:00:00\", \"sites\": 676, \"rolling_mean\": 634.4285714285714}, {\"date\": \"2022-07-30T00:00:00\", \"sites\": 684, \"rolling_mean\": 651.2857142857143}, {\"date\": \"2022-07-31T00:00:00\", \"sites\": 679, \"rolling_mean\": 662.7142857142857}, {\"date\": \"2022-08-01T00:00:00\", \"sites\": 692, \"rolling_mean\": 673.7142857142857}, {\"date\": \"2022-08-02T00:00:00\", \"sites\": 704, \"rolling_mean\": 681.4285714285714}, {\"date\": \"2022-08-03T00:00:00\", \"sites\": 717, \"rolling_mean\": 689.5714285714286}, {\"date\": \"2022-08-04T00:00:00\", \"sites\": 735, \"rolling_mean\": 698.1428571428571}, {\"date\": \"2022-08-05T00:00:00\", \"sites\": 746, \"rolling_mean\": 708.1428571428571}, {\"date\": \"2022-08-06T00:00:00\", \"sites\": 746, \"rolling_mean\": 717.0}, {\"date\": \"2022-08-07T00:00:00\", \"sites\": 755, \"rolling_mean\": 727.8571428571429}, {\"date\": \"2022-08-08T00:00:00\", \"sites\": 756, \"rolling_mean\": 737.0}, {\"date\": \"2022-08-09T00:00:00\", \"sites\": 762, \"rolling_mean\": 745.2857142857143}, {\"date\": \"2022-08-10T00:00:00\", \"sites\": 767, \"rolling_mean\": 752.4285714285714}, {\"date\": \"2022-08-11T00:00:00\", \"sites\": 772, \"rolling_mean\": 757.7142857142857}, {\"date\": \"2022-08-12T00:00:00\", \"sites\": 772, \"rolling_mean\": 761.4285714285714}, {\"date\": \"2022-08-13T00:00:00\", \"sites\": 781, \"rolling_mean\": 766.4285714285714}, {\"date\": \"2022-08-14T00:00:00\", \"sites\": 794, \"rolling_mean\": 772.0}, {\"date\": \"2022-08-15T00:00:00\", \"sites\": 800, \"rolling_mean\": 778.2857142857143}, {\"date\": \"2022-08-16T00:00:00\", \"sites\": 808, \"rolling_mean\": 784.8571428571429}]}}, {\"mode\": \"vega-lite\"});\n",
       "</script>"
      ],
      "text/plain": [
       "alt.LayerChart(...)"
      ]
     },
     "execution_count": 28,
     "metadata": {},
     "output_type": "execute_result"
    }
   ],
   "source": [
    "chart = alt.Chart(\n",
    "    sites_by_date.head(len(sites_by_date) - 1),\n",
    "    title=\"Sites archived by day\",\n",
    ")\n",
    "\n",
    "bars = chart.mark_bar(\n",
    "    fill=\"#cecece\"\n",
    ").encode(\n",
    "    x=alt.X(\"date:T\", title=None, timeUnit=\"yearmonthdate\", axis=alt.Axis(format=\"%B %-d\", grid=False)),\n",
    "    y=alt.Y(\"sites:Q\", title=None),\n",
    ")\n",
    "\n",
    "line = chart.mark_line(color='#727272', strokeWidth=3).encode(\n",
    "    x='date:T',\n",
    "    y='rolling_mean:Q'\n",
    ")\n",
    "\n",
    "label = chart.encode(\n",
    "    x=alt.X('max(date):T'),\n",
    "    y=alt.Y('rolling_mean:Q', aggregate=alt.ArgmaxDef(argmax='date')),\n",
    "    text='rolling_mean'\n",
    ")\n",
    "\n",
    "# Create a text label\n",
    "text = label.mark_text(align='left', dx=4)\n",
    "\n",
    "# Create a circle annotation\n",
    "circle = label.mark_circle(size=75, color=\"#727272\")\n",
    "\n",
    "(bars + line + circle)"
   ]
  },
  {
   "cell_type": "code",
   "execution_count": 29,
   "id": "798b013d-461b-40f2-8358-77400237402d",
   "metadata": {},
   "outputs": [],
   "source": [
    "if os.getenv(\"CI\"):\n",
    "    (bars + line + circle).save(this_dir / 'sites-by-date.png')"
   ]
  },
  {
   "cell_type": "markdown",
   "id": "27cc2549-685a-4690-b073-006238fe448e",
   "metadata": {},
   "source": [
    "Chart the number of screenshots by date"
   ]
  },
  {
   "cell_type": "code",
   "execution_count": 30,
   "id": "e66169fd-426d-4617-b4b2-38d53bde8ab0",
   "metadata": {},
   "outputs": [],
   "source": [
    "screenshots_by_date = df.groupby(\"date\").size().rename(\"screenshots\").reset_index().sort_values(\"date\")"
   ]
  },
  {
   "cell_type": "code",
   "execution_count": 31,
   "id": "55f0200d-48e5-421a-a8dc-776a7c22675b",
   "metadata": {},
   "outputs": [],
   "source": [
    "screenshots_by_date['rolling_mean'] = screenshots_by_date.screenshots.rolling(7).mean()"
   ]
  },
  {
   "cell_type": "code",
   "execution_count": 32,
   "id": "1e8b7b01-f12c-4c92-b8e2-33718a33fdb0",
   "metadata": {},
   "outputs": [
    {
     "data": {
      "text/html": [
       "\n",
       "<div id=\"altair-viz-1ed4c8f1329f4d0b80f9df77d01419a7\"></div>\n",
       "<script type=\"text/javascript\">\n",
       "  var VEGA_DEBUG = (typeof VEGA_DEBUG == \"undefined\") ? {} : VEGA_DEBUG;\n",
       "  (function(spec, embedOpt){\n",
       "    let outputDiv = document.currentScript.previousElementSibling;\n",
       "    if (outputDiv.id !== \"altair-viz-1ed4c8f1329f4d0b80f9df77d01419a7\") {\n",
       "      outputDiv = document.getElementById(\"altair-viz-1ed4c8f1329f4d0b80f9df77d01419a7\");\n",
       "    }\n",
       "    const paths = {\n",
       "      \"vega\": \"https://cdn.jsdelivr.net/npm//vega@5?noext\",\n",
       "      \"vega-lib\": \"https://cdn.jsdelivr.net/npm//vega-lib?noext\",\n",
       "      \"vega-lite\": \"https://cdn.jsdelivr.net/npm//vega-lite@4.17.0?noext\",\n",
       "      \"vega-embed\": \"https://cdn.jsdelivr.net/npm//vega-embed@6?noext\",\n",
       "    };\n",
       "\n",
       "    function maybeLoadScript(lib, version) {\n",
       "      var key = `${lib.replace(\"-\", \"\")}_version`;\n",
       "      return (VEGA_DEBUG[key] == version) ?\n",
       "        Promise.resolve(paths[lib]) :\n",
       "        new Promise(function(resolve, reject) {\n",
       "          var s = document.createElement('script');\n",
       "          document.getElementsByTagName(\"head\")[0].appendChild(s);\n",
       "          s.async = true;\n",
       "          s.onload = () => {\n",
       "            VEGA_DEBUG[key] = version;\n",
       "            return resolve(paths[lib]);\n",
       "          };\n",
       "          s.onerror = () => reject(`Error loading script: ${paths[lib]}`);\n",
       "          s.src = paths[lib];\n",
       "        });\n",
       "    }\n",
       "\n",
       "    function showError(err) {\n",
       "      outputDiv.innerHTML = `<div class=\"error\" style=\"color:red;\">${err}</div>`;\n",
       "      throw err;\n",
       "    }\n",
       "\n",
       "    function displayChart(vegaEmbed) {\n",
       "      vegaEmbed(outputDiv, spec, embedOpt)\n",
       "        .catch(err => showError(`Javascript Error: ${err.message}<br>This usually means there's a typo in your chart specification. See the javascript console for the full traceback.`));\n",
       "    }\n",
       "\n",
       "    if(typeof define === \"function\" && define.amd) {\n",
       "      requirejs.config({paths});\n",
       "      require([\"vega-embed\"], displayChart, err => showError(`Error loading script: ${err.message}`));\n",
       "    } else {\n",
       "      maybeLoadScript(\"vega\", \"5\")\n",
       "        .then(() => maybeLoadScript(\"vega-lite\", \"4.17.0\"))\n",
       "        .then(() => maybeLoadScript(\"vega-embed\", \"6\"))\n",
       "        .catch(showError)\n",
       "        .then(() => displayChart(vegaEmbed));\n",
       "    }\n",
       "  })({\"config\": {\"view\": {\"width\": 500, \"height\": 300, \"stroke\": 0}, \"padding\": {\"top\": 15, \"bottom\": 15, \"left\": 10, \"right\": 10}, \"background\": \"#ffffff\", \"title\": {\"anchor\": \"start\", \"font\": \"\\\"Libre Franklin\\\",\\\"Helvetica\\\",\\\"Liberation Sans\\\",Arial,sans-serif\", \"fontColor\": \"#000000\", \"fontSize\": 20, \"fontWeight\": \"bold\", \"lineHeight\": 26}, \"arc\": {\"fill\": \"#cecece\"}, \"area\": {\"fill\": \"#cecece\"}, \"line\": {\"stroke\": \"#cecece\", \"strokeWidth\": 3}, \"path\": {\"stroke\": \"#cecece\"}, \"rect\": {\"fill\": \"#cecece\"}, \"shape\": {\"stroke\": \"#cecece\"}, \"bar\": {\"fill\": \"#cecece\"}, \"point\": {\"stroke\": \"#cecece\"}, \"symbol\": {\"fill\": \"#cecece\", \"size\": 30}, \"axis\": {\"titleFont\": \"\\\"Libre Franklin\\\",\\\"Helvetica\\\",\\\"Liberation Sans\\\",Arial,sans-serif\", \"titleFontSize\": 14, \"titleFontWeight\": \"bold\", \"labelFont\": \"\\\"Libre Franklin\\\",\\\"Helvetica\\\",\\\"Liberation Sans\\\",Arial,sans-serif\", \"labelFontSize\": 12, \"labelFontWeight\": \"normal\", \"tickColor\": \"#727272\", \"labelColor\": \"#727272\", \"stroke\": \"#cecece\"}, \"axisX\": {\"labelAngle\": 0, \"labelPadding\": 10, \"labelFlush\": true, \"tickSize\": 0, \"domain\": false}, \"axisY\": {\"labelBaseline\": \"middle\", \"labelPadding\": 5, \"labelFlush\": true, \"tickSize\": 0, \"titleAlign\": \"left\", \"titleAngle\": 0, \"titleX\": -45, \"titleY\": -11, \"domain\": false}, \"legend\": {\"titleFont\": \"\\\"Libre Franklin\\\",\\\"Helvetica\\\",\\\"Liberation Sans\\\",Arial,sans-serif\", \"titleFontSize\": 14, \"titleFontWeight\": \"bold\", \"symbolType\": \"square\", \"labelFont\": \"\\\"Libre Franklin\\\",\\\"Helvetica\\\",\\\"Liberation Sans\\\",Arial,sans-serif\", \"labelFontSize\": 13}, \"range\": {\"heatmap\": [\"#5e5e5e\", \"#727272\", \"#858585\", \"#989898\", \"#aaaaaa\", \"#bcbcbc\", \"#c4c4c4\", \"#cecece\", \"#e0e0e0\", \"#f0f0f0\", \"#ffffff\"], \"ordinal\": [\"#5e5e5e\", \"#727272\", \"#858585\", \"#989898\", \"#aaaaaa\", \"#bcbcbc\", \"#c4c4c4\", \"#cecece\", \"#e0e0e0\", \"#f0f0f0\", \"#ffffff\"], \"ramp\": [\"#5e5e5e\", \"#727272\", \"#858585\", \"#989898\", \"#aaaaaa\", \"#bcbcbc\", \"#c4c4c4\", \"#cecece\", \"#e0e0e0\", \"#f0f0f0\", \"#ffffff\"]}}, \"layer\": [{\"mark\": {\"type\": \"bar\", \"fill\": \"#cecece\"}, \"encoding\": {\"x\": {\"axis\": {\"format\": \"%B %-d\", \"grid\": false}, \"field\": \"date\", \"timeUnit\": \"yearmonthdate\", \"title\": null, \"type\": \"temporal\"}, \"y\": {\"field\": \"screenshots\", \"title\": null, \"type\": \"quantitative\"}}, \"title\": \"Screenshots saved by day\"}, {\"mark\": {\"type\": \"line\", \"color\": \"#727272\", \"strokeWidth\": 3}, \"encoding\": {\"x\": {\"field\": \"date\", \"type\": \"temporal\"}, \"y\": {\"field\": \"rolling_mean\", \"type\": \"quantitative\"}}, \"title\": \"Screenshots saved by day\"}, {\"mark\": {\"type\": \"circle\", \"color\": \"#727272\", \"size\": 75}, \"encoding\": {\"text\": {\"field\": \"rolling_mean\", \"type\": \"quantitative\"}, \"x\": {\"aggregate\": \"max\", \"field\": \"date\", \"type\": \"temporal\"}, \"y\": {\"aggregate\": {\"argmax\": \"date\"}, \"field\": \"rolling_mean\", \"type\": \"quantitative\"}}, \"title\": \"Screenshots saved by day\"}], \"data\": {\"name\": \"data-5eb98893a3321328af59d288917bea88\"}, \"$schema\": \"https://vega.github.io/schema/vega-lite/v4.17.0.json\", \"datasets\": {\"data-5eb98893a3321328af59d288917bea88\": [{\"date\": \"2022-03-22T00:00:00\", \"screenshots\": 2, \"rolling_mean\": null}, {\"date\": \"2022-03-23T00:00:00\", \"screenshots\": 112, \"rolling_mean\": null}, {\"date\": \"2022-03-24T00:00:00\", \"screenshots\": 106, \"rolling_mean\": null}, {\"date\": \"2022-03-25T00:00:00\", \"screenshots\": 151, \"rolling_mean\": null}, {\"date\": \"2022-03-26T00:00:00\", \"screenshots\": 125, \"rolling_mean\": null}, {\"date\": \"2022-03-27T00:00:00\", \"screenshots\": 121, \"rolling_mean\": null}, {\"date\": \"2022-03-28T00:00:00\", \"screenshots\": 126, \"rolling_mean\": 106.14285714285714}, {\"date\": \"2022-03-29T00:00:00\", \"screenshots\": 137, \"rolling_mean\": 125.42857142857143}, {\"date\": \"2022-03-30T00:00:00\", \"screenshots\": 93, \"rolling_mean\": 122.71428571428571}, {\"date\": \"2022-03-31T00:00:00\", \"screenshots\": 107, \"rolling_mean\": 122.85714285714286}, {\"date\": \"2022-04-01T00:00:00\", \"screenshots\": 123, \"rolling_mean\": 118.85714285714286}, {\"date\": \"2022-04-02T00:00:00\", \"screenshots\": 118, \"rolling_mean\": 117.85714285714286}, {\"date\": \"2022-04-03T00:00:00\", \"screenshots\": 58, \"rolling_mean\": 108.85714285714286}, {\"date\": \"2022-04-04T00:00:00\", \"screenshots\": 144, \"rolling_mean\": 111.42857142857143}, {\"date\": \"2022-04-05T00:00:00\", \"screenshots\": 133, \"rolling_mean\": 110.85714285714286}, {\"date\": \"2022-04-06T00:00:00\", \"screenshots\": 146, \"rolling_mean\": 118.42857142857143}, {\"date\": \"2022-04-07T00:00:00\", \"screenshots\": 144, \"rolling_mean\": 123.71428571428571}, {\"date\": \"2022-04-08T00:00:00\", \"screenshots\": 131, \"rolling_mean\": 124.85714285714286}, {\"date\": \"2022-04-09T00:00:00\", \"screenshots\": 155, \"rolling_mean\": 130.14285714285714}, {\"date\": \"2022-04-10T00:00:00\", \"screenshots\": 153, \"rolling_mean\": 143.71428571428572}, {\"date\": \"2022-04-11T00:00:00\", \"screenshots\": 155, \"rolling_mean\": 145.28571428571428}, {\"date\": \"2022-04-12T00:00:00\", \"screenshots\": 156, \"rolling_mean\": 148.57142857142858}, {\"date\": \"2022-04-13T00:00:00\", \"screenshots\": 154, \"rolling_mean\": 149.71428571428572}, {\"date\": \"2022-04-14T00:00:00\", \"screenshots\": 141, \"rolling_mean\": 149.28571428571428}, {\"date\": \"2022-04-15T00:00:00\", \"screenshots\": 152, \"rolling_mean\": 152.28571428571428}, {\"date\": \"2022-04-16T00:00:00\", \"screenshots\": 167, \"rolling_mean\": 154.0}, {\"date\": \"2022-04-17T00:00:00\", \"screenshots\": 156, \"rolling_mean\": 154.42857142857142}, {\"date\": \"2022-04-18T00:00:00\", \"screenshots\": 164, \"rolling_mean\": 155.71428571428572}, {\"date\": \"2022-04-19T00:00:00\", \"screenshots\": 142, \"rolling_mean\": 153.71428571428572}, {\"date\": \"2022-04-20T00:00:00\", \"screenshots\": 153, \"rolling_mean\": 153.57142857142858}, {\"date\": \"2022-04-21T00:00:00\", \"screenshots\": 148, \"rolling_mean\": 154.57142857142858}, {\"date\": \"2022-04-22T00:00:00\", \"screenshots\": 153, \"rolling_mean\": 154.71428571428572}, {\"date\": \"2022-04-23T00:00:00\", \"screenshots\": 166, \"rolling_mean\": 154.57142857142858}, {\"date\": \"2022-04-24T00:00:00\", \"screenshots\": 166, \"rolling_mean\": 156.0}, {\"date\": \"2022-04-25T00:00:00\", \"screenshots\": 148, \"rolling_mean\": 153.71428571428572}, {\"date\": \"2022-04-26T00:00:00\", \"screenshots\": 161, \"rolling_mean\": 156.42857142857142}, {\"date\": \"2022-04-27T00:00:00\", \"screenshots\": 164, \"rolling_mean\": 158.0}, {\"date\": \"2022-04-28T00:00:00\", \"screenshots\": 157, \"rolling_mean\": 159.28571428571428}, {\"date\": \"2022-04-29T00:00:00\", \"screenshots\": 159, \"rolling_mean\": 160.14285714285714}, {\"date\": \"2022-04-30T00:00:00\", \"screenshots\": 161, \"rolling_mean\": 159.42857142857142}, {\"date\": \"2022-05-01T00:00:00\", \"screenshots\": 162, \"rolling_mean\": 158.85714285714286}, {\"date\": \"2022-05-02T00:00:00\", \"screenshots\": 165, \"rolling_mean\": 161.28571428571428}, {\"date\": \"2022-05-03T00:00:00\", \"screenshots\": 160, \"rolling_mean\": 161.14285714285714}, {\"date\": \"2022-05-04T00:00:00\", \"screenshots\": 161, \"rolling_mean\": 160.71428571428572}, {\"date\": \"2022-05-05T00:00:00\", \"screenshots\": 163, \"rolling_mean\": 161.57142857142858}, {\"date\": \"2022-05-06T00:00:00\", \"screenshots\": 161, \"rolling_mean\": 161.85714285714286}, {\"date\": \"2022-05-07T00:00:00\", \"screenshots\": 153, \"rolling_mean\": 160.71428571428572}, {\"date\": \"2022-05-08T00:00:00\", \"screenshots\": 157, \"rolling_mean\": 160.0}, {\"date\": \"2022-05-09T00:00:00\", \"screenshots\": 138, \"rolling_mean\": 156.14285714285714}, {\"date\": \"2022-05-10T00:00:00\", \"screenshots\": 154, \"rolling_mean\": 155.28571428571428}, {\"date\": \"2022-05-11T00:00:00\", \"screenshots\": 107, \"rolling_mean\": 147.57142857142858}, {\"date\": \"2022-05-12T00:00:00\", \"screenshots\": 135, \"rolling_mean\": 143.57142857142858}, {\"date\": \"2022-05-13T00:00:00\", \"screenshots\": 134, \"rolling_mean\": 139.71428571428572}, {\"date\": \"2022-05-14T00:00:00\", \"screenshots\": 153, \"rolling_mean\": 139.71428571428572}, {\"date\": \"2022-05-15T00:00:00\", \"screenshots\": 135, \"rolling_mean\": 136.57142857142858}, {\"date\": \"2022-05-16T00:00:00\", \"screenshots\": 131, \"rolling_mean\": 135.57142857142858}, {\"date\": \"2022-05-17T00:00:00\", \"screenshots\": 132, \"rolling_mean\": 132.42857142857142}, {\"date\": \"2022-05-18T00:00:00\", \"screenshots\": 118, \"rolling_mean\": 134.0}, {\"date\": \"2022-05-19T00:00:00\", \"screenshots\": 116, \"rolling_mean\": 131.28571428571428}, {\"date\": \"2022-05-20T00:00:00\", \"screenshots\": 122, \"rolling_mean\": 129.57142857142858}, {\"date\": \"2022-05-21T00:00:00\", \"screenshots\": 166, \"rolling_mean\": 131.42857142857142}, {\"date\": \"2022-05-22T00:00:00\", \"screenshots\": 150, \"rolling_mean\": 133.57142857142858}, {\"date\": \"2022-05-23T00:00:00\", \"screenshots\": 149, \"rolling_mean\": 136.14285714285714}, {\"date\": \"2022-05-24T00:00:00\", \"screenshots\": 148, \"rolling_mean\": 138.42857142857142}, {\"date\": \"2022-05-25T00:00:00\", \"screenshots\": 143, \"rolling_mean\": 142.0}, {\"date\": \"2022-05-26T00:00:00\", \"screenshots\": 145, \"rolling_mean\": 146.14285714285714}, {\"date\": \"2022-05-27T00:00:00\", \"screenshots\": 133, \"rolling_mean\": 147.71428571428572}, {\"date\": \"2022-05-28T00:00:00\", \"screenshots\": 107, \"rolling_mean\": 139.28571428571428}, {\"date\": \"2022-05-29T00:00:00\", \"screenshots\": 145, \"rolling_mean\": 138.57142857142858}, {\"date\": \"2022-05-30T00:00:00\", \"screenshots\": 160, \"rolling_mean\": 140.14285714285714}, {\"date\": \"2022-05-31T00:00:00\", \"screenshots\": 160, \"rolling_mean\": 141.85714285714286}, {\"date\": \"2022-06-01T00:00:00\", \"screenshots\": 124, \"rolling_mean\": 139.14285714285714}, {\"date\": \"2022-06-02T00:00:00\", \"screenshots\": 121, \"rolling_mean\": 135.71428571428572}, {\"date\": \"2022-06-03T00:00:00\", \"screenshots\": 151, \"rolling_mean\": 138.28571428571428}, {\"date\": \"2022-06-04T00:00:00\", \"screenshots\": 159, \"rolling_mean\": 145.71428571428572}, {\"date\": \"2022-06-05T00:00:00\", \"screenshots\": 130, \"rolling_mean\": 143.57142857142858}, {\"date\": \"2022-06-06T00:00:00\", \"screenshots\": 124, \"rolling_mean\": 138.42857142857142}, {\"date\": \"2022-06-07T00:00:00\", \"screenshots\": 153, \"rolling_mean\": 137.42857142857142}, {\"date\": \"2022-06-08T00:00:00\", \"screenshots\": 118, \"rolling_mean\": 136.57142857142858}, {\"date\": \"2022-06-09T00:00:00\", \"screenshots\": 161, \"rolling_mean\": 142.28571428571428}, {\"date\": \"2022-06-10T00:00:00\", \"screenshots\": 120, \"rolling_mean\": 137.85714285714286}, {\"date\": \"2022-06-11T00:00:00\", \"screenshots\": 147, \"rolling_mean\": 136.14285714285714}, {\"date\": \"2022-06-12T00:00:00\", \"screenshots\": 149, \"rolling_mean\": 138.85714285714286}, {\"date\": \"2022-06-13T00:00:00\", \"screenshots\": 148, \"rolling_mean\": 142.28571428571428}, {\"date\": \"2022-06-14T00:00:00\", \"screenshots\": 137, \"rolling_mean\": 140.0}, {\"date\": \"2022-06-15T00:00:00\", \"screenshots\": 135, \"rolling_mean\": 142.42857142857142}, {\"date\": \"2022-06-16T00:00:00\", \"screenshots\": 124, \"rolling_mean\": 137.14285714285714}, {\"date\": \"2022-06-17T00:00:00\", \"screenshots\": 409, \"rolling_mean\": 178.42857142857142}, {\"date\": \"2022-06-18T00:00:00\", \"screenshots\": 645, \"rolling_mean\": 249.57142857142858}, {\"date\": \"2022-06-19T00:00:00\", \"screenshots\": 818, \"rolling_mean\": 345.14285714285717}, {\"date\": \"2022-06-20T00:00:00\", \"screenshots\": 881, \"rolling_mean\": 449.85714285714283}, {\"date\": \"2022-06-21T00:00:00\", \"screenshots\": 740, \"rolling_mean\": 536.0}, {\"date\": \"2022-06-22T00:00:00\", \"screenshots\": 434, \"rolling_mean\": 578.7142857142857}, {\"date\": \"2022-06-23T00:00:00\", \"screenshots\": 443, \"rolling_mean\": 624.2857142857143}, {\"date\": \"2022-06-24T00:00:00\", \"screenshots\": 627, \"rolling_mean\": 655.4285714285714}, {\"date\": \"2022-06-25T00:00:00\", \"screenshots\": 723, \"rolling_mean\": 666.5714285714286}, {\"date\": \"2022-06-26T00:00:00\", \"screenshots\": 596, \"rolling_mean\": 634.8571428571429}, {\"date\": \"2022-06-27T00:00:00\", \"screenshots\": 575, \"rolling_mean\": 591.1428571428571}, {\"date\": \"2022-06-28T00:00:00\", \"screenshots\": 798, \"rolling_mean\": 599.4285714285714}, {\"date\": \"2022-06-29T00:00:00\", \"screenshots\": 1045, \"rolling_mean\": 686.7142857142857}, {\"date\": \"2022-06-30T00:00:00\", \"screenshots\": 1484, \"rolling_mean\": 835.4285714285714}, {\"date\": \"2022-07-01T00:00:00\", \"screenshots\": 569, \"rolling_mean\": 827.1428571428571}, {\"date\": \"2022-07-02T00:00:00\", \"screenshots\": 565, \"rolling_mean\": 804.5714285714286}, {\"date\": \"2022-07-03T00:00:00\", \"screenshots\": 578, \"rolling_mean\": 802.0}, {\"date\": \"2022-07-04T00:00:00\", \"screenshots\": 992, \"rolling_mean\": 861.5714285714286}, {\"date\": \"2022-07-05T00:00:00\", \"screenshots\": 747, \"rolling_mean\": 854.2857142857143}, {\"date\": \"2022-07-06T00:00:00\", \"screenshots\": 725, \"rolling_mean\": 808.5714285714286}, {\"date\": \"2022-07-07T00:00:00\", \"screenshots\": 747, \"rolling_mean\": 703.2857142857143}, {\"date\": \"2022-07-08T00:00:00\", \"screenshots\": 814, \"rolling_mean\": 738.2857142857143}, {\"date\": \"2022-07-09T00:00:00\", \"screenshots\": 1000, \"rolling_mean\": 800.4285714285714}, {\"date\": \"2022-07-10T00:00:00\", \"screenshots\": 983, \"rolling_mean\": 858.2857142857143}, {\"date\": \"2022-07-11T00:00:00\", \"screenshots\": 1013, \"rolling_mean\": 861.2857142857143}, {\"date\": \"2022-07-12T00:00:00\", \"screenshots\": 998, \"rolling_mean\": 897.1428571428571}, {\"date\": \"2022-07-13T00:00:00\", \"screenshots\": 1058, \"rolling_mean\": 944.7142857142857}, {\"date\": \"2022-07-14T00:00:00\", \"screenshots\": 1016, \"rolling_mean\": 983.1428571428571}, {\"date\": \"2022-07-15T00:00:00\", \"screenshots\": 1048, \"rolling_mean\": 1016.5714285714286}, {\"date\": \"2022-07-16T00:00:00\", \"screenshots\": 1047, \"rolling_mean\": 1023.2857142857143}, {\"date\": \"2022-07-17T00:00:00\", \"screenshots\": 1066, \"rolling_mean\": 1035.142857142857}, {\"date\": \"2022-07-18T00:00:00\", \"screenshots\": 1121, \"rolling_mean\": 1050.5714285714287}, {\"date\": \"2022-07-19T00:00:00\", \"screenshots\": 1170, \"rolling_mean\": 1075.142857142857}, {\"date\": \"2022-07-20T00:00:00\", \"screenshots\": 1252, \"rolling_mean\": 1102.857142857143}, {\"date\": \"2022-07-21T00:00:00\", \"screenshots\": 1279, \"rolling_mean\": 1140.4285714285713}, {\"date\": \"2022-07-22T00:00:00\", \"screenshots\": 1293, \"rolling_mean\": 1175.4285714285713}, {\"date\": \"2022-07-23T00:00:00\", \"screenshots\": 1385, \"rolling_mean\": 1223.7142857142858}, {\"date\": \"2022-07-24T00:00:00\", \"screenshots\": 1226, \"rolling_mean\": 1246.5714285714287}, {\"date\": \"2022-07-25T00:00:00\", \"screenshots\": 1581, \"rolling_mean\": 1312.2857142857142}, {\"date\": \"2022-07-26T00:00:00\", \"screenshots\": 1592, \"rolling_mean\": 1372.5714285714287}, {\"date\": \"2022-07-27T00:00:00\", \"screenshots\": 1424, \"rolling_mean\": 1397.142857142857}, {\"date\": \"2022-07-28T00:00:00\", \"screenshots\": 1530, \"rolling_mean\": 1433.0}, {\"date\": \"2022-07-29T00:00:00\", \"screenshots\": 1430, \"rolling_mean\": 1452.5714285714287}, {\"date\": \"2022-07-30T00:00:00\", \"screenshots\": 1660, \"rolling_mean\": 1491.857142857143}, {\"date\": \"2022-07-31T00:00:00\", \"screenshots\": 1403, \"rolling_mean\": 1517.142857142857}, {\"date\": \"2022-08-01T00:00:00\", \"screenshots\": 1714, \"rolling_mean\": 1536.142857142857}, {\"date\": \"2022-08-02T00:00:00\", \"screenshots\": 1566, \"rolling_mean\": 1532.4285714285713}, {\"date\": \"2022-08-03T00:00:00\", \"screenshots\": 1617, \"rolling_mean\": 1560.0}, {\"date\": \"2022-08-04T00:00:00\", \"screenshots\": 1679, \"rolling_mean\": 1581.2857142857142}, {\"date\": \"2022-08-05T00:00:00\", \"screenshots\": 1830, \"rolling_mean\": 1638.4285714285713}, {\"date\": \"2022-08-06T00:00:00\", \"screenshots\": 1521, \"rolling_mean\": 1618.5714285714287}, {\"date\": \"2022-08-07T00:00:00\", \"screenshots\": 1709, \"rolling_mean\": 1662.2857142857142}, {\"date\": \"2022-08-08T00:00:00\", \"screenshots\": 1708, \"rolling_mean\": 1661.4285714285713}, {\"date\": \"2022-08-09T00:00:00\", \"screenshots\": 1839, \"rolling_mean\": 1700.4285714285713}, {\"date\": \"2022-08-10T00:00:00\", \"screenshots\": 1558, \"rolling_mean\": 1692.0}, {\"date\": \"2022-08-11T00:00:00\", \"screenshots\": 1901, \"rolling_mean\": 1723.7142857142858}, {\"date\": \"2022-08-12T00:00:00\", \"screenshots\": 1608, \"rolling_mean\": 1692.0}, {\"date\": \"2022-08-13T00:00:00\", \"screenshots\": 1823, \"rolling_mean\": 1735.142857142857}, {\"date\": \"2022-08-14T00:00:00\", \"screenshots\": 1628, \"rolling_mean\": 1723.5714285714287}, {\"date\": \"2022-08-15T00:00:00\", \"screenshots\": 1774, \"rolling_mean\": 1733.0}, {\"date\": \"2022-08-16T00:00:00\", \"screenshots\": 1813, \"rolling_mean\": 1729.2857142857142}]}}, {\"mode\": \"vega-lite\"});\n",
       "</script>"
      ],
      "text/plain": [
       "alt.LayerChart(...)"
      ]
     },
     "execution_count": 32,
     "metadata": {},
     "output_type": "execute_result"
    }
   ],
   "source": [
    "chart = alt.Chart(\n",
    "    screenshots_by_date.head(len(screenshots_by_date) - 1),\n",
    "    title=\"Screenshots saved by day\",\n",
    ")\n",
    "\n",
    "bars = chart.mark_bar(\n",
    "    fill=\"#cecece\"\n",
    ").encode(\n",
    "    x=alt.X(\"date:T\", title=None, timeUnit=\"yearmonthdate\", axis=alt.Axis(format=\"%B %-d\", grid=False)),\n",
    "    y=alt.Y(\"screenshots:Q\", title=None),\n",
    ")\n",
    "\n",
    "line = chart.mark_line(color='#727272', strokeWidth=3).encode(\n",
    "    x='date:T',\n",
    "    y='rolling_mean:Q'\n",
    ")\n",
    "\n",
    "label = chart.encode(\n",
    "    x=alt.X('max(date):T'),\n",
    "    y=alt.Y('rolling_mean:Q', aggregate=alt.ArgmaxDef(argmax='date')),\n",
    "    text='rolling_mean'\n",
    ")\n",
    "\n",
    "# Create a text label\n",
    "text = label.mark_text(align='left', dx=4)\n",
    "\n",
    "# Create a circle annotation\n",
    "circle = label.mark_circle(size=75, color=\"#727272\")\n",
    "\n",
    "(bars + line + circle)"
   ]
  },
  {
   "cell_type": "code",
   "execution_count": 33,
   "id": "620c0eae-9e58-4c4a-b179-5ca90ba31911",
   "metadata": {},
   "outputs": [],
   "source": [
    "if os.getenv(\"CI\"):\n",
    "    (bars + line + circle).save(this_dir / 'screenshots-by-date.png')"
   ]
  }
 ],
 "metadata": {
  "kernelspec": {
   "display_name": "Python 3 (ipykernel)",
   "language": "python",
   "name": "python3"
  },
  "language_info": {
   "codemirror_mode": {
    "name": "ipython",
    "version": 3
   },
   "file_extension": ".py",
   "mimetype": "text/x-python",
   "name": "python",
   "nbconvert_exporter": "python",
   "pygments_lexer": "ipython3",
   "version": "3.9.9"
  }
 },
 "nbformat": 4,
 "nbformat_minor": 5
}
